{
 "cells": [
  {
   "cell_type": "code",
   "execution_count": 5,
   "id": "25fda8d4",
   "metadata": {},
   "outputs": [],
   "source": [
    "from typing import TypedDict, List, Annotated\n",
    "import operator\n",
    "from langgraph.checkpoint.memory import MemorySaver\n",
    "from langgraph.graph import StateGraph, MessagesState, START, END\n",
    "from IPython.display import Image, display"
   ]
  },
  {
   "cell_type": "code",
   "execution_count": 6,
   "id": "3dfe1d9b",
   "metadata": {},
   "outputs": [
    {
     "data": {
      "image/png": "[encoded data removed]",
      "text/plain": [
       "<IPython.core.display.Image object>"
      ]
     },
     "metadata": {},
     "output_type": "display_data"
    }
   ],
   "source": [
    "class State(TypedDict):\n",
    "  value: Annotated[List[str], operator.add]\n",
    "\n",
    "def node_a(state: State):\n",
    "  return {\"value\": [\"a\"]}\n",
    "\n",
    "def node_b(state: State):\n",
    "  return {\"value\": [\"b\"]}\n",
    "\n",
    "workflow = StateGraph(State)\n",
    "\n",
    "workflow.add_node(node_a)\n",
    "workflow.add_node(node_b)\n",
    "\n",
    "workflow.add_edge(START, \"node_a\")\n",
    "workflow.add_edge(\"node_a\", \"node_b\")\n",
    "workflow.add_edge(\"node_b\", END)\n",
    "\n",
    "graph = workflow.compile()\n",
    "\n",
    "display(\n",
    "  Image(\n",
    "    graph.get_graph().draw_mermaid_png()\n",
    "  )\n",
    ")"
   ]
  },
  {
   "cell_type": "code",
   "execution_count": 7,
   "id": "402d2082",
   "metadata": {},
   "outputs": [
    {
     "data": {
      "text/plain": [
       "{'value': ['a', 'b']}"
      ]
     },
     "execution_count": 7,
     "metadata": {},
     "output_type": "execute_result"
    }
   ],
   "source": [
    "graph.invoke({\"value\":[]})"
   ]
  },
  {
   "cell_type": "markdown",
   "id": "f4d7dfe0",
   "metadata": {},
   "source": [
    "Checkpoints"
   ]
  },
  {
   "cell_type": "code",
   "execution_count": 8,
   "id": "31c3b30f",
   "metadata": {},
   "outputs": [],
   "source": [
    "checkpointer = MemorySaver()\n",
    "graph = workflow.compile(checkpointer=checkpointer)"
   ]
  },
  {
   "cell_type": "code",
   "execution_count": 9,
   "id": "bd884453",
   "metadata": {},
   "outputs": [
    {
     "data": {
      "text/plain": [
       "{'value': ['a', 'b']}"
      ]
     },
     "execution_count": 9,
     "metadata": {},
     "output_type": "execute_result"
    }
   ],
   "source": [
    "config = {\"configurable\": {\"thread_id\": \"1\"}}\n",
    "graph.invoke({\"value\": []}, config)"
   ]
  },
  {
   "cell_type": "code",
   "execution_count": 10,
   "id": "36863b42",
   "metadata": {},
   "outputs": [
    {
     "data": {
      "text/plain": [
       "{'value': ['a', 'b', 'a', 'b']}"
      ]
     },
     "execution_count": 10,
     "metadata": {},
     "output_type": "execute_result"
    }
   ],
   "source": [
    "config = {\"configurable\": {\"thread_id\": \"1\"}}\n",
    "graph.invoke({\"value\": []}, config)"
   ]
  },
  {
   "cell_type": "code",
   "execution_count": 11,
   "id": "30cd3434",
   "metadata": {},
   "outputs": [
    {
     "data": {
      "text/plain": [
       "{'value': ['a', 'b']}"
      ]
     },
     "execution_count": 11,
     "metadata": {},
     "output_type": "execute_result"
    }
   ],
   "source": [
    "config = {\"configurable\": {\"thread_id\": \"2\"}}\n",
    "graph.invoke({\"value\": []}, config)"
   ]
  },
  {
   "cell_type": "code",
   "execution_count": 14,
   "id": "d1fb93f1",
   "metadata": {},
   "outputs": [
    {
     "data": {
      "text/plain": [
       "{'value': ['a', 'b', 'a', 'b', 'a', 'b']}"
      ]
     },
     "execution_count": 14,
     "metadata": {},
     "output_type": "execute_result"
    }
   ],
   "source": [
    "config = {\"configurable\": {\"thread_id\": \"3\"}}\n",
    "graph.invoke({\"value\": []}, config)"
   ]
  },
  {
   "cell_type": "code",
   "execution_count": 15,
   "id": "f001084c",
   "metadata": {},
   "outputs": [
    {
     "data": {
      "text/plain": [
       "[StateSnapshot(values={'value': ['a', 'b', 'a', 'b']}, next=(), config={'configurable': {'thread_id': '1', 'checkpoint_ns': '', 'checkpoint_id': '1f05383d-cd6a-6554-8006-db822ecd501a'}}, metadata={'source': 'loop', 'writes': {'node_b': {'value': ['b']}}, 'step': 6, 'parents': {}, 'thread_id': '1'}, created_at='2025-06-27T18:23:45.936103+00:00', parent_config={'configurable': {'thread_id': '1', 'checkpoint_ns': '', 'checkpoint_id': '1f05383d-cd69-6403-8005-d79b668f16f3'}}, tasks=(), interrupts=()),\n",
       " StateSnapshot(values={'value': ['a', 'b', 'a']}, next=('node_b',), config={'configurable': {'thread_id': '1', 'checkpoint_ns': '', 'checkpoint_id': '1f05383d-cd69-6403-8005-d79b668f16f3'}}, metadata={'source': 'loop', 'writes': {'node_a': {'value': ['a']}}, 'step': 5, 'parents': {}, 'thread_id': '1'}, created_at='2025-06-27T18:23:45.935659+00:00', parent_config={'configurable': {'thread_id': '1', 'checkpoint_ns': '', 'checkpoint_id': '1f05383d-cd68-627e-8004-2f0e925e6ee2'}}, tasks=(PregelTask(id='57758f85-6209-ffed-6774-6cccaa05b2f0', name='node_b', path=('__pregel_pull', 'node_b'), error=None, interrupts=(), state=None, result={'value': ['b']}),), interrupts=()),\n",
       " StateSnapshot(values={'value': ['a', 'b']}, next=('node_a',), config={'configurable': {'thread_id': '1', 'checkpoint_ns': '', 'checkpoint_id': '1f05383d-cd68-627e-8004-2f0e925e6ee2'}}, metadata={'source': 'loop', 'writes': None, 'step': 4, 'parents': {}, 'thread_id': '1'}, created_at='2025-06-27T18:23:45.935212+00:00', parent_config={'configurable': {'thread_id': '1', 'checkpoint_ns': '', 'checkpoint_id': '1f05383d-cd66-6241-8003-4fa69d0a5a2c'}}, tasks=(PregelTask(id='68a4c71a-db3a-a0d2-faaf-3d336d9c090c', name='node_a', path=('__pregel_pull', 'node_a'), error=None, interrupts=(), state=None, result={'value': ['a']}),), interrupts=()),\n",
       " StateSnapshot(values={'value': ['a', 'b']}, next=('__start__',), config={'configurable': {'thread_id': '1', 'checkpoint_ns': '', 'checkpoint_id': '1f05383d-cd66-6241-8003-4fa69d0a5a2c'}}, metadata={'source': 'input', 'writes': {'__start__': {'value': []}}, 'step': 3, 'parents': {}, 'thread_id': '1'}, created_at='2025-06-27T18:23:45.934386+00:00', parent_config={'configurable': {'thread_id': '1', 'checkpoint_ns': '', 'checkpoint_id': '1f05383c-3912-6985-8002-5a7e1ab4fa2a'}}, tasks=(PregelTask(id='fdbb68f7-ede4-2945-b8b9-7b485c39ce0e', name='__start__', path=('__pregel_pull', '__start__'), error=None, interrupts=(), state=None, result={'value': []}),), interrupts=()),\n",
       " StateSnapshot(values={'value': ['a', 'b']}, next=(), config={'configurable': {'thread_id': '1', 'checkpoint_ns': '', 'checkpoint_id': '1f05383c-3912-6985-8002-5a7e1ab4fa2a'}}, metadata={'source': 'loop', 'writes': {'node_b': {'value': ['b']}}, 'step': 2, 'parents': {}, 'thread_id': '1'}, created_at='2025-06-27T18:23:03.537696+00:00', parent_config={'configurable': {'thread_id': '1', 'checkpoint_ns': '', 'checkpoint_id': '1f05383c-3911-60b7-8001-6384a94d0467'}}, tasks=(), interrupts=()),\n",
       " StateSnapshot(values={'value': ['a']}, next=('node_b',), config={'configurable': {'thread_id': '1', 'checkpoint_ns': '', 'checkpoint_id': '1f05383c-3911-60b7-8001-6384a94d0467'}}, metadata={'source': 'loop', 'writes': {'node_a': {'value': ['a']}}, 'step': 1, 'parents': {}, 'thread_id': '1'}, created_at='2025-06-27T18:23:03.537062+00:00', parent_config={'configurable': {'thread_id': '1', 'checkpoint_ns': '', 'checkpoint_id': '1f05383c-390f-6c63-8000-2f4ac4c15b4c'}}, tasks=(PregelTask(id='ce95d2f7-7be8-551f-2a15-1e1f6b332e7f', name='node_b', path=('__pregel_pull', 'node_b'), error=None, interrupts=(), state=None, result={'value': ['b']}),), interrupts=()),\n",
       " StateSnapshot(values={'value': []}, next=('node_a',), config={'configurable': {'thread_id': '1', 'checkpoint_ns': '', 'checkpoint_id': '1f05383c-390f-6c63-8000-2f4ac4c15b4c'}}, metadata={'source': 'loop', 'writes': None, 'step': 0, 'parents': {}, 'thread_id': '1'}, created_at='2025-06-27T18:23:03.536540+00:00', parent_config={'configurable': {'thread_id': '1', 'checkpoint_ns': '', 'checkpoint_id': '1f05383c-390d-697b-bfff-f121d4d61e34'}}, tasks=(PregelTask(id='2f6e6848-7c29-60cf-8c5e-fe90fde11e6c', name='node_a', path=('__pregel_pull', 'node_a'), error=None, interrupts=(), state=None, result={'value': ['a']}),), interrupts=()),\n",
       " StateSnapshot(values={'value': []}, next=('__start__',), config={'configurable': {'thread_id': '1', 'checkpoint_ns': '', 'checkpoint_id': '1f05383c-390d-697b-bfff-f121d4d61e34'}}, metadata={'source': 'input', 'writes': {'__start__': {'value': []}}, 'step': -1, 'parents': {}, 'thread_id': '1'}, created_at='2025-06-27T18:23:03.535648+00:00', parent_config=None, tasks=(PregelTask(id='8b7b5a6c-2b50-c44d-e4aa-255c045ed100', name='__start__', path=('__pregel_pull', '__start__'), error=None, interrupts=(), state=None, result={'value': []}),), interrupts=())]"
      ]
     },
     "execution_count": 15,
     "metadata": {},
     "output_type": "execute_result"
    }
   ],
   "source": [
    "list(graph.get_state_history({\"configurable\": {\"thread_id\": \"1\"}}))"
   ]
  },
  {
   "cell_type": "code",
   "execution_count": 16,
   "id": "49057fe6",
   "metadata": {},
   "outputs": [
    {
     "data": {
      "text/plain": [
       "[StateSnapshot(values={'value': ['a', 'b']}, next=(), config={'configurable': {'thread_id': '2', 'checkpoint_ns': '', 'checkpoint_id': '1f05383e-4465-66e7-8002-1c92af589370'}}, metadata={'source': 'loop', 'writes': {'node_b': {'value': ['b']}}, 'step': 2, 'parents': {}, 'thread_id': '2'}, created_at='2025-06-27T18:23:58.412151+00:00', parent_config={'configurable': {'thread_id': '2', 'checkpoint_ns': '', 'checkpoint_id': '1f05383e-4464-6897-8001-d42bf2b07ae9'}}, tasks=(), interrupts=()),\n",
       " StateSnapshot(values={'value': ['a']}, next=('node_b',), config={'configurable': {'thread_id': '2', 'checkpoint_ns': '', 'checkpoint_id': '1f05383e-4464-6897-8001-d42bf2b07ae9'}}, metadata={'source': 'loop', 'writes': {'node_a': {'value': ['a']}}, 'step': 1, 'parents': {}, 'thread_id': '2'}, created_at='2025-06-27T18:23:58.411775+00:00', parent_config={'configurable': {'thread_id': '2', 'checkpoint_ns': '', 'checkpoint_id': '1f05383e-4462-681d-8000-051452164b92'}}, tasks=(PregelTask(id='862e2c4a-3e38-f125-61a7-f310b077ee3d', name='node_b', path=('__pregel_pull', 'node_b'), error=None, interrupts=(), state=None, result={'value': ['b']}),), interrupts=()),\n",
       " StateSnapshot(values={'value': []}, next=('node_a',), config={'configurable': {'thread_id': '2', 'checkpoint_ns': '', 'checkpoint_id': '1f05383e-4462-681d-8000-051452164b92'}}, metadata={'source': 'loop', 'writes': None, 'step': 0, 'parents': {}, 'thread_id': '2'}, created_at='2025-06-27T18:23:58.410952+00:00', parent_config={'configurable': {'thread_id': '2', 'checkpoint_ns': '', 'checkpoint_id': '1f05383e-4460-65de-bfff-d72f10ed945c'}}, tasks=(PregelTask(id='e423b319-3c13-73fa-47cd-698458afc0c3', name='node_a', path=('__pregel_pull', 'node_a'), error=None, interrupts=(), state=None, result={'value': ['a']}),), interrupts=()),\n",
       " StateSnapshot(values={'value': []}, next=('__start__',), config={'configurable': {'thread_id': '2', 'checkpoint_ns': '', 'checkpoint_id': '1f05383e-4460-65de-bfff-d72f10ed945c'}}, metadata={'source': 'input', 'writes': {'__start__': {'value': []}}, 'step': -1, 'parents': {}, 'thread_id': '2'}, created_at='2025-06-27T18:23:58.410078+00:00', parent_config=None, tasks=(PregelTask(id='6bc41722-827c-f8f4-11c1-6655ab0a2646', name='__start__', path=('__pregel_pull', '__start__'), error=None, interrupts=(), state=None, result={'value': []}),), interrupts=())]"
      ]
     },
     "execution_count": 16,
     "metadata": {},
     "output_type": "execute_result"
    }
   ],
   "source": [
    "list(graph.get_state_history({\"configurable\": {\"thread_id\": \"2\"}}))"
   ]
  },
  {
   "cell_type": "code",
   "execution_count": 17,
   "id": "05544f0b",
   "metadata": {},
   "outputs": [
    {
     "data": {
      "text/plain": [
       "[StateSnapshot(values={'value': ['a', 'b', 'a', 'b', 'a', 'b']}, next=(), config={'configurable': {'thread_id': '3', 'checkpoint_ns': '', 'checkpoint_id': '1f053841-9e24-6f9a-800a-9e26a8ad547e'}}, metadata={'source': 'loop', 'writes': {'node_b': {'value': ['b']}}, 'step': 10, 'parents': {}, 'thread_id': '3'}, created_at='2025-06-27T18:25:28.353571+00:00', parent_config={'configurable': {'thread_id': '3', 'checkpoint_ns': '', 'checkpoint_id': '1f053841-9e24-602a-8009-a9155014ee66'}}, tasks=(), interrupts=()),\n",
       " StateSnapshot(values={'value': ['a', 'b', 'a', 'b', 'a']}, next=('node_b',), config={'configurable': {'thread_id': '3', 'checkpoint_ns': '', 'checkpoint_id': '1f053841-9e24-602a-8009-a9155014ee66'}}, metadata={'source': 'loop', 'writes': {'node_a': {'value': ['a']}}, 'step': 9, 'parents': {}, 'thread_id': '3'}, created_at='2025-06-27T18:25:28.353175+00:00', parent_config={'configurable': {'thread_id': '3', 'checkpoint_ns': '', 'checkpoint_id': '1f053841-9e22-6d64-8008-6292c163fddf'}}, tasks=(PregelTask(id='1af013a7-49fb-02b0-a032-aeecad75d485', name='node_b', path=('__pregel_pull', 'node_b'), error=None, interrupts=(), state=None, result={'value': ['b']}),), interrupts=()),\n",
       " StateSnapshot(values={'value': ['a', 'b', 'a', 'b']}, next=('node_a',), config={'configurable': {'thread_id': '3', 'checkpoint_ns': '', 'checkpoint_id': '1f053841-9e22-6d64-8008-6292c163fddf'}}, metadata={'source': 'loop', 'writes': None, 'step': 8, 'parents': {}, 'thread_id': '3'}, created_at='2025-06-27T18:25:28.352694+00:00', parent_config={'configurable': {'thread_id': '3', 'checkpoint_ns': '', 'checkpoint_id': '1f053841-9e20-683f-8007-dad66b57f41f'}}, tasks=(PregelTask(id='512a6e56-54f2-9326-9120-78e233a550c6', name='node_a', path=('__pregel_pull', 'node_a'), error=None, interrupts=(), state=None, result={'value': ['a']}),), interrupts=()),\n",
       " StateSnapshot(values={'value': ['a', 'b', 'a', 'b']}, next=('__start__',), config={'configurable': {'thread_id': '3', 'checkpoint_ns': '', 'checkpoint_id': '1f053841-9e20-683f-8007-dad66b57f41f'}}, metadata={'source': 'input', 'writes': {'__start__': {'value': []}}, 'step': 7, 'parents': {}, 'thread_id': '3'}, created_at='2025-06-27T18:25:28.351741+00:00', parent_config={'configurable': {'thread_id': '3', 'checkpoint_ns': '', 'checkpoint_id': '1f053841-993f-69a9-8006-7eb0ea553d25'}}, tasks=(PregelTask(id='a788774e-67e9-bb51-fc3b-5d2c44c9a3d6', name='__start__', path=('__pregel_pull', '__start__'), error=None, interrupts=(), state=None, result={'value': []}),), interrupts=()),\n",
       " StateSnapshot(values={'value': ['a', 'b', 'a', 'b']}, next=(), config={'configurable': {'thread_id': '3', 'checkpoint_ns': '', 'checkpoint_id': '1f053841-993f-69a9-8006-7eb0ea553d25'}}, metadata={'source': 'loop', 'writes': {'node_b': {'value': ['b']}}, 'step': 6, 'parents': {}, 'thread_id': '3'}, created_at='2025-06-27T18:25:27.840179+00:00', parent_config={'configurable': {'thread_id': '3', 'checkpoint_ns': '', 'checkpoint_id': '1f053841-993d-6ae0-8005-0434ff904f6b'}}, tasks=(), interrupts=()),\n",
       " StateSnapshot(values={'value': ['a', 'b', 'a']}, next=('node_b',), config={'configurable': {'thread_id': '3', 'checkpoint_ns': '', 'checkpoint_id': '1f053841-993d-6ae0-8005-0434ff904f6b'}}, metadata={'source': 'loop', 'writes': {'node_a': {'value': ['a']}}, 'step': 5, 'parents': {}, 'thread_id': '3'}, created_at='2025-06-27T18:25:27.839401+00:00', parent_config={'configurable': {'thread_id': '3', 'checkpoint_ns': '', 'checkpoint_id': '1f053841-993c-63dd-8004-5bb6854ce396'}}, tasks=(PregelTask(id='c67aa330-a842-4498-ada8-cfc8d37b4ba7', name='node_b', path=('__pregel_pull', 'node_b'), error=None, interrupts=(), state=None, result={'value': ['b']}),), interrupts=()),\n",
       " StateSnapshot(values={'value': ['a', 'b']}, next=('node_a',), config={'configurable': {'thread_id': '3', 'checkpoint_ns': '', 'checkpoint_id': '1f053841-993c-63dd-8004-5bb6854ce396'}}, metadata={'source': 'loop', 'writes': None, 'step': 4, 'parents': {}, 'thread_id': '3'}, created_at='2025-06-27T18:25:27.838812+00:00', parent_config={'configurable': {'thread_id': '3', 'checkpoint_ns': '', 'checkpoint_id': '1f053841-993a-6d44-8003-94b75f34260e'}}, tasks=(PregelTask(id='75b0ab6c-9568-2afa-02b4-27b8a2b5bcd4', name='node_a', path=('__pregel_pull', 'node_a'), error=None, interrupts=(), state=None, result={'value': ['a']}),), interrupts=()),\n",
       " StateSnapshot(values={'value': ['a', 'b']}, next=('__start__',), config={'configurable': {'thread_id': '3', 'checkpoint_ns': '', 'checkpoint_id': '1f053841-993a-6d44-8003-94b75f34260e'}}, metadata={'source': 'input', 'writes': {'__start__': {'value': []}}, 'step': 3, 'parents': {}, 'thread_id': '3'}, created_at='2025-06-27T18:25:27.838232+00:00', parent_config={'configurable': {'thread_id': '3', 'checkpoint_ns': '', 'checkpoint_id': '1f05383e-c714-6fa8-8002-90771ef19245'}}, tasks=(PregelTask(id='4f21d1ca-efb1-5cfb-6395-dad68b5a9037', name='__start__', path=('__pregel_pull', '__start__'), error=None, interrupts=(), state=None, result={'value': []}),), interrupts=()),\n",
       " StateSnapshot(values={'value': ['a', 'b']}, next=(), config={'configurable': {'thread_id': '3', 'checkpoint_ns': '', 'checkpoint_id': '1f05383e-c714-6fa8-8002-90771ef19245'}}, metadata={'source': 'loop', 'writes': {'node_b': {'value': ['b']}}, 'step': 2, 'parents': {}, 'thread_id': '3'}, created_at='2025-06-27T18:24:12.115543+00:00', parent_config={'configurable': {'thread_id': '3', 'checkpoint_ns': '', 'checkpoint_id': '1f05383e-c714-6124-8001-f96dae04ffa1'}}, tasks=(), interrupts=()),\n",
       " StateSnapshot(values={'value': ['a']}, next=('node_b',), config={'configurable': {'thread_id': '3', 'checkpoint_ns': '', 'checkpoint_id': '1f05383e-c714-6124-8001-f96dae04ffa1'}}, metadata={'source': 'loop', 'writes': {'node_a': {'value': ['a']}}, 'step': 1, 'parents': {}, 'thread_id': '3'}, created_at='2025-06-27T18:24:12.115171+00:00', parent_config={'configurable': {'thread_id': '3', 'checkpoint_ns': '', 'checkpoint_id': '1f05383e-c713-60e3-8000-f027ad302728'}}, tasks=(PregelTask(id='6cfbb625-aa0d-3daa-0fa5-adc5f9634e73', name='node_b', path=('__pregel_pull', 'node_b'), error=None, interrupts=(), state=None, result={'value': ['b']}),), interrupts=()),\n",
       " StateSnapshot(values={'value': []}, next=('node_a',), config={'configurable': {'thread_id': '3', 'checkpoint_ns': '', 'checkpoint_id': '1f05383e-c713-60e3-8000-f027ad302728'}}, metadata={'source': 'loop', 'writes': None, 'step': 0, 'parents': {}, 'thread_id': '3'}, created_at='2025-06-27T18:24:12.114755+00:00', parent_config={'configurable': {'thread_id': '3', 'checkpoint_ns': '', 'checkpoint_id': '1f05383e-c711-640e-bfff-9884088c08cf'}}, tasks=(PregelTask(id='8ffca53b-23ac-ca68-2ed7-4a8faf0a143b', name='node_a', path=('__pregel_pull', 'node_a'), error=None, interrupts=(), state=None, result={'value': ['a']}),), interrupts=()),\n",
       " StateSnapshot(values={'value': []}, next=('__start__',), config={'configurable': {'thread_id': '3', 'checkpoint_ns': '', 'checkpoint_id': '1f05383e-c711-640e-bfff-9884088c08cf'}}, metadata={'source': 'input', 'writes': {'__start__': {'value': []}}, 'step': -1, 'parents': {}, 'thread_id': '3'}, created_at='2025-06-27T18:24:12.114019+00:00', parent_config=None, tasks=(PregelTask(id='2c493bd8-d848-b425-4b87-aaa3f852fc22', name='__start__', path=('__pregel_pull', '__start__'), error=None, interrupts=(), state=None, result={'value': []}),), interrupts=())]"
      ]
     },
     "execution_count": 17,
     "metadata": {},
     "output_type": "execute_result"
    }
   ],
   "source": [
    "list(graph.get_state_history({\"configurable\": {\"thread_id\": \"3\"}}))"
   ]
  }
 ],
 "metadata": {
  "kernelspec": {
   "display_name": "venv",
   "language": "python",
   "name": "python3"
  },
  "language_info": {
   "codemirror_mode": {
    "name": "ipython",
    "version": 3
   },
   "file_extension": ".py",
   "mimetype": "text/x-python",
   "name": "python",
   "nbconvert_exporter": "python",
   "pygments_lexer": "ipython3",
   "version": "3.12.7"
  }
 },
 "nbformat": 4,
 "nbformat_minor": 5
}
