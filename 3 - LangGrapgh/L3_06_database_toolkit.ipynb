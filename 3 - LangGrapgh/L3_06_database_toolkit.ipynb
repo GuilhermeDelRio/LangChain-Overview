{
 "cells": [
  {
   "cell_type": "code",
   "execution_count": null,
   "id": "25fda8d4",
   "metadata": {},
   "outputs": [],
   "source": [
    "from typing import List\n",
    "import sqlalchemy\n",
    "from sqlalchemy.engine.base import Engine\n",
    "from sqlalchemy import text, create_engine\n",
    "import pandas as pd\n",
    "from langchain_core.tools import tool\n",
    "from langchain_core.runnables.config import RunnableConfig\n",
    "from langchain_openai import ChatOpenAI"
   ]
  },
  {
   "cell_type": "code",
   "execution_count": null,
   "id": "d2d9a2d4",
   "metadata": {},
   "outputs": [],
   "source": [
    "llm = ChatOpenAI(\n",
    "  model=\"gpt-4o-mini\",\n",
    "  temperature=0.0,\n",
    "  base_url=\"https://openai.vocareum.com/v1\"\n",
    ")"
   ]
  },
  {
   "cell_type": "code",
   "execution_count": null,
   "id": "8fe6f155",
   "metadata": {},
   "outputs": [],
   "source": [
    "db_engine = create_engine(f\"sqlite:///sales.db\")"
   ]
  },
  {
   "cell_type": "code",
   "execution_count": null,
   "id": "d4aa5207",
   "metadata": {},
   "outputs": [],
   "source": [
    "inspector = sqlalchemy.inspect(db_engine)"
   ]
  },
  {
   "cell_type": "code",
   "execution_count": null,
   "id": "6b45e350",
   "metadata": {},
   "outputs": [],
   "source": [
    "inspector.get_table_names()"
   ]
  },
  {
   "cell_type": "code",
   "execution_count": null,
   "id": "fa0a2424",
   "metadata": {},
   "outputs": [],
   "source": [
    "table_name = \"sales\"\n",
    "inspector.get_columns(table_name)"
   ]
  },
  {
   "cell_type": "code",
   "execution_count": null,
   "id": "8bddafe7",
   "metadata": {},
   "outputs": [],
   "source": [
    "schema = inspector.get_columns(table_name)\n",
    "column_names = [column[\"name\"] for column in schema]\n",
    "column_names"
   ]
  },
  {
   "cell_type": "code",
   "execution_count": null,
   "id": "3d1cfe05",
   "metadata": {},
   "outputs": [],
   "source": [
    "sql = f\"SELECT * FROM {table_name} LIMIT 10\""
   ]
  },
  {
   "cell_type": "code",
   "execution_count": null,
   "id": "184289be",
   "metadata": {},
   "outputs": [],
   "source": [
    "with db_engine.begin() as connection:\n",
    "  answer = connection.execute(text(sql)).fetchall()\n",
    "  \n",
    "answer"
   ]
  },
  {
   "cell_type": "code",
   "execution_count": null,
   "id": "0c7729b1",
   "metadata": {},
   "outputs": [],
   "source": [
    "pd.DataFrame(answer, columns=column_names)"
   ]
  },
  {
   "cell_type": "markdown",
   "id": "95b0c924",
   "metadata": {},
   "source": [
    "Tools"
   ]
  },
  {
   "cell_type": "code",
   "execution_count": 10,
   "id": "6dcd198c",
   "metadata": {},
   "outputs": [],
   "source": [
    "@tool\n",
    "def list_table_tool(config: RunnableConfig) -> List[str]:\n",
    "  \"\"\"\n",
    "  List all tables in database\n",
    "  \"\"\"\n",
    "  \n",
    "  db_engine:Engine = config.get(\"configurable\", {}).get(\"db_engine\")\n",
    "  inspector = sqlalchemy.inspect(db_engine)\n",
    "  \n",
    "  return inspector.get_table_names()"
   ]
  },
  {
   "cell_type": "code",
   "execution_count": 11,
   "id": "c37609b2",
   "metadata": {},
   "outputs": [],
   "source": [
    "@tool\n",
    "def get_table_schema_tool(table_name:str, config: RunnableConfig) -> List[str]:\n",
    "  \"\"\"\n",
    "  Get schema information about a table. Returns a list of dictionaries.\n",
    "  - name is the column name\n",
    "  - type is the column type\n",
    "  - nullable is whether the column is nullable or not\n",
    "  - default is the default value of the column\n",
    "  - primary_key is wheather the column is a primary key or not\n",
    "  \n",
    "  Args:\n",
    "    table_name (str): Table name\n",
    "  \"\"\"\n",
    "  \n",
    "  db_engine:Engine = config.get(\"configurable\", {}).get(\"db_engine\")\n",
    "  inspector = sqlalchemy.inspect(db_engine)\n",
    "  \n",
    "  return inspector.get_columns(table_name)\n"
   ]
  },
  {
   "cell_type": "code",
   "execution_count": 12,
   "id": "c2245f05",
   "metadata": {},
   "outputs": [],
   "source": [
    "@tool\n",
    "def execute_sql_tool(query:str, config: RunnableConfig) -> int:\n",
    "  \"\"\"\n",
    "  Execute SQL query and return result.\n",
    "  This will automatically connect to the database and execute the query.\n",
    "  However, if the query is not valid, an error will be raised\n",
    "  \n",
    "  Args:\n",
    "    query (str): SQL query\n",
    "  \"\"\"\n",
    "  \n",
    "  db_engine:Engine = config.get(\"configurable\", {}).get(\"db_engine\")\n",
    "  with db_engine.begin() as connection:\n",
    "    answer = connection.execute(text(query)).fetchall()\n",
    "  \n",
    "  return answer\n"
   ]
  },
  {
   "cell_type": "code",
   "execution_count": null,
   "id": "c1a237dd",
   "metadata": {},
   "outputs": [],
   "source": [
    "db_engine = create_engine(f\"sqlite:///sales.db\")"
   ]
  },
  {
   "cell_type": "code",
   "execution_count": null,
   "id": "f11ccc72",
   "metadata": {},
   "outputs": [],
   "source": [
    "config = {\"Configurable\": {\"db_engine\": db_engine}}"
   ]
  },
  {
   "cell_type": "code",
   "execution_count": null,
   "id": "6772527b",
   "metadata": {},
   "outputs": [],
   "source": [
    "tables = list_table_tool.invoke({}, config)\n",
    "tables"
   ]
  },
  {
   "cell_type": "code",
   "execution_count": null,
   "id": "04bf97d9",
   "metadata": {},
   "outputs": [],
   "source": [
    "schemas = {\n",
    "  table: get_table_schema_tool({\n",
    "    'table_name': table\n",
    "  }, config)\n",
    "  for table in tables\n",
    "}\n",
    "\n",
    "schemas"
   ]
  },
  {
   "cell_type": "code",
   "execution_count": null,
   "id": "018e1985",
   "metadata": {},
   "outputs": [],
   "source": [
    "sql = f\"SELECT * FROM {tables[0]} LIMIT 10\"\n",
    "result = execute_sql_tool.invoke({\"query\": sql}, config)\n",
    "result"
   ]
  }
 ],
 "metadata": {
  "kernelspec": {
   "display_name": "venv",
   "language": "python",
   "name": "python3"
  },
  "language_info": {
   "codemirror_mode": {
    "name": "ipython",
    "version": 3
   },
   "file_extension": ".py",
   "mimetype": "text/x-python",
   "name": "python",
   "nbconvert_exporter": "python",
   "pygments_lexer": "ipython3",
   "version": "3.12.7"
  }
 },
 "nbformat": 4,
 "nbformat_minor": 5
}
