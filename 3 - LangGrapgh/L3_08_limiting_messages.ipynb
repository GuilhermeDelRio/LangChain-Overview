{
 "cells": [
  {
   "cell_type": "code",
   "execution_count": 72,
   "id": "25fda8d4",
   "metadata": {},
   "outputs": [
    {
     "data": {
      "text/plain": [
       "True"
      ]
     },
     "execution_count": 72,
     "metadata": {},
     "output_type": "execute_result"
    }
   ],
   "source": [
    "from typing import List, Annotated\n",
    "from langgraph.graph import StateGraph, MessagesState, add_messages, START, END\n",
    "from langchain_core.messages import (\n",
    "    HumanMessage, \n",
    "    AIMessage, \n",
    "    SystemMessage,\n",
    "    AnyMessage,\n",
    "    RemoveMessage,\n",
    "    trim_messages\n",
    ")\n",
    "from langchain_openai import ChatOpenAI\n",
    "from IPython.display import Image, display\n",
    "from dotenv import load_dotenv\n",
    "load_dotenv()"
   ]
  },
  {
   "cell_type": "markdown",
   "id": "5c6fd00f",
   "metadata": {},
   "source": [
    "Single node workflow"
   ]
  },
  {
   "cell_type": "code",
   "execution_count": 73,
   "id": "d2d9a2d4",
   "metadata": {},
   "outputs": [],
   "source": [
    "llm = ChatOpenAI(\n",
    "  model=\"gpt-4o-mini\",\n",
    "  temperature=0.0,\n",
    "  base_url=\"https://openai.vocareum.com/v1\"\n",
    ")"
   ]
  },
  {
   "cell_type": "code",
   "execution_count": 74,
   "id": "9e9b2bc7",
   "metadata": {},
   "outputs": [],
   "source": [
    "def llm_node(state: MessagesState):\n",
    "  return {\"messages\": llm.invoke(state[\"messages\"])}"
   ]
  },
  {
   "cell_type": "code",
   "execution_count": 75,
   "id": "92791258",
   "metadata": {},
   "outputs": [
    {
     "data": {
      "image/png": "[encoded data removed]",
      "text/plain": [
       "<IPython.core.display.Image object>"
      ]
     },
     "metadata": {},
     "output_type": "display_data"
    }
   ],
   "source": [
    "workflow = StateGraph(MessagesState)\n",
    "workflow.add_node(\"llm_node\", llm_node)\n",
    "workflow.add_edge(START, \"llm_node\")\n",
    "workflow.add_edge(\"llm_node\", END)\n",
    "graph = workflow.compile()\n",
    "\n",
    "display(\n",
    "  Image(\n",
    "    graph.get_graph().draw_mermaid_png()\n",
    "  )\n",
    ")"
   ]
  },
  {
   "cell_type": "markdown",
   "id": "5347236f",
   "metadata": {},
   "source": [
    "Useful Messages List"
   ]
  },
  {
   "cell_type": "code",
   "execution_count": 76,
   "id": "c006a686",
   "metadata": {},
   "outputs": [],
   "source": [
    "messages = [\n",
    "  SystemMessage(\n",
    "    content=\"You're a FinTech specialist. You're not allowed to talk about anything else. Be concise in your answers.\",\n",
    "    name=\"System\",\n",
    "    id=\"0\",\n",
    "  ),\n",
    "  HumanMessage(\n",
    "    content=\"What is Pokemon?\",\n",
    "    name=\"User\",\n",
    "    id=\"1\"\n",
    "  ),\n",
    "  AIMessage(\n",
    "    content=\"I'm here to provide information specifically about FinTech. If you have \" \n",
    "            \"any questions related to financial technology, such as digital payments, \" \n",
    "            \"blockchain, cryptocurrencies, or financial services innovations, feel free \" \n",
    "            \"to ask!\",\n",
    "    name=\"FintechAssistant\",\n",
    "    id=\"2\",\n",
    "  ),\n",
    "  HumanMessage(\n",
    "    content=\"What is BlockChain?\",\n",
    "    name=\"User\",\n",
    "    id=\"3\"\n",
    "  ),\n",
    "  AIMessage(\n",
    "    content=\"Blockchain is a decentralized digital ledger technology that records\" \n",
    "            \"transactions across multiple computers in a way that ensures the security, \" \n",
    "            \"transparency, and integrity of the data. Each transaction is grouped into \" \n",
    "            \"a block, and these blocks are linked together in chronological order to form \" \n",
    "            \"a chain, hence the name blockchain.\",\n",
    "    name=\"FintechAssistant\",\n",
    "    id=\"4\",\n",
    "  ),\n",
    "  HumanMessage(\n",
    "    content=\"What is a credit card fraud?\",\n",
    "    name=\"User\",\n",
    "    id=\"5\"\n",
    "  ),\n",
    "]"
   ]
  },
  {
   "cell_type": "markdown",
   "id": "39bb4feb",
   "metadata": {},
   "source": [
    "Filter Messages during Invocation"
   ]
  },
  {
   "cell_type": "code",
   "execution_count": 77,
   "id": "0631cd38",
   "metadata": {},
   "outputs": [],
   "source": [
    "complete_output = graph.invoke({\"messages\": messages})"
   ]
  },
  {
   "cell_type": "code",
   "execution_count": 78,
   "id": "087695da",
   "metadata": {},
   "outputs": [
    {
     "name": "stdout",
     "output_type": "stream",
     "text": [
      "==================================\u001b[1m Ai Message \u001b[0m==================================\n",
      "\n",
      "Credit card fraud is a type of financial fraud that involves the unauthorized use of someone else's credit card information to make purchases or access funds. This can occur through various methods, such as phishing, data breaches, or card skimming. It results in financial loss for the cardholder and can lead to identity theft.\n"
     ]
    }
   ],
   "source": [
    "complete_output[\"messages\"][-1].pretty_print()"
   ]
  },
  {
   "cell_type": "code",
   "execution_count": 79,
   "id": "f13951e7",
   "metadata": {},
   "outputs": [
    {
     "data": {
      "text/plain": [
       "{'completion_tokens': 62,\n",
       " 'prompt_tokens': 176,\n",
       " 'total_tokens': 238,\n",
       " 'completion_tokens_details': {'accepted_prediction_tokens': 0,\n",
       "  'audio_tokens': 0,\n",
       "  'reasoning_tokens': 0,\n",
       "  'rejected_prediction_tokens': 0},\n",
       " 'prompt_tokens_details': {'audio_tokens': 0, 'cached_tokens': 0}}"
      ]
     },
     "execution_count": 79,
     "metadata": {},
     "output_type": "execute_result"
    }
   ],
   "source": [
    "complete_output[\"messages\"][-1].response_metadata[\"token_usage\"]"
   ]
  },
  {
   "cell_type": "code",
   "execution_count": 80,
   "id": "3a70bfcc",
   "metadata": {},
   "outputs": [],
   "source": [
    "filtered_output = graph.invoke({\"messages\": [messages[0], messages[-1]]})"
   ]
  },
  {
   "cell_type": "code",
   "execution_count": 81,
   "id": "f08f7dbd",
   "metadata": {},
   "outputs": [
    {
     "name": "stdout",
     "output_type": "stream",
     "text": [
      "==================================\u001b[1m Ai Message \u001b[0m==================================\n",
      "\n",
      "Credit card fraud is the unauthorized use of a credit card or credit card information to make purchases or access funds. This can occur through various methods, such as card theft, phishing, or data breaches, leading to financial loss for the cardholder and the issuing bank.\n"
     ]
    }
   ],
   "source": [
    "filtered_output[\"messages\"][-1].pretty_print()"
   ]
  },
  {
   "cell_type": "code",
   "execution_count": 82,
   "id": "46eb4083",
   "metadata": {},
   "outputs": [
    {
     "data": {
      "text/plain": [
       "{'completion_tokens': 53,\n",
       " 'prompt_tokens': 42,\n",
       " 'total_tokens': 95,\n",
       " 'completion_tokens_details': {'accepted_prediction_tokens': 0,\n",
       "  'audio_tokens': 0,\n",
       "  'reasoning_tokens': 0,\n",
       "  'rejected_prediction_tokens': 0},\n",
       " 'prompt_tokens_details': {'audio_tokens': 0, 'cached_tokens': 0}}"
      ]
     },
     "execution_count": 82,
     "metadata": {},
     "output_type": "execute_result"
    }
   ],
   "source": [
    "filtered_output[\"messages\"][-1].response_metadata[\"token_usage\"]"
   ]
  },
  {
   "cell_type": "markdown",
   "id": "e1be8db0",
   "metadata": {},
   "source": [
    "Filter Messages inside a node"
   ]
  },
  {
   "cell_type": "code",
   "execution_count": null,
   "id": "147485fb",
   "metadata": {},
   "outputs": [],
   "source": [
    "class State(MessagesState):\n",
    "  filtered_messages: Annotated[List[AnyMessage], add_messages]\n"
   ]
  },
  {
   "cell_type": "code",
   "execution_count": 84,
   "id": "6861b459",
   "metadata": {},
   "outputs": [],
   "source": [
    "def llm_node(state: State):\n",
    "  filtered_messages = state[\"messages\"][-3:]\n",
    "  ai_message = llm.invoke(filtered_messages)\n",
    "  filtered_messages.append(ai_message)\n",
    "  return {\"messages\": ai_message, \"filtered_messages\": filtered_messages}"
   ]
  },
  {
   "cell_type": "code",
   "execution_count": 85,
   "id": "dfacff4d",
   "metadata": {},
   "outputs": [
    {
     "data": {
      "image/png": "[encoded data removed]",
      "text/plain": [
       "<IPython.core.display.Image object>"
      ]
     },
     "metadata": {},
     "output_type": "display_data"
    }
   ],
   "source": [
    "workflow = StateGraph(State)\n",
    "workflow.add_node(\"llm_node\", llm_node)\n",
    "workflow.add_edge(START, \"llm_node\")\n",
    "workflow.add_edge(\"llm_node\", END)\n",
    "graph = workflow.compile()\n",
    "\n",
    "display(\n",
    "  Image(\n",
    "    graph.get_graph().draw_mermaid_png()\n",
    "  )\n",
    ")"
   ]
  },
  {
   "cell_type": "code",
   "execution_count": 86,
   "id": "8dde1a15",
   "metadata": {},
   "outputs": [
    {
     "name": "stdout",
     "output_type": "stream",
     "text": [
      "================================\u001b[1m System Message \u001b[0m================================\n",
      "Name: System\n",
      "\n",
      "You're a FinTech specialist. You're not allowed to talk about anything else. Be concise in your answers.\n",
      "================================\u001b[1m Human Message \u001b[0m=================================\n",
      "Name: User\n",
      "\n",
      "What is Pokemon?\n",
      "==================================\u001b[1m Ai Message \u001b[0m==================================\n",
      "Name: FintechAssistant\n",
      "\n",
      "I'm here to provide information specifically about FinTech. If you have any questions related to financial technology, such as digital payments, blockchain, cryptocurrencies, or financial services innovations, feel free to ask!\n",
      "================================\u001b[1m Human Message \u001b[0m=================================\n",
      "Name: User\n",
      "\n",
      "What is BlockChain?\n",
      "==================================\u001b[1m Ai Message \u001b[0m==================================\n",
      "Name: FintechAssistant\n",
      "\n",
      "Blockchain is a decentralized digital ledger technology that recordstransactions across multiple computers in a way that ensures the security, transparency, and integrity of the data. Each transaction is grouped into a block, and these blocks are linked together in chronological order to form a chain, hence the name blockchain.\n",
      "================================\u001b[1m Human Message \u001b[0m=================================\n",
      "Name: User\n",
      "\n",
      "What is a credit card fraud?\n"
     ]
    }
   ],
   "source": [
    "for m in messages:\n",
    "  m.pretty_print()"
   ]
  },
  {
   "cell_type": "code",
   "execution_count": 87,
   "id": "ae381101",
   "metadata": {},
   "outputs": [
    {
     "name": "stdout",
     "output_type": "stream",
     "text": [
      "================================\u001b[1m Human Message \u001b[0m=================================\n",
      "Name: User\n",
      "\n",
      "What is BlockChain?\n",
      "==================================\u001b[1m Ai Message \u001b[0m==================================\n",
      "Name: FintechAssistant\n",
      "\n",
      "Blockchain is a decentralized digital ledger technology that recordstransactions across multiple computers in a way that ensures the security, transparency, and integrity of the data. Each transaction is grouped into a block, and these blocks are linked together in chronological order to form a chain, hence the name blockchain.\n",
      "================================\u001b[1m Human Message \u001b[0m=================================\n",
      "Name: User\n",
      "\n",
      "What is a credit card fraud?\n",
      "==================================\u001b[1m Ai Message \u001b[0m==================================\n",
      "\n",
      "Credit card fraud is a type of financial fraud that involves the unauthorized use of someone else's credit card information to make purchases or access funds. This can occur in various ways, including:\n",
      "\n",
      "1. **Card Not Present Fraud**: This happens when the physical card is not required for the transaction, such as online purchases. Fraudsters may use stolen card details to make purchases without the cardholder's knowledge.\n",
      "\n",
      "2. **Card Present Fraud**: This occurs when a thief physically steals a credit card and uses it to make purchases in stores or at ATMs.\n",
      "\n",
      "3. **Account Takeover**: In this scenario, a fraudster gains access to a cardholder's account, often through phishing or data breaches, and makes unauthorized transactions.\n",
      "\n",
      "4. **Skimming**: This involves the use of a small device (skimmer) that captures the card information when the card is swiped at a point of sale.\n",
      "\n",
      "5. **Application Fraud**: This occurs when someone uses stolen personal information to apply for a credit card in someone else's name.\n",
      "\n",
      "Credit card fraud can lead to significant financial losses for both consumers and financial institutions, and it often requires prompt reporting and investigation to resolve.\n"
     ]
    }
   ],
   "source": [
    "output = graph.invoke({\"messages\": messages})\n",
    "for m in output[\"filtered_messages\"]:\n",
    "  m.pretty_print()"
   ]
  },
  {
   "cell_type": "markdown",
   "id": "c1273ff6",
   "metadata": {},
   "source": [
    "Remove Messages"
   ]
  },
  {
   "cell_type": "code",
   "execution_count": 92,
   "id": "bf7f133f",
   "metadata": {},
   "outputs": [
    {
     "data": {
      "text/plain": [
       "[SystemMessage(content=\"You're a FinTech specialist. You're not allowed to talk about anything else. Be concise in your answers.\", additional_kwargs={}, response_metadata={}, name='System', id='0'),\n",
       " HumanMessage(content='What is Pokemon?', additional_kwargs={}, response_metadata={}, name='User', id='1'),\n",
       " AIMessage(content=\"I'm here to provide information specifically about FinTech. If you have any questions related to financial technology, such as digital payments, blockchain, cryptocurrencies, or financial services innovations, feel free to ask!\", additional_kwargs={}, response_metadata={}, name='FintechAssistant', id='2')]"
      ]
     },
     "execution_count": 92,
     "metadata": {},
     "output_type": "execute_result"
    }
   ],
   "source": [
    "messages[:-3]"
   ]
  },
  {
   "cell_type": "code",
   "execution_count": 89,
   "id": "0f39fc41",
   "metadata": {},
   "outputs": [
    {
     "data": {
      "text/plain": [
       "[HumanMessage(content='What is BlockChain?', additional_kwargs={}, response_metadata={}, name='User', id='3'),\n",
       " AIMessage(content='Blockchain is a decentralized digital ledger technology that recordstransactions across multiple computers in a way that ensures the security, transparency, and integrity of the data. Each transaction is grouped into a block, and these blocks are linked together in chronological order to form a chain, hence the name blockchain.', additional_kwargs={}, response_metadata={}, name='FintechAssistant', id='4'),\n",
       " HumanMessage(content='What is a credit card fraud?', additional_kwargs={}, response_metadata={}, name='User', id='5')]"
      ]
     },
     "execution_count": 89,
     "metadata": {},
     "output_type": "execute_result"
    }
   ],
   "source": [
    "deleted_messages = [RemoveMessage(id=m.id) for m in messages[:-3]]\n",
    "add_messages(messages, deleted_messages)"
   ]
  },
  {
   "cell_type": "code",
   "execution_count": 93,
   "id": "b72fd7dd",
   "metadata": {},
   "outputs": [],
   "source": [
    "class State(MessagesState):\n",
    "  filtered_messages: Annotated[List[AnyMessage], add_messages]\n"
   ]
  },
  {
   "cell_type": "code",
   "execution_count": 94,
   "id": "0518c9e5",
   "metadata": {},
   "outputs": [],
   "source": [
    "def removal_filter(state: State):\n",
    "  filtered_messages = [\n",
    "    RemoveMessage(id=m.id) \n",
    "      for m in state[\"messages\"][:-3] \n",
    "      if m.name != \"System\"\n",
    "  ]\n",
    "  return {\n",
    "    \"filtered_messages\": add_messages(\n",
    "      state[\"messages\"], \n",
    "      filtered_messages\n",
    "    )\n",
    "  }"
   ]
  },
  {
   "cell_type": "code",
   "execution_count": 95,
   "id": "7ff271e6",
   "metadata": {},
   "outputs": [],
   "source": [
    "def llm_node(state: State):\n",
    "  ai_message = llm.invoke(state[\"filtered_messages\"])\n",
    "  return {\n",
    "    \"filtered_messages\": ai_message,\n",
    "  }"
   ]
  },
  {
   "cell_type": "code",
   "execution_count": 96,
   "id": "ed96823b",
   "metadata": {},
   "outputs": [
    {
     "data": {
      "image/png": "[encoded data removed]",
      "text/plain": [
       "<IPython.core.display.Image object>"
      ]
     },
     "metadata": {},
     "output_type": "display_data"
    }
   ],
   "source": [
    "workflow = StateGraph(State)\n",
    "workflow.add_node(\"llm_node\", llm_node)\n",
    "workflow.add_node(\"removal_filter\", removal_filter)\n",
    "workflow.add_edge(START, \"removal_filter\")\n",
    "workflow.add_edge(\"removal_filter\", \"llm_node\")\n",
    "workflow.add_edge(\"llm_node\", END)\n",
    "\n",
    "graph = workflow.compile()\n",
    "\n",
    "display(\n",
    "  Image(\n",
    "    graph.get_graph().draw_mermaid_png()\n",
    "  )\n",
    ")"
   ]
  },
  {
   "cell_type": "code",
   "execution_count": 97,
   "id": "944bad13",
   "metadata": {},
   "outputs": [
    {
     "name": "stdout",
     "output_type": "stream",
     "text": [
      "================================\u001b[1m System Message \u001b[0m================================\n",
      "Name: System\n",
      "\n",
      "You're a FinTech specialist. You're not allowed to talk about anything else. Be concise in your answers.\n",
      "================================\u001b[1m Human Message \u001b[0m=================================\n",
      "Name: User\n",
      "\n",
      "What is Pokemon?\n",
      "==================================\u001b[1m Ai Message \u001b[0m==================================\n",
      "Name: FintechAssistant\n",
      "\n",
      "I'm here to provide information specifically about FinTech. If you have any questions related to financial technology, such as digital payments, blockchain, cryptocurrencies, or financial services innovations, feel free to ask!\n",
      "================================\u001b[1m Human Message \u001b[0m=================================\n",
      "Name: User\n",
      "\n",
      "What is BlockChain?\n",
      "==================================\u001b[1m Ai Message \u001b[0m==================================\n",
      "Name: FintechAssistant\n",
      "\n",
      "Blockchain is a decentralized digital ledger technology that recordstransactions across multiple computers in a way that ensures the security, transparency, and integrity of the data. Each transaction is grouped into a block, and these blocks are linked together in chronological order to form a chain, hence the name blockchain.\n",
      "================================\u001b[1m Human Message \u001b[0m=================================\n",
      "Name: User\n",
      "\n",
      "What is a credit card fraud?\n"
     ]
    }
   ],
   "source": [
    "for m in messages:\n",
    "  m.pretty_print()"
   ]
  },
  {
   "cell_type": "code",
   "execution_count": 98,
   "id": "dac9d927",
   "metadata": {},
   "outputs": [
    {
     "name": "stdout",
     "output_type": "stream",
     "text": [
      "================================\u001b[1m System Message \u001b[0m================================\n",
      "Name: System\n",
      "\n",
      "You're a FinTech specialist. You're not allowed to talk about anything else. Be concise in your answers.\n",
      "================================\u001b[1m Human Message \u001b[0m=================================\n",
      "Name: User\n",
      "\n",
      "What is BlockChain?\n",
      "==================================\u001b[1m Ai Message \u001b[0m==================================\n",
      "Name: FintechAssistant\n",
      "\n",
      "Blockchain is a decentralized digital ledger technology that recordstransactions across multiple computers in a way that ensures the security, transparency, and integrity of the data. Each transaction is grouped into a block, and these blocks are linked together in chronological order to form a chain, hence the name blockchain.\n",
      "================================\u001b[1m Human Message \u001b[0m=================================\n",
      "Name: User\n",
      "\n",
      "What is a credit card fraud?\n",
      "==================================\u001b[1m Ai Message \u001b[0m==================================\n",
      "\n",
      "Credit card fraud is a type of financial crime that involves the unauthorized use of someone else's credit card information to make purchases or access funds. This can occur through various methods, such as stealing card details, phishing, or data breaches. It results in financial loss for the cardholder and can lead to identity theft.\n"
     ]
    }
   ],
   "source": [
    "output = graph.invoke({\"messages\": messages})\n",
    "for m in output['filtered_messages']:\n",
    "  m.pretty_print()"
   ]
  },
  {
   "cell_type": "markdown",
   "id": "4d7d242d",
   "metadata": {},
   "source": [
    "Trim Messages"
   ]
  },
  {
   "cell_type": "code",
   "execution_count": 99,
   "id": "91646ed1",
   "metadata": {},
   "outputs": [
    {
     "data": {
      "text/plain": [
       "[SystemMessage(content=\"You're a FinTech specialist. You're not allowed to talk about anything else. Be concise in your answers.\", additional_kwargs={}, response_metadata={}, name='System', id='0'),\n",
       " HumanMessage(content='What is a credit card fraud?', additional_kwargs={}, response_metadata={}, name='User', id='5')]"
      ]
     },
     "execution_count": 99,
     "metadata": {},
     "output_type": "execute_result"
    }
   ],
   "source": [
    "trim_messages(\n",
    "  messages,\n",
    "  max_tokens=50,\n",
    "  strategy=\"last\",\n",
    "  token_counter=llm,\n",
    "  allow_partial=False,\n",
    "  include_system=True\n",
    ")"
   ]
  },
  {
   "cell_type": "code",
   "execution_count": 106,
   "id": "d1abe4d0",
   "metadata": {},
   "outputs": [],
   "source": [
    "class State(MessagesState):\n",
    "  max_tokens: int\n",
    "  filtered_messages: Annotated[List[AnyMessage], add_messages]"
   ]
  },
  {
   "cell_type": "code",
   "execution_count": 107,
   "id": "e5c07fee",
   "metadata": {},
   "outputs": [],
   "source": [
    "def trim_filter(state: State):\n",
    "  max_tokens = state[\"max_tokens\"]\n",
    "  messages = state[\"messages\"]\n",
    "  filtered_messages = messages\n",
    "  if max_tokens:\n",
    "    filtered_messages = trim_messages(\n",
    "      messages=messages,\n",
    "      max_tokens=max_tokens,\n",
    "      strategy=\"last\",\n",
    "      token_counter=llm,\n",
    "      include_system=True,\n",
    "      allow_partial=False\n",
    "    )\n",
    "  return {\"filtered_messages\": filtered_messages}"
   ]
  },
  {
   "cell_type": "code",
   "execution_count": 108,
   "id": "5179d95c",
   "metadata": {},
   "outputs": [],
   "source": [
    "def llm_node(state: State):\n",
    "  return {\"filtered_messages\": llm.invoke(state[\"filtered_messages\"])}"
   ]
  },
  {
   "cell_type": "code",
   "execution_count": 109,
   "id": "116ba216",
   "metadata": {},
   "outputs": [
    {
     "data": {
      "image/png": "[encoded data removed]",
      "text/plain": [
       "<IPython.core.display.Image object>"
      ]
     },
     "metadata": {},
     "output_type": "display_data"
    }
   ],
   "source": [
    "workflow = StateGraph(State)\n",
    "workflow.add_node(\"llm_node\", llm_node)\n",
    "workflow.add_node(\"trim_filter\", trim_filter)\n",
    "workflow.add_edge(START, \"trim_filter\")\n",
    "workflow.add_edge(\"trim_filter\", \"llm_node\")\n",
    "workflow.add_edge(\"llm_node\", END)\n",
    "\n",
    "graph = workflow.compile()\n",
    "\n",
    "display(\n",
    "  Image(\n",
    "    graph.get_graph().draw_mermaid_png()\n",
    "  )\n",
    ")"
   ]
  },
  {
   "cell_type": "code",
   "execution_count": 110,
   "id": "a9984cc8",
   "metadata": {},
   "outputs": [
    {
     "name": "stdout",
     "output_type": "stream",
     "text": [
      "================================\u001b[1m System Message \u001b[0m================================\n",
      "Name: System\n",
      "\n",
      "You're a FinTech specialist. You're not allowed to talk about anything else. Be concise in your answers.\n",
      "================================\u001b[1m Human Message \u001b[0m=================================\n",
      "Name: User\n",
      "\n",
      "What is Pokemon?\n",
      "==================================\u001b[1m Ai Message \u001b[0m==================================\n",
      "Name: FintechAssistant\n",
      "\n",
      "I'm here to provide information specifically about FinTech. If you have any questions related to financial technology, such as digital payments, blockchain, cryptocurrencies, or financial services innovations, feel free to ask!\n",
      "================================\u001b[1m Human Message \u001b[0m=================================\n",
      "Name: User\n",
      "\n",
      "What is BlockChain?\n",
      "==================================\u001b[1m Ai Message \u001b[0m==================================\n",
      "Name: FintechAssistant\n",
      "\n",
      "Blockchain is a decentralized digital ledger technology that recordstransactions across multiple computers in a way that ensures the security, transparency, and integrity of the data. Each transaction is grouped into a block, and these blocks are linked together in chronological order to form a chain, hence the name blockchain.\n",
      "================================\u001b[1m Human Message \u001b[0m=================================\n",
      "Name: User\n",
      "\n",
      "What is a credit card fraud?\n"
     ]
    }
   ],
   "source": [
    "for m in messages:\n",
    "    m.pretty_print()"
   ]
  },
  {
   "cell_type": "code",
   "execution_count": 111,
   "id": "c099f680",
   "metadata": {},
   "outputs": [],
   "source": [
    "output = graph.invoke(\n",
    "  input={\n",
    "    \"max_tokens\": 50,\n",
    "    \"messages\": messages\n",
    "  }\n",
    ")"
   ]
  },
  {
   "cell_type": "code",
   "execution_count": 112,
   "id": "7b3158f5",
   "metadata": {},
   "outputs": [
    {
     "name": "stdout",
     "output_type": "stream",
     "text": [
      "================================\u001b[1m System Message \u001b[0m================================\n",
      "Name: System\n",
      "\n",
      "You're a FinTech specialist. You're not allowed to talk about anything else. Be concise in your answers.\n",
      "================================\u001b[1m Human Message \u001b[0m=================================\n",
      "Name: User\n",
      "\n",
      "What is a credit card fraud?\n",
      "==================================\u001b[1m Ai Message \u001b[0m==================================\n",
      "\n",
      "Credit card fraud is the unauthorized use of a credit card or credit card information to make purchases or obtain funds. This can occur through various methods, such as card skimming, phishing, or data breaches, leading to financial loss for the cardholder and the issuing bank.\n"
     ]
    }
   ],
   "source": [
    "for m in output['filtered_messages']:\n",
    "  m.pretty_print()"
   ]
  },
  {
   "cell_type": "markdown",
   "id": "d23f853f",
   "metadata": {},
   "source": [
    "Summary"
   ]
  },
  {
   "cell_type": "code",
   "execution_count": 113,
   "id": "1475a4fe",
   "metadata": {},
   "outputs": [
    {
     "data": {
      "text/plain": [
       "[HumanMessage(content='What is Pokemon?', additional_kwargs={}, response_metadata={}, name='User', id='1'),\n",
       " AIMessage(content=\"I'm here to provide information specifically about FinTech. If you have any questions related to financial technology, such as digital payments, blockchain, cryptocurrencies, or financial services innovations, feel free to ask!\", additional_kwargs={}, response_metadata={}, name='FintechAssistant', id='2'),\n",
       " HumanMessage(content='What is BlockChain?', additional_kwargs={}, response_metadata={}, name='User', id='3'),\n",
       " AIMessage(content='Blockchain is a decentralized digital ledger technology that recordstransactions across multiple computers in a way that ensures the security, transparency, and integrity of the data. Each transaction is grouped into a block, and these blocks are linked together in chronological order to form a chain, hence the name blockchain.', additional_kwargs={}, response_metadata={}, name='FintechAssistant', id='4')]"
      ]
     },
     "execution_count": 113,
     "metadata": {},
     "output_type": "execute_result"
    }
   ],
   "source": [
    "messages[1:-1]"
   ]
  },
  {
   "cell_type": "code",
   "execution_count": 114,
   "id": "69792294",
   "metadata": {},
   "outputs": [],
   "source": [
    "messages_to_summarize = messages[1:-1]\n",
    "summary_message = HumanMessage(\n",
    "  content=\"Create a summary of conversation above:\",\n",
    "  name=\"User\"\n",
    ")\n",
    "ai_message = llm.invoke(\n",
    "  add_messages(\n",
    "    messages_to_summarize,\n",
    "    summary_message\n",
    "  )\n",
    ")"
   ]
  },
  {
   "cell_type": "code",
   "execution_count": 115,
   "id": "6a0ac277",
   "metadata": {},
   "outputs": [
    {
     "data": {
      "text/plain": [
       "'The user initially asked about Pokémon, but the assistant redirected the conversation to focus on FinTech topics. The user then inquired about blockchain, to which the assistant provided a brief explanation, describing blockchain as a decentralized digital ledger technology that securely records transactions in a linked chain of blocks.'"
      ]
     },
     "execution_count": 115,
     "metadata": {},
     "output_type": "execute_result"
    }
   ],
   "source": [
    "ai_message.content"
   ]
  },
  {
   "cell_type": "code",
   "execution_count": 116,
   "id": "b743cc7f",
   "metadata": {},
   "outputs": [],
   "source": [
    "ai_message.id = \"1\"\n",
    "messages[-1].id = \"2\""
   ]
  },
  {
   "cell_type": "code",
   "execution_count": 117,
   "id": "3c359d2d",
   "metadata": {},
   "outputs": [],
   "source": [
    "remaining_messages = [messages[0]] + [ai_message] + [messages[-1]]"
   ]
  },
  {
   "cell_type": "code",
   "execution_count": 118,
   "id": "61aa090d",
   "metadata": {},
   "outputs": [
    {
     "data": {
      "text/plain": [
       "[SystemMessage(content=\"You're a FinTech specialist. You're not allowed to talk about anything else. Be concise in your answers.\", additional_kwargs={}, response_metadata={}, name='System', id='0'),\n",
       " AIMessage(content='The user initially asked about Pokémon, but the assistant redirected the conversation to focus on FinTech topics. The user then inquired about blockchain, to which the assistant provided a brief explanation, describing blockchain as a decentralized digital ledger technology that securely records transactions in a linked chain of blocks.', additional_kwargs={'refusal': None}, response_metadata={'token_usage': {'completion_tokens': 56, 'prompt_tokens': 150, 'total_tokens': 206, 'completion_tokens_details': {'accepted_prediction_tokens': 0, 'audio_tokens': 0, 'reasoning_tokens': 0, 'rejected_prediction_tokens': 0}, 'prompt_tokens_details': {'audio_tokens': 0, 'cached_tokens': 0}}, 'model_name': 'gpt-4o-mini-2024-07-18', 'system_fingerprint': 'fp_34a54ae93c', 'id': 'chatcmpl-Bn7WQbDIQTsYftFALohWSjgH6rIyS', 'service_tier': 'default', 'finish_reason': 'stop', 'logprobs': None}, id='1', usage_metadata={'input_tokens': 150, 'output_tokens': 56, 'total_tokens': 206, 'input_token_details': {'audio': 0, 'cache_read': 0}, 'output_token_details': {'audio': 0, 'reasoning': 0}}),\n",
       " HumanMessage(content='What is a credit card fraud?', additional_kwargs={}, response_metadata={}, name='User', id='2')]"
      ]
     },
     "execution_count": 118,
     "metadata": {},
     "output_type": "execute_result"
    }
   ],
   "source": [
    "remaining_messages"
   ]
  },
  {
   "cell_type": "code",
   "execution_count": 119,
   "id": "0e673d58",
   "metadata": {},
   "outputs": [],
   "source": [
    "remaining_messages.append(llm.invoke(remaining_messages))"
   ]
  },
  {
   "cell_type": "code",
   "execution_count": 121,
   "id": "f8b3c5e3",
   "metadata": {},
   "outputs": [
    {
     "name": "stdout",
     "output_type": "stream",
     "text": [
      "================================\u001b[1m System Message \u001b[0m================================\n",
      "Name: System\n",
      "\n",
      "You're a FinTech specialist. You're not allowed to talk about anything else. Be concise in your answers.\n",
      "==================================\u001b[1m Ai Message \u001b[0m==================================\n",
      "\n",
      "The user initially asked about Pokémon, but the assistant redirected the conversation to focus on FinTech topics. The user then inquired about blockchain, to which the assistant provided a brief explanation, describing blockchain as a decentralized digital ledger technology that securely records transactions in a linked chain of blocks.\n",
      "================================\u001b[1m Human Message \u001b[0m=================================\n",
      "Name: User\n",
      "\n",
      "What is a credit card fraud?\n",
      "==================================\u001b[1m Ai Message \u001b[0m==================================\n",
      "\n",
      "Credit card fraud is the unauthorized use of a credit card or credit card information to make purchases or access funds. This can occur through various methods, such as stealing physical cards, phishing for card details, or using malware to capture information. It results in financial loss for the cardholder and can lead to identity theft.\n"
     ]
    }
   ],
   "source": [
    "for m in remaining_messages:\n",
    "  m.pretty_print()"
   ]
  },
  {
   "cell_type": "code",
   "execution_count": 122,
   "id": "b05081c9",
   "metadata": {},
   "outputs": [
    {
     "data": {
      "text/plain": [
       "{'completion_tokens': 63,\n",
       " 'prompt_tokens': 102,\n",
       " 'total_tokens': 165,\n",
       " 'completion_tokens_details': {'accepted_prediction_tokens': 0,\n",
       "  'audio_tokens': 0,\n",
       "  'reasoning_tokens': 0,\n",
       "  'rejected_prediction_tokens': 0},\n",
       " 'prompt_tokens_details': {'audio_tokens': 0, 'cached_tokens': 0}}"
      ]
     },
     "execution_count": 122,
     "metadata": {},
     "output_type": "execute_result"
    }
   ],
   "source": [
    "remaining_messages[-1].response_metadata[\"token_usage\"]"
   ]
  }
 ],
 "metadata": {
  "kernelspec": {
   "display_name": "venv",
   "language": "python",
   "name": "python3"
  },
  "language_info": {
   "codemirror_mode": {
    "name": "ipython",
    "version": 3
   },
   "file_extension": ".py",
   "mimetype": "text/x-python",
   "name": "python",
   "nbconvert_exporter": "python",
   "pygments_lexer": "ipython3",
   "version": "3.12.7"
  }
 },
 "nbformat": 4,
 "nbformat_minor": 5
}
