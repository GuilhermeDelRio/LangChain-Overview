{
 "cells": [
  {
   "cell_type": "code",
   "execution_count": 19,
   "id": "25fda8d4",
   "metadata": {},
   "outputs": [],
   "source": [
    "import random\n",
    "from typing import TypedDict, Literal\n",
    "from langgraph.graph import StateGraph, START, END\n",
    "from langchain_core.messages import HumanMessage, SystemMessage\n",
    "from langchain_openai import ChatOpenAI\n",
    "from IPython.display import Image, display"
   ]
  },
  {
   "cell_type": "code",
   "execution_count": 20,
   "id": "6b7643f9",
   "metadata": {},
   "outputs": [],
   "source": [
    "class State(TypedDict):\n",
    "  input: str\n",
    "  action: Literal[\"reverse\", \"upper\"]\n",
    "  output: str"
   ]
  },
  {
   "cell_type": "code",
   "execution_count": 21,
   "id": "f53084ef",
   "metadata": {},
   "outputs": [],
   "source": [
    "workflow = StateGraph(state_schema=State)"
   ]
  },
  {
   "cell_type": "code",
   "execution_count": 22,
   "id": "f9316d5c",
   "metadata": {},
   "outputs": [],
   "source": [
    "def node_a(state: State)->State:\n",
    "  output = state['input'][::-1]\n",
    "  print(f\"output: {output}\")\n",
    "  \n",
    "  return {\"output\": output}"
   ]
  },
  {
   "cell_type": "code",
   "execution_count": 23,
   "id": "c26b7fde",
   "metadata": {},
   "outputs": [],
   "source": [
    "def node_b(state: State):\n",
    "  output = state['input'].upper()\n",
    "  print(f\"output: {output}\")\n",
    "  \n",
    "  return {\"output\": output}"
   ]
  },
  {
   "cell_type": "code",
   "execution_count": 24,
   "id": "6c552055",
   "metadata": {},
   "outputs": [
    {
     "data": {
      "text/plain": [
       "<langgraph.graph.state.StateGraph at 0x72d9d737b6b0>"
      ]
     },
     "execution_count": 24,
     "metadata": {},
     "output_type": "execute_result"
    }
   ],
   "source": [
    "workflow.add_node(node_a)\n",
    "workflow.add_node(node_b)"
   ]
  },
  {
   "cell_type": "code",
   "execution_count": 25,
   "id": "9de38bd3",
   "metadata": {},
   "outputs": [],
   "source": [
    "def routing_function(state: State):\n",
    "  action = state['action']\n",
    "  if action == \"reverse\":\n",
    "    return \"node_a\"\n",
    "  if action == \"upper\":\n",
    "    return \"node_b\"\n"
   ]
  },
  {
   "cell_type": "code",
   "execution_count": 26,
   "id": "32d037d3",
   "metadata": {},
   "outputs": [
    {
     "data": {
      "text/plain": [
       "<langgraph.graph.state.StateGraph at 0x72d9d737b6b0>"
      ]
     },
     "execution_count": 26,
     "metadata": {},
     "output_type": "execute_result"
    }
   ],
   "source": [
    "workflow.add_conditional_edges(\n",
    "  source=START,\n",
    "  path=routing_function,\n",
    "  path_map=[\"node_a\", \"node_b\"]\n",
    ")"
   ]
  },
  {
   "cell_type": "code",
   "execution_count": 27,
   "id": "8dd158ae",
   "metadata": {},
   "outputs": [
    {
     "data": {
      "text/plain": [
       "<langgraph.graph.state.StateGraph at 0x72d9d737b6b0>"
      ]
     },
     "execution_count": 27,
     "metadata": {},
     "output_type": "execute_result"
    }
   ],
   "source": [
    "workflow.add_edge(\"node_a\", END)\n",
    "workflow.add_edge(\"node_b\", END)"
   ]
  },
  {
   "cell_type": "code",
   "execution_count": 28,
   "id": "e0a47221",
   "metadata": {},
   "outputs": [],
   "source": [
    "graph = workflow.compile()"
   ]
  },
  {
   "cell_type": "code",
   "execution_count": 29,
   "id": "7ad4a69b",
   "metadata": {},
   "outputs": [
    {
     "data": {
      "image/png": "[encoded data removed]",
      "text/plain": [
       "<IPython.core.display.Image object>"
      ]
     },
     "metadata": {},
     "output_type": "display_data"
    }
   ],
   "source": [
    "display(\n",
    "  Image(\n",
    "    graph.get_graph().draw_mermaid_png()\n",
    "  )\n",
    ")"
   ]
  },
  {
   "cell_type": "code",
   "execution_count": 30,
   "id": "3aac945e",
   "metadata": {},
   "outputs": [
    {
     "name": "stdout",
     "output_type": "stream",
     "text": [
      "output: olleH\n"
     ]
    },
    {
     "data": {
      "text/plain": [
       "{'input': 'Hello', 'action': 'reverse', 'output': 'olleH'}"
      ]
     },
     "execution_count": 30,
     "metadata": {},
     "output_type": "execute_result"
    }
   ],
   "source": [
    "graph.invoke(\n",
    "  input = {\n",
    "    \"input\": \"Hello\",\n",
    "    \"action\": \"reverse\"\n",
    "  }\n",
    ")"
   ]
  },
  {
   "cell_type": "code",
   "execution_count": 31,
   "id": "f6ef354e",
   "metadata": {},
   "outputs": [
    {
     "name": "stdout",
     "output_type": "stream",
     "text": [
      "output: HELLO\n"
     ]
    },
    {
     "data": {
      "text/plain": [
       "{'input': 'Hello', 'action': 'upper', 'output': 'HELLO'}"
      ]
     },
     "execution_count": 31,
     "metadata": {},
     "output_type": "execute_result"
    }
   ],
   "source": [
    "graph.invoke(\n",
    "  input = {\n",
    "    \"input\": \"Hello\",\n",
    "    \"action\": \"upper\"\n",
    "  }\n",
    ")"
   ]
  }
 ],
 "metadata": {
  "kernelspec": {
   "display_name": "venv",
   "language": "python",
   "name": "python3"
  },
  "language_info": {
   "codemirror_mode": {
    "name": "ipython",
    "version": 3
   },
   "file_extension": ".py",
   "mimetype": "text/x-python",
   "name": "python",
   "nbconvert_exporter": "python",
   "pygments_lexer": "ipython3",
   "version": "3.12.7"
  }
 },
 "nbformat": 4,
 "nbformat_minor": 5
}
