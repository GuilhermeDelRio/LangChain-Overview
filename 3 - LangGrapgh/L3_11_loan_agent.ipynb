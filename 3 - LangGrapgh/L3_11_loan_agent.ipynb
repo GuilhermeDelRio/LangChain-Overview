{
 "cells": [
  {
   "cell_type": "code",
   "execution_count": 27,
   "id": "336124e9",
   "metadata": {},
   "outputs": [
    {
     "data": {
      "text/plain": [
       "True"
      ]
     },
     "execution_count": 27,
     "metadata": {},
     "output_type": "execute_result"
    }
   ],
   "source": [
    "import re\n",
    "import uuid\n",
    "from typing_extensions import Literal, Annotated\n",
    "from langchain_core.messages import (\n",
    "    SystemMessage,\n",
    "    AIMessage,\n",
    "    HumanMessage, \n",
    "    ToolMessage,\n",
    "    RemoveMessage\n",
    ")\n",
    "from langchain_core.tools.base import InjectedToolCallId\n",
    "from langchain_core.tools import tool\n",
    "from langchain_openai import ChatOpenAI\n",
    "from langgraph.graph import START, END, StateGraph\n",
    "from langchain_core.runnables import RunnableConfig\n",
    "from langgraph.graph.message import MessagesState, add_messages\n",
    "from langgraph.checkpoint.memory import MemorySaver\n",
    "from langgraph.prebuilt import ToolNode\n",
    "from langgraph.types import Command\n",
    "from IPython.display import Image, display\n",
    "from dotenv import load_dotenv\n",
    "load_dotenv()"
   ]
  },
  {
   "cell_type": "code",
   "execution_count": 28,
   "id": "2ffee98b",
   "metadata": {},
   "outputs": [],
   "source": [
    "llm = ChatOpenAI(\n",
    "  model=\"gpt-4o-mini\",\n",
    "  temperature=0.0,\n",
    "  base_url=\"https://openai.vocareum.com/v1\"\n",
    ")"
   ]
  },
  {
   "cell_type": "markdown",
   "id": "fac29548",
   "metadata": {},
   "source": [
    "## 1 - Create the State Schema"
   ]
  },
  {
   "cell_type": "code",
   "execution_count": 29,
   "id": "327d559b",
   "metadata": {},
   "outputs": [],
   "source": [
    "class SessionState(MessagesState):\n",
    "  customer_query: str\n",
    "  negotiation_status: Literal[\"won\", \"lost\", \"in_progress\"]"
   ]
  },
  {
   "cell_type": "markdown",
   "id": "9c3f5e63",
   "metadata": {},
   "source": [
    "## 2 - Define Entrypoint node"
   ]
  },
  {
   "cell_type": "code",
   "execution_count": 30,
   "id": "f321b96d",
   "metadata": {},
   "outputs": [],
   "source": [
    "def summarize_conversation(messages) -> AIMessage:\n",
    "  # All but system message\n",
    "  messages_to_summarize = messages[1:-1]\n",
    "  summary_message = HumanMessage(\n",
    "    content=\"Create a summary of the conversation above:\",\n",
    "  )\n",
    "  ai_message = llm.invoke(\n",
    "    add_messages(\n",
    "      messages_to_summarize,\n",
    "      summary_message\n",
    "    )\n",
    "  )\n",
    "  ai_message.id = str(uuid.uuid4())\n",
    "  return ai_message"
   ]
  },
  {
   "cell_type": "code",
   "execution_count": 31,
   "id": "c3ed3ae1",
   "metadata": {},
   "outputs": [],
   "source": [
    "def entry_point(state: SessionState, config: RunnableConfig):\n",
    "  messages = state[\"messages\"]\n",
    "  customer_name = config.get(\"configurable\", {}).get(\"customer_name\", \"customer\")\n",
    "  age = config.get(\"configurable\", {}).get(\"age\", 18)\n",
    "  income = config.get(\"configurable\", {}).get(\"income\", 1000)\n",
    "  credit_score = config.get(\"configurable\", {}).get(\"credit_score\", 500)\n",
    "  if not messages:\n",
    "    prompt = (\n",
    "      \"You are a Loan Agent analysing a customer loan request.\\n\"\n",
    "      \"- Understand how much the customer needs.\\n\"\n",
    "      \"- Calculate the maximum loan amount using one of the provided tools.\\n\"\n",
    "      \"- If the requested amount exceeds the limit, update the negotiation to lost.\\n\"\n",
    "      \"- If the requested amount meets the limit, update the negotiation to won.\\n\"       \n",
    "      \"- Update status as won or lost based on the negotiation.\\n\"\n",
    "      \"Terminate gracefully:\\n\"\n",
    "      \"  - If won: Notify that a human representative will contact them.\\n\"\n",
    "      \"  - If lost: Thank the customer for their time and explain why the loan was refused.\\n\\n\"\n",
    "      \"Details about the customer you're negotiating with:\\n\"\n",
    "      f\"- customer_name: {customer_name}\"\n",
    "      f\"- customer_age: {age}\"\n",
    "      f\"- customer_income: {income}\"\n",
    "      f\"- customer_credit_score: {credit_score}\"\n",
    "  )\n",
    "    \n",
    "  sys_message = SystemMessage(\n",
    "    content=prompt,\n",
    "    name=\"system\",\n",
    "  )\n",
    "  messages.append(sys_message)\n",
    "  \n",
    "  print(f\"Number of messages {len(messages)}\")\n",
    "  # Filter Messages\n",
    "  if len(messages)>=7:\n",
    "    messages_summary = summarize_conversation(messages)\n",
    "    filtered_messages = [\n",
    "      RemoveMessage(id=m.id) \n",
    "        for m in state[\"messages\"]\n",
    "        if m.name != \"system\"\n",
    "    ]\n",
    "    messages = add_messages(\n",
    "      filtered_messages, \n",
    "      messages_summary\n",
    "    )\n",
    "\n",
    "  print(state[\"customer_query\"])\n",
    "  human_message = HumanMessage(\n",
    "    content=state[\"customer_query\"],\n",
    "    name=re.sub(r'\\s+', '_', customer_name.strip()).lower(),\n",
    "    id = str(uuid.uuid4())\n",
    "  )\n",
    "  messages.append(human_message)\n",
    "\n",
    "  return {\n",
    "    \"messages\": messages,\n",
    "    \"negotiation_status\": \"in_progress\",\n",
    "  }\n",
    "    "
   ]
  },
  {
   "cell_type": "markdown",
   "id": "03acd6be",
   "metadata": {},
   "source": [
    "## 3 - Defining Tools"
   ]
  },
  {
   "cell_type": "code",
   "execution_count": 32,
   "id": "b9a24103",
   "metadata": {},
   "outputs": [],
   "source": [
    "@tool\n",
    "def calculate_max_loan(\n",
    "    age: Annotated[int, \"greater than 17\"], \n",
    "    income: Annotated[int, \"greater than 0\"],  \n",
    "    credit_score: Annotated[int, \"between 0 and 1000\"],\n",
    "  ) -> int:\n",
    "  \"\"\"\n",
    "  Calculate the maximum loan amount based on customer's age, income, and credit score.\n",
    "  - Age: 25-60 gets the highest eligibility, outside this range reduces eligibility.\n",
    "  - Income: Multiplied by a factor to determine base amount.\n",
    "  - Credit Score: High score (700+) increases the amount by 20%.\n",
    "  \"\"\"\n",
    "  \n",
    "  base_amount = income * 10\n",
    "  \n",
    "  # Age Rules\n",
    "  if age < 25:\n",
    "    base_amount *= 0.8  # Reduced eligibility\n",
    "  elif age > 60:\n",
    "    base_amount *= 0.7  # Reduced eligibility\n",
    "  else:\n",
    "    base_amount *= 1.0  # Full eligibility\n",
    "\n",
    "  # Credit Score Rules\n",
    "  if credit_score > 750:\n",
    "    base_amount *= 1.2  # 20% Bonus for excellent credit score\n",
    "  elif credit_score < 600:\n",
    "    base_amount *= 0.5  # Reduced eligibility for poor score\n",
    "\n",
    "  # Maximum cap\n",
    "  max_cap = 50000\n",
    "  return min(int(base_amount), max_cap)"
   ]
  },
  {
   "cell_type": "code",
   "execution_count": 33,
   "id": "e7238fba",
   "metadata": {},
   "outputs": [],
   "source": [
    "@tool\n",
    "def update_negotiation_status(\n",
    "    status: Literal[\"won\", \"lost\"],\n",
    "    tool_call_id: Annotated[str, InjectedToolCallId],\n",
    "  ):\n",
    "  \"\"\"\n",
    "  Updates the negotiation status of the workflow.\n",
    "  - 'won': If the customer agrees to the loan terms.\n",
    "  - 'lost': If the customer declines the loan terms.\n",
    "  - Returns the updated status.\n",
    "  \"\"\"\n",
    "  \n",
    "  return Command(\n",
    "    update={\n",
    "      # update the state keys\n",
    "      \"negotiation_status\": status,\n",
    "      # update the message history\n",
    "      \"messages\": [\n",
    "        ToolMessage(\n",
    "          content=\"Successfully updated negotiation_status\", \n",
    "          tool_call_id=tool_call_id\n",
    "        )\n",
    "      ],\n",
    "    }\n",
    "  )"
   ]
  },
  {
   "cell_type": "code",
   "execution_count": 34,
   "id": "ed95fde7",
   "metadata": {},
   "outputs": [],
   "source": [
    "tools = [\n",
    "  calculate_max_loan, \n",
    "  update_negotiation_status\n",
    "]"
   ]
  },
  {
   "cell_type": "markdown",
   "id": "bfc64398",
   "metadata": {},
   "source": [
    "## 4 - Create Loan Agent"
   ]
  },
  {
   "cell_type": "code",
   "execution_count": 35,
   "id": "382f22d0",
   "metadata": {},
   "outputs": [],
   "source": [
    "llm_with_tools = llm.bind_tools(tools)"
   ]
  },
  {
   "cell_type": "code",
   "execution_count": 36,
   "id": "a62254e6",
   "metadata": {},
   "outputs": [],
   "source": [
    "def loan_agent(state: SessionState):\n",
    "  ai_message = llm_with_tools.invoke(state[\"messages\"])\n",
    "  ai_message.name = \"loan_agent\"\n",
    "  ai_message.id = str(uuid.uuid4())\n",
    "\n",
    "  return {\"messages\": ai_message}"
   ]
  },
  {
   "cell_type": "markdown",
   "id": "a0fd2d08",
   "metadata": {},
   "source": [
    "## 5 - Create Router Function"
   ]
  },
  {
   "cell_type": "code",
   "execution_count": 37,
   "id": "b4a1c593",
   "metadata": {},
   "outputs": [],
   "source": [
    "def negotiation_router(state: SessionState):\n",
    "  print(f\"inside router status: {state['negotiation_status']}\")\n",
    "  if state[\"negotiation_status\"] != \"in_progress\":\n",
    "    return END\n",
    "\n",
    "  last_message = state[\"messages\"][-1]\n",
    "  if last_message.tool_calls:\n",
    "    return \"tools\"\n",
    "\n",
    "\n",
    "  return END"
   ]
  },
  {
   "cell_type": "markdown",
   "id": "18d6aa63",
   "metadata": {},
   "source": [
    "## 6 - Build, Compile and Visualize Workflow"
   ]
  },
  {
   "cell_type": "code",
   "execution_count": 38,
   "id": "fd828466",
   "metadata": {},
   "outputs": [],
   "source": [
    "workflow = StateGraph(SessionState)\n",
    "\n",
    "workflow.add_node(\"entry_point\", entry_point)\n",
    "workflow.add_node(\"loan_agent\", loan_agent)\n",
    "workflow.add_node(\"tools\", ToolNode(tools))\n",
    "\n",
    "workflow.add_edge(START, \"entry_point\")\n",
    "workflow.add_edge(\"entry_point\", \"loan_agent\")\n",
    "\n",
    "# Conditional Routing\n",
    "workflow.add_conditional_edges(\n",
    "  source=\"loan_agent\", \n",
    "  path=negotiation_router, \n",
    "  path_map=[\"tools\", END]\n",
    ")\n",
    "\n",
    "workflow.add_edge(\"tools\", \"loan_agent\")\n",
    "\n",
    "checkpointer = MemorySaver()"
   ]
  },
  {
   "cell_type": "code",
   "execution_count": 39,
   "id": "03ededd7",
   "metadata": {},
   "outputs": [
    {
     "data": {
      "image/png": "[encoded data removed]",
      "text/plain": [
       "<IPython.core.display.Image object>"
      ]
     },
     "metadata": {},
     "output_type": "display_data"
    }
   ],
   "source": [
    "loan_graph = workflow.compile(checkpointer=checkpointer)\n",
    "\n",
    "display(\n",
    "  Image(\n",
    "    loan_graph.get_graph().draw_mermaid_png()\n",
    "  )\n",
    ")"
   ]
  },
  {
   "cell_type": "markdown",
   "id": "9d4644dd",
   "metadata": {},
   "source": [
    "## 7 - Executing"
   ]
  },
  {
   "cell_type": "code",
   "execution_count": 40,
   "id": "46cc8820",
   "metadata": {},
   "outputs": [],
   "source": [
    "customer_query = \"I want to have $1000000\""
   ]
  },
  {
   "cell_type": "code",
   "execution_count": 41,
   "id": "e21490a1",
   "metadata": {},
   "outputs": [],
   "source": [
    "inputs = {\n",
    "  \"customer_query\": customer_query,\n",
    "}\n",
    "\n",
    "config = {\n",
    "  \"thread_id\": 1,\n",
    "  \"customer_name\": \"Guilherme\",\n",
    "  \"age\": 26,\n",
    "  \"income\": 1000,\n",
    "  \"credit_score\": 750,\n",
    "}"
   ]
  },
  {
   "cell_type": "code",
   "execution_count": 42,
   "id": "42065497",
   "metadata": {},
   "outputs": [
    {
     "name": "stdout",
     "output_type": "stream",
     "text": [
      "Number of messages 1\n",
      "I want to have $1000000\n",
      "inside router status: in_progress\n",
      "inside router status: in_progress\n",
      "inside router status: lost\n"
     ]
    }
   ],
   "source": [
    "output = loan_graph.invoke(\n",
    "  input=inputs,\n",
    "  config=config,\n",
    ")"
   ]
  },
  {
   "cell_type": "markdown",
   "id": "14550c37",
   "metadata": {},
   "source": [
    "## 8 - Inspect"
   ]
  },
  {
   "cell_type": "code",
   "execution_count": 43,
   "id": "27f98e9f",
   "metadata": {},
   "outputs": [
    {
     "name": "stdout",
     "output_type": "stream",
     "text": [
      "================================\u001b[1m System Message \u001b[0m================================\n",
      "Name: system\n",
      "\n",
      "You are a Loan Agent analysing a customer loan request.\n",
      "- Understand how much the customer needs.\n",
      "- Calculate the maximum loan amount using one of the provided tools.\n",
      "- If the requested amount exceeds the limit, update the negotiation to lost.\n",
      "- If the requested amount meets the limit, update the negotiation to won.\n",
      "- Update status as won or lost based on the negotiation.\n",
      "Terminate gracefully:\n",
      "  - If won: Notify that a human representative will contact them.\n",
      "  - If lost: Thank the customer for their time and explain why the loan was refused.\n",
      "\n",
      "Details about the customer you're negotiating with:\n",
      "- customer_name: Guilherme- customer_age: 26- customer_income: 1000- customer_credit_score: 750\n",
      "================================\u001b[1m Human Message \u001b[0m=================================\n",
      "Name: guilherme\n",
      "\n",
      "I want to have $1000000\n",
      "==================================\u001b[1m Ai Message \u001b[0m==================================\n",
      "Name: loan_agent\n",
      "Tool Calls:\n",
      "  calculate_max_loan (call_dRP1Fnes9eTsFmFp9YF45yYS)\n",
      " Call ID: call_dRP1Fnes9eTsFmFp9YF45yYS\n",
      "  Args:\n",
      "    age: 26\n",
      "    income: 1000\n",
      "    credit_score: 750\n",
      "=================================\u001b[1m Tool Message \u001b[0m=================================\n",
      "Name: calculate_max_loan\n",
      "\n",
      "10000\n",
      "==================================\u001b[1m Ai Message \u001b[0m==================================\n",
      "Name: loan_agent\n",
      "Tool Calls:\n",
      "  update_negotiation_status (call_N55jitkd8NefMIFZEe5SkIR3)\n",
      " Call ID: call_N55jitkd8NefMIFZEe5SkIR3\n",
      "  Args:\n",
      "    status: lost\n",
      "=================================\u001b[1m Tool Message \u001b[0m=================================\n",
      "Name: update_negotiation_status\n",
      "\n",
      "Successfully updated negotiation_status\n",
      "==================================\u001b[1m Ai Message \u001b[0m==================================\n",
      "Name: loan_agent\n",
      "\n",
      "Thank you for your time, Guilherme. Unfortunately, your loan request for $1,000,000 exceeds the maximum amount we can offer, which is $10,000. If you have any other questions or need assistance, feel free to reach out.\n"
     ]
    }
   ],
   "source": [
    "for message in output[\"messages\"]:\n",
    "  message.pretty_print()"
   ]
  },
  {
   "cell_type": "code",
   "execution_count": 44,
   "id": "6ea52bcf",
   "metadata": {},
   "outputs": [
    {
     "data": {
      "text/plain": [
       "'lost'"
      ]
     },
     "execution_count": 44,
     "metadata": {},
     "output_type": "execute_result"
    }
   ],
   "source": [
    "output[\"negotiation_status\"]"
   ]
  },
  {
   "cell_type": "code",
   "execution_count": 45,
   "id": "b0bed994",
   "metadata": {},
   "outputs": [],
   "source": [
    "state_history = list(\n",
    "  loan_graph.get_state_history(\n",
    "    config={\n",
    "      \"configurable\":{\"thread_id\":1}\n",
    "    }\n",
    "  )\n",
    ")"
   ]
  },
  {
   "cell_type": "code",
   "execution_count": 46,
   "id": "3ea07e1a",
   "metadata": {},
   "outputs": [
    {
     "data": {
      "text/plain": [
       "[StateSnapshot(values={'messages': [SystemMessage(content=\"You are a Loan Agent analysing a customer loan request.\\n- Understand how much the customer needs.\\n- Calculate the maximum loan amount using one of the provided tools.\\n- If the requested amount exceeds the limit, update the negotiation to lost.\\n- If the requested amount meets the limit, update the negotiation to won.\\n- Update status as won or lost based on the negotiation.\\nTerminate gracefully:\\n  - If won: Notify that a human representative will contact them.\\n  - If lost: Thank the customer for their time and explain why the loan was refused.\\n\\nDetails about the customer you're negotiating with:\\n- customer_name: Guilherme- customer_age: 26- customer_income: 1000- customer_credit_score: 750\", additional_kwargs={}, response_metadata={}, name='system', id='d5548b02-7258-4c2b-bb2c-6b6622606aa6'), HumanMessage(content='I want to have $1000000', additional_kwargs={}, response_metadata={}, name='guilherme', id='a4409845-a975-4b25-adc3-ca2bc0e00a83'), AIMessage(content='', additional_kwargs={'tool_calls': [{'id': 'call_dRP1Fnes9eTsFmFp9YF45yYS', 'function': {'arguments': '{\"age\":26,\"income\":1000,\"credit_score\":750}', 'name': 'calculate_max_loan'}, 'type': 'function'}], 'refusal': None}, response_metadata={'token_usage': {'completion_tokens': 26, 'prompt_tokens': 351, 'total_tokens': 377, 'completion_tokens_details': {'accepted_prediction_tokens': 0, 'audio_tokens': 0, 'reasoning_tokens': 0, 'rejected_prediction_tokens': 0}, 'prompt_tokens_details': {'audio_tokens': 0, 'cached_tokens': 0}}, 'model_name': 'gpt-4o-mini-2024-07-18', 'system_fingerprint': 'fp_62a23a81ef', 'id': 'chatcmpl-Bn8RDFDoG77ume1LNYCZ85ne2fo43', 'service_tier': 'default', 'finish_reason': 'tool_calls', 'logprobs': None}, name='loan_agent', id='30004087-1340-48aa-94dc-52b7a2bff831', tool_calls=[{'name': 'calculate_max_loan', 'args': {'age': 26, 'income': 1000, 'credit_score': 750}, 'id': 'call_dRP1Fnes9eTsFmFp9YF45yYS', 'type': 'tool_call'}], usage_metadata={'input_tokens': 351, 'output_tokens': 26, 'total_tokens': 377, 'input_token_details': {'audio': 0, 'cache_read': 0}, 'output_token_details': {'audio': 0, 'reasoning': 0}}), ToolMessage(content='10000', name='calculate_max_loan', id='98f61d45-5bc9-4185-a351-5cdc81af2412', tool_call_id='call_dRP1Fnes9eTsFmFp9YF45yYS'), AIMessage(content='', additional_kwargs={'tool_calls': [{'id': 'call_N55jitkd8NefMIFZEe5SkIR3', 'function': {'arguments': '{\"status\":\"lost\"}', 'name': 'update_negotiation_status'}, 'type': 'function'}], 'refusal': None}, response_metadata={'token_usage': {'completion_tokens': 17, 'prompt_tokens': 392, 'total_tokens': 409, 'completion_tokens_details': {'accepted_prediction_tokens': 0, 'audio_tokens': 0, 'reasoning_tokens': 0, 'rejected_prediction_tokens': 0}, 'prompt_tokens_details': {'audio_tokens': 0, 'cached_tokens': 0}}, 'model_name': 'gpt-4o-mini-2024-07-18', 'system_fingerprint': 'fp_62a23a81ef', 'id': 'chatcmpl-Bn8RE7kOs6nH19xXs0X8Z6EoFsxBB', 'service_tier': 'default', 'finish_reason': 'tool_calls', 'logprobs': None}, name='loan_agent', id='a694bc2e-2393-4519-ba36-d2828f0b551c', tool_calls=[{'name': 'update_negotiation_status', 'args': {'status': 'lost'}, 'id': 'call_N55jitkd8NefMIFZEe5SkIR3', 'type': 'tool_call'}], usage_metadata={'input_tokens': 392, 'output_tokens': 17, 'total_tokens': 409, 'input_token_details': {'audio': 0, 'cache_read': 0}, 'output_token_details': {'audio': 0, 'reasoning': 0}}), ToolMessage(content='Successfully updated negotiation_status', name='update_negotiation_status', id='8720cb1e-3d93-4536-9240-c30cb51e7357', tool_call_id='call_N55jitkd8NefMIFZEe5SkIR3'), AIMessage(content='Thank you for your time, Guilherme. Unfortunately, your loan request for $1,000,000 exceeds the maximum amount we can offer, which is $10,000. If you have any other questions or need assistance, feel free to reach out.', additional_kwargs={'refusal': None}, response_metadata={'token_usage': {'completion_tokens': 53, 'prompt_tokens': 427, 'total_tokens': 480, 'completion_tokens_details': {'accepted_prediction_tokens': 0, 'audio_tokens': 0, 'reasoning_tokens': 0, 'rejected_prediction_tokens': 0}, 'prompt_tokens_details': {'audio_tokens': 0, 'cached_tokens': 0}}, 'model_name': 'gpt-4o-mini-2024-07-18', 'system_fingerprint': 'fp_62a23a81ef', 'id': 'chatcmpl-Bn8RFGoJStoz8Kz2pwB1VecUm8ZjJ', 'service_tier': 'default', 'finish_reason': 'stop', 'logprobs': None}, name='loan_agent', id='f41eb2f9-1e1e-4dbe-8bf1-029e1c85aa3b', usage_metadata={'input_tokens': 427, 'output_tokens': 53, 'total_tokens': 480, 'input_token_details': {'audio': 0, 'cache_read': 0}, 'output_token_details': {'audio': 0, 'reasoning': 0}})], 'customer_query': 'I want to have $1000000', 'negotiation_status': 'lost'}, next=(), config={'configurable': {'thread_id': '1', 'checkpoint_ns': '', 'checkpoint_id': '1f053878-d7d2-6c91-8006-ff731cd5ec41'}}, metadata={'source': 'loop', 'writes': {'loan_agent': {'messages': AIMessage(content='Thank you for your time, Guilherme. Unfortunately, your loan request for $1,000,000 exceeds the maximum amount we can offer, which is $10,000. If you have any other questions or need assistance, feel free to reach out.', additional_kwargs={'refusal': None}, response_metadata={'token_usage': {'completion_tokens': 53, 'prompt_tokens': 427, 'total_tokens': 480, 'completion_tokens_details': {'accepted_prediction_tokens': 0, 'audio_tokens': 0, 'reasoning_tokens': 0, 'rejected_prediction_tokens': 0}, 'prompt_tokens_details': {'audio_tokens': 0, 'cached_tokens': 0}}, 'model_name': 'gpt-4o-mini-2024-07-18', 'system_fingerprint': 'fp_62a23a81ef', 'id': 'chatcmpl-Bn8RFGoJStoz8Kz2pwB1VecUm8ZjJ', 'service_tier': 'default', 'finish_reason': 'stop', 'logprobs': None}, name='loan_agent', id='f41eb2f9-1e1e-4dbe-8bf1-029e1c85aa3b', usage_metadata={'input_tokens': 427, 'output_tokens': 53, 'total_tokens': 480, 'input_token_details': {'audio': 0, 'cache_read': 0}, 'output_token_details': {'audio': 0, 'reasoning': 0}})}}, 'step': 6, 'parents': {}, 'thread_id': 1, 'customer_name': 'Guilherme', 'age': 26, 'income': 1000, 'credit_score': 750}, created_at='2025-06-27T18:50:10.796647+00:00', parent_config={'configurable': {'thread_id': '1', 'checkpoint_ns': '', 'checkpoint_id': '1f053878-c634-698c-8005-393af78dce4a'}}, tasks=(), interrupts=()),\n",
       " StateSnapshot(values={'messages': [SystemMessage(content=\"You are a Loan Agent analysing a customer loan request.\\n- Understand how much the customer needs.\\n- Calculate the maximum loan amount using one of the provided tools.\\n- If the requested amount exceeds the limit, update the negotiation to lost.\\n- If the requested amount meets the limit, update the negotiation to won.\\n- Update status as won or lost based on the negotiation.\\nTerminate gracefully:\\n  - If won: Notify that a human representative will contact them.\\n  - If lost: Thank the customer for their time and explain why the loan was refused.\\n\\nDetails about the customer you're negotiating with:\\n- customer_name: Guilherme- customer_age: 26- customer_income: 1000- customer_credit_score: 750\", additional_kwargs={}, response_metadata={}, name='system', id='d5548b02-7258-4c2b-bb2c-6b6622606aa6'), HumanMessage(content='I want to have $1000000', additional_kwargs={}, response_metadata={}, name='guilherme', id='a4409845-a975-4b25-adc3-ca2bc0e00a83'), AIMessage(content='', additional_kwargs={'tool_calls': [{'id': 'call_dRP1Fnes9eTsFmFp9YF45yYS', 'function': {'arguments': '{\"age\":26,\"income\":1000,\"credit_score\":750}', 'name': 'calculate_max_loan'}, 'type': 'function'}], 'refusal': None}, response_metadata={'token_usage': {'completion_tokens': 26, 'prompt_tokens': 351, 'total_tokens': 377, 'completion_tokens_details': {'accepted_prediction_tokens': 0, 'audio_tokens': 0, 'reasoning_tokens': 0, 'rejected_prediction_tokens': 0}, 'prompt_tokens_details': {'audio_tokens': 0, 'cached_tokens': 0}}, 'model_name': 'gpt-4o-mini-2024-07-18', 'system_fingerprint': 'fp_62a23a81ef', 'id': 'chatcmpl-Bn8RDFDoG77ume1LNYCZ85ne2fo43', 'service_tier': 'default', 'finish_reason': 'tool_calls', 'logprobs': None}, name='loan_agent', id='30004087-1340-48aa-94dc-52b7a2bff831', tool_calls=[{'name': 'calculate_max_loan', 'args': {'age': 26, 'income': 1000, 'credit_score': 750}, 'id': 'call_dRP1Fnes9eTsFmFp9YF45yYS', 'type': 'tool_call'}], usage_metadata={'input_tokens': 351, 'output_tokens': 26, 'total_tokens': 377, 'input_token_details': {'audio': 0, 'cache_read': 0}, 'output_token_details': {'audio': 0, 'reasoning': 0}}), ToolMessage(content='10000', name='calculate_max_loan', id='98f61d45-5bc9-4185-a351-5cdc81af2412', tool_call_id='call_dRP1Fnes9eTsFmFp9YF45yYS'), AIMessage(content='', additional_kwargs={'tool_calls': [{'id': 'call_N55jitkd8NefMIFZEe5SkIR3', 'function': {'arguments': '{\"status\":\"lost\"}', 'name': 'update_negotiation_status'}, 'type': 'function'}], 'refusal': None}, response_metadata={'token_usage': {'completion_tokens': 17, 'prompt_tokens': 392, 'total_tokens': 409, 'completion_tokens_details': {'accepted_prediction_tokens': 0, 'audio_tokens': 0, 'reasoning_tokens': 0, 'rejected_prediction_tokens': 0}, 'prompt_tokens_details': {'audio_tokens': 0, 'cached_tokens': 0}}, 'model_name': 'gpt-4o-mini-2024-07-18', 'system_fingerprint': 'fp_62a23a81ef', 'id': 'chatcmpl-Bn8RE7kOs6nH19xXs0X8Z6EoFsxBB', 'service_tier': 'default', 'finish_reason': 'tool_calls', 'logprobs': None}, name='loan_agent', id='a694bc2e-2393-4519-ba36-d2828f0b551c', tool_calls=[{'name': 'update_negotiation_status', 'args': {'status': 'lost'}, 'id': 'call_N55jitkd8NefMIFZEe5SkIR3', 'type': 'tool_call'}], usage_metadata={'input_tokens': 392, 'output_tokens': 17, 'total_tokens': 409, 'input_token_details': {'audio': 0, 'cache_read': 0}, 'output_token_details': {'audio': 0, 'reasoning': 0}}), ToolMessage(content='Successfully updated negotiation_status', name='update_negotiation_status', id='8720cb1e-3d93-4536-9240-c30cb51e7357', tool_call_id='call_N55jitkd8NefMIFZEe5SkIR3')], 'customer_query': 'I want to have $1000000', 'negotiation_status': 'lost'}, next=('loan_agent',), config={'configurable': {'thread_id': '1', 'checkpoint_ns': '', 'checkpoint_id': '1f053878-c634-698c-8005-393af78dce4a'}}, metadata={'source': 'loop', 'writes': {'tools': {'negotiation_status': 'lost', 'messages': [ToolMessage(content='Successfully updated negotiation_status', name='update_negotiation_status', id='8720cb1e-3d93-4536-9240-c30cb51e7357', tool_call_id='call_N55jitkd8NefMIFZEe5SkIR3')]}}, 'step': 5, 'parents': {}, 'thread_id': 1, 'customer_name': 'Guilherme', 'age': 26, 'income': 1000, 'credit_score': 750}, created_at='2025-06-27T18:50:08.949273+00:00', parent_config={'configurable': {'thread_id': '1', 'checkpoint_ns': '', 'checkpoint_id': '1f053878-c630-6ab8-8004-fa25b5cb23a0'}}, tasks=(PregelTask(id='c37349c9-0983-d0c2-f394-cf6233bfb788', name='loan_agent', path=('__pregel_pull', 'loan_agent'), error=None, interrupts=(), state=None, result={'messages': AIMessage(content='Thank you for your time, Guilherme. Unfortunately, your loan request for $1,000,000 exceeds the maximum amount we can offer, which is $10,000. If you have any other questions or need assistance, feel free to reach out.', additional_kwargs={'refusal': None}, response_metadata={'token_usage': {'completion_tokens': 53, 'prompt_tokens': 427, 'total_tokens': 480, 'completion_tokens_details': {'accepted_prediction_tokens': 0, 'audio_tokens': 0, 'reasoning_tokens': 0, 'rejected_prediction_tokens': 0}, 'prompt_tokens_details': {'audio_tokens': 0, 'cached_tokens': 0}}, 'model_name': 'gpt-4o-mini-2024-07-18', 'system_fingerprint': 'fp_62a23a81ef', 'id': 'chatcmpl-Bn8RFGoJStoz8Kz2pwB1VecUm8ZjJ', 'service_tier': 'default', 'finish_reason': 'stop', 'logprobs': None}, name='loan_agent', id='f41eb2f9-1e1e-4dbe-8bf1-029e1c85aa3b', usage_metadata={'input_tokens': 427, 'output_tokens': 53, 'total_tokens': 480, 'input_token_details': {'audio': 0, 'cache_read': 0}, 'output_token_details': {'audio': 0, 'reasoning': 0}})}),), interrupts=()),\n",
       " StateSnapshot(values={'messages': [SystemMessage(content=\"You are a Loan Agent analysing a customer loan request.\\n- Understand how much the customer needs.\\n- Calculate the maximum loan amount using one of the provided tools.\\n- If the requested amount exceeds the limit, update the negotiation to lost.\\n- If the requested amount meets the limit, update the negotiation to won.\\n- Update status as won or lost based on the negotiation.\\nTerminate gracefully:\\n  - If won: Notify that a human representative will contact them.\\n  - If lost: Thank the customer for their time and explain why the loan was refused.\\n\\nDetails about the customer you're negotiating with:\\n- customer_name: Guilherme- customer_age: 26- customer_income: 1000- customer_credit_score: 750\", additional_kwargs={}, response_metadata={}, name='system', id='d5548b02-7258-4c2b-bb2c-6b6622606aa6'), HumanMessage(content='I want to have $1000000', additional_kwargs={}, response_metadata={}, name='guilherme', id='a4409845-a975-4b25-adc3-ca2bc0e00a83'), AIMessage(content='', additional_kwargs={'tool_calls': [{'id': 'call_dRP1Fnes9eTsFmFp9YF45yYS', 'function': {'arguments': '{\"age\":26,\"income\":1000,\"credit_score\":750}', 'name': 'calculate_max_loan'}, 'type': 'function'}], 'refusal': None}, response_metadata={'token_usage': {'completion_tokens': 26, 'prompt_tokens': 351, 'total_tokens': 377, 'completion_tokens_details': {'accepted_prediction_tokens': 0, 'audio_tokens': 0, 'reasoning_tokens': 0, 'rejected_prediction_tokens': 0}, 'prompt_tokens_details': {'audio_tokens': 0, 'cached_tokens': 0}}, 'model_name': 'gpt-4o-mini-2024-07-18', 'system_fingerprint': 'fp_62a23a81ef', 'id': 'chatcmpl-Bn8RDFDoG77ume1LNYCZ85ne2fo43', 'service_tier': 'default', 'finish_reason': 'tool_calls', 'logprobs': None}, name='loan_agent', id='30004087-1340-48aa-94dc-52b7a2bff831', tool_calls=[{'name': 'calculate_max_loan', 'args': {'age': 26, 'income': 1000, 'credit_score': 750}, 'id': 'call_dRP1Fnes9eTsFmFp9YF45yYS', 'type': 'tool_call'}], usage_metadata={'input_tokens': 351, 'output_tokens': 26, 'total_tokens': 377, 'input_token_details': {'audio': 0, 'cache_read': 0}, 'output_token_details': {'audio': 0, 'reasoning': 0}}), ToolMessage(content='10000', name='calculate_max_loan', id='98f61d45-5bc9-4185-a351-5cdc81af2412', tool_call_id='call_dRP1Fnes9eTsFmFp9YF45yYS'), AIMessage(content='', additional_kwargs={'tool_calls': [{'id': 'call_N55jitkd8NefMIFZEe5SkIR3', 'function': {'arguments': '{\"status\":\"lost\"}', 'name': 'update_negotiation_status'}, 'type': 'function'}], 'refusal': None}, response_metadata={'token_usage': {'completion_tokens': 17, 'prompt_tokens': 392, 'total_tokens': 409, 'completion_tokens_details': {'accepted_prediction_tokens': 0, 'audio_tokens': 0, 'reasoning_tokens': 0, 'rejected_prediction_tokens': 0}, 'prompt_tokens_details': {'audio_tokens': 0, 'cached_tokens': 0}}, 'model_name': 'gpt-4o-mini-2024-07-18', 'system_fingerprint': 'fp_62a23a81ef', 'id': 'chatcmpl-Bn8RE7kOs6nH19xXs0X8Z6EoFsxBB', 'service_tier': 'default', 'finish_reason': 'tool_calls', 'logprobs': None}, name='loan_agent', id='a694bc2e-2393-4519-ba36-d2828f0b551c', tool_calls=[{'name': 'update_negotiation_status', 'args': {'status': 'lost'}, 'id': 'call_N55jitkd8NefMIFZEe5SkIR3', 'type': 'tool_call'}], usage_metadata={'input_tokens': 392, 'output_tokens': 17, 'total_tokens': 409, 'input_token_details': {'audio': 0, 'cache_read': 0}, 'output_token_details': {'audio': 0, 'reasoning': 0}})], 'customer_query': 'I want to have $1000000', 'negotiation_status': 'in_progress'}, next=('tools',), config={'configurable': {'thread_id': '1', 'checkpoint_ns': '', 'checkpoint_id': '1f053878-c630-6ab8-8004-fa25b5cb23a0'}}, metadata={'source': 'loop', 'writes': {'loan_agent': {'messages': AIMessage(content='', additional_kwargs={'tool_calls': [{'id': 'call_N55jitkd8NefMIFZEe5SkIR3', 'function': {'arguments': '{\"status\":\"lost\"}', 'name': 'update_negotiation_status'}, 'type': 'function'}], 'refusal': None}, response_metadata={'token_usage': {'completion_tokens': 17, 'prompt_tokens': 392, 'total_tokens': 409, 'completion_tokens_details': {'accepted_prediction_tokens': 0, 'audio_tokens': 0, 'reasoning_tokens': 0, 'rejected_prediction_tokens': 0}, 'prompt_tokens_details': {'audio_tokens': 0, 'cached_tokens': 0}}, 'model_name': 'gpt-4o-mini-2024-07-18', 'system_fingerprint': 'fp_62a23a81ef', 'id': 'chatcmpl-Bn8RE7kOs6nH19xXs0X8Z6EoFsxBB', 'service_tier': 'default', 'finish_reason': 'tool_calls', 'logprobs': None}, name='loan_agent', id='a694bc2e-2393-4519-ba36-d2828f0b551c', tool_calls=[{'name': 'update_negotiation_status', 'args': {'status': 'lost'}, 'id': 'call_N55jitkd8NefMIFZEe5SkIR3', 'type': 'tool_call'}], usage_metadata={'input_tokens': 392, 'output_tokens': 17, 'total_tokens': 409, 'input_token_details': {'audio': 0, 'cache_read': 0}, 'output_token_details': {'audio': 0, 'reasoning': 0}})}}, 'step': 4, 'parents': {}, 'thread_id': 1, 'customer_name': 'Guilherme', 'age': 26, 'income': 1000, 'credit_score': 750}, created_at='2025-06-27T18:50:08.947660+00:00', parent_config={'configurable': {'thread_id': '1', 'checkpoint_ns': '', 'checkpoint_id': '1f053878-bba3-6ba6-8003-52b7b96771ae'}}, tasks=(PregelTask(id='573f537d-ceb4-4433-585e-42a0bb86b691', name='tools', path=('__pregel_pull', 'tools'), error=None, interrupts=(), state=None, result={'negotiation_status': 'lost', 'messages': [ToolMessage(content='Successfully updated negotiation_status', name='update_negotiation_status', id='8720cb1e-3d93-4536-9240-c30cb51e7357', tool_call_id='call_N55jitkd8NefMIFZEe5SkIR3')]}),), interrupts=()),\n",
       " StateSnapshot(values={'messages': [SystemMessage(content=\"You are a Loan Agent analysing a customer loan request.\\n- Understand how much the customer needs.\\n- Calculate the maximum loan amount using one of the provided tools.\\n- If the requested amount exceeds the limit, update the negotiation to lost.\\n- If the requested amount meets the limit, update the negotiation to won.\\n- Update status as won or lost based on the negotiation.\\nTerminate gracefully:\\n  - If won: Notify that a human representative will contact them.\\n  - If lost: Thank the customer for their time and explain why the loan was refused.\\n\\nDetails about the customer you're negotiating with:\\n- customer_name: Guilherme- customer_age: 26- customer_income: 1000- customer_credit_score: 750\", additional_kwargs={}, response_metadata={}, name='system', id='d5548b02-7258-4c2b-bb2c-6b6622606aa6'), HumanMessage(content='I want to have $1000000', additional_kwargs={}, response_metadata={}, name='guilherme', id='a4409845-a975-4b25-adc3-ca2bc0e00a83'), AIMessage(content='', additional_kwargs={'tool_calls': [{'id': 'call_dRP1Fnes9eTsFmFp9YF45yYS', 'function': {'arguments': '{\"age\":26,\"income\":1000,\"credit_score\":750}', 'name': 'calculate_max_loan'}, 'type': 'function'}], 'refusal': None}, response_metadata={'token_usage': {'completion_tokens': 26, 'prompt_tokens': 351, 'total_tokens': 377, 'completion_tokens_details': {'accepted_prediction_tokens': 0, 'audio_tokens': 0, 'reasoning_tokens': 0, 'rejected_prediction_tokens': 0}, 'prompt_tokens_details': {'audio_tokens': 0, 'cached_tokens': 0}}, 'model_name': 'gpt-4o-mini-2024-07-18', 'system_fingerprint': 'fp_62a23a81ef', 'id': 'chatcmpl-Bn8RDFDoG77ume1LNYCZ85ne2fo43', 'service_tier': 'default', 'finish_reason': 'tool_calls', 'logprobs': None}, name='loan_agent', id='30004087-1340-48aa-94dc-52b7a2bff831', tool_calls=[{'name': 'calculate_max_loan', 'args': {'age': 26, 'income': 1000, 'credit_score': 750}, 'id': 'call_dRP1Fnes9eTsFmFp9YF45yYS', 'type': 'tool_call'}], usage_metadata={'input_tokens': 351, 'output_tokens': 26, 'total_tokens': 377, 'input_token_details': {'audio': 0, 'cache_read': 0}, 'output_token_details': {'audio': 0, 'reasoning': 0}}), ToolMessage(content='10000', name='calculate_max_loan', id='98f61d45-5bc9-4185-a351-5cdc81af2412', tool_call_id='call_dRP1Fnes9eTsFmFp9YF45yYS')], 'customer_query': 'I want to have $1000000', 'negotiation_status': 'in_progress'}, next=('loan_agent',), config={'configurable': {'thread_id': '1', 'checkpoint_ns': '', 'checkpoint_id': '1f053878-bba3-6ba6-8003-52b7b96771ae'}}, metadata={'source': 'loop', 'writes': {'tools': {'messages': [ToolMessage(content='10000', name='calculate_max_loan', id='98f61d45-5bc9-4185-a351-5cdc81af2412', tool_call_id='call_dRP1Fnes9eTsFmFp9YF45yYS')]}}, 'step': 3, 'parents': {}, 'thread_id': 1, 'customer_name': 'Guilherme', 'age': 26, 'income': 1000, 'credit_score': 750}, created_at='2025-06-27T18:50:07.841366+00:00', parent_config={'configurable': {'thread_id': '1', 'checkpoint_ns': '', 'checkpoint_id': '1f053878-bb9f-65b0-8002-11d5a68735ea'}}, tasks=(PregelTask(id='94451945-0153-d3ac-0b8e-c8b66afba027', name='loan_agent', path=('__pregel_pull', 'loan_agent'), error=None, interrupts=(), state=None, result={'messages': AIMessage(content='', additional_kwargs={'tool_calls': [{'id': 'call_N55jitkd8NefMIFZEe5SkIR3', 'function': {'arguments': '{\"status\":\"lost\"}', 'name': 'update_negotiation_status'}, 'type': 'function'}], 'refusal': None}, response_metadata={'token_usage': {'completion_tokens': 17, 'prompt_tokens': 392, 'total_tokens': 409, 'completion_tokens_details': {'accepted_prediction_tokens': 0, 'audio_tokens': 0, 'reasoning_tokens': 0, 'rejected_prediction_tokens': 0}, 'prompt_tokens_details': {'audio_tokens': 0, 'cached_tokens': 0}}, 'model_name': 'gpt-4o-mini-2024-07-18', 'system_fingerprint': 'fp_62a23a81ef', 'id': 'chatcmpl-Bn8RE7kOs6nH19xXs0X8Z6EoFsxBB', 'service_tier': 'default', 'finish_reason': 'tool_calls', 'logprobs': None}, name='loan_agent', id='a694bc2e-2393-4519-ba36-d2828f0b551c', tool_calls=[{'name': 'update_negotiation_status', 'args': {'status': 'lost'}, 'id': 'call_N55jitkd8NefMIFZEe5SkIR3', 'type': 'tool_call'}], usage_metadata={'input_tokens': 392, 'output_tokens': 17, 'total_tokens': 409, 'input_token_details': {'audio': 0, 'cache_read': 0}, 'output_token_details': {'audio': 0, 'reasoning': 0}})}),), interrupts=()),\n",
       " StateSnapshot(values={'messages': [SystemMessage(content=\"You are a Loan Agent analysing a customer loan request.\\n- Understand how much the customer needs.\\n- Calculate the maximum loan amount using one of the provided tools.\\n- If the requested amount exceeds the limit, update the negotiation to lost.\\n- If the requested amount meets the limit, update the negotiation to won.\\n- Update status as won or lost based on the negotiation.\\nTerminate gracefully:\\n  - If won: Notify that a human representative will contact them.\\n  - If lost: Thank the customer for their time and explain why the loan was refused.\\n\\nDetails about the customer you're negotiating with:\\n- customer_name: Guilherme- customer_age: 26- customer_income: 1000- customer_credit_score: 750\", additional_kwargs={}, response_metadata={}, name='system', id='d5548b02-7258-4c2b-bb2c-6b6622606aa6'), HumanMessage(content='I want to have $1000000', additional_kwargs={}, response_metadata={}, name='guilherme', id='a4409845-a975-4b25-adc3-ca2bc0e00a83'), AIMessage(content='', additional_kwargs={'tool_calls': [{'id': 'call_dRP1Fnes9eTsFmFp9YF45yYS', 'function': {'arguments': '{\"age\":26,\"income\":1000,\"credit_score\":750}', 'name': 'calculate_max_loan'}, 'type': 'function'}], 'refusal': None}, response_metadata={'token_usage': {'completion_tokens': 26, 'prompt_tokens': 351, 'total_tokens': 377, 'completion_tokens_details': {'accepted_prediction_tokens': 0, 'audio_tokens': 0, 'reasoning_tokens': 0, 'rejected_prediction_tokens': 0}, 'prompt_tokens_details': {'audio_tokens': 0, 'cached_tokens': 0}}, 'model_name': 'gpt-4o-mini-2024-07-18', 'system_fingerprint': 'fp_62a23a81ef', 'id': 'chatcmpl-Bn8RDFDoG77ume1LNYCZ85ne2fo43', 'service_tier': 'default', 'finish_reason': 'tool_calls', 'logprobs': None}, name='loan_agent', id='30004087-1340-48aa-94dc-52b7a2bff831', tool_calls=[{'name': 'calculate_max_loan', 'args': {'age': 26, 'income': 1000, 'credit_score': 750}, 'id': 'call_dRP1Fnes9eTsFmFp9YF45yYS', 'type': 'tool_call'}], usage_metadata={'input_tokens': 351, 'output_tokens': 26, 'total_tokens': 377, 'input_token_details': {'audio': 0, 'cache_read': 0}, 'output_token_details': {'audio': 0, 'reasoning': 0}})], 'customer_query': 'I want to have $1000000', 'negotiation_status': 'in_progress'}, next=('tools',), config={'configurable': {'thread_id': '1', 'checkpoint_ns': '', 'checkpoint_id': '1f053878-bb9f-65b0-8002-11d5a68735ea'}}, metadata={'source': 'loop', 'writes': {'loan_agent': {'messages': AIMessage(content='', additional_kwargs={'tool_calls': [{'id': 'call_dRP1Fnes9eTsFmFp9YF45yYS', 'function': {'arguments': '{\"age\":26,\"income\":1000,\"credit_score\":750}', 'name': 'calculate_max_loan'}, 'type': 'function'}], 'refusal': None}, response_metadata={'token_usage': {'completion_tokens': 26, 'prompt_tokens': 351, 'total_tokens': 377, 'completion_tokens_details': {'accepted_prediction_tokens': 0, 'audio_tokens': 0, 'reasoning_tokens': 0, 'rejected_prediction_tokens': 0}, 'prompt_tokens_details': {'audio_tokens': 0, 'cached_tokens': 0}}, 'model_name': 'gpt-4o-mini-2024-07-18', 'system_fingerprint': 'fp_62a23a81ef', 'id': 'chatcmpl-Bn8RDFDoG77ume1LNYCZ85ne2fo43', 'service_tier': 'default', 'finish_reason': 'tool_calls', 'logprobs': None}, name='loan_agent', id='30004087-1340-48aa-94dc-52b7a2bff831', tool_calls=[{'name': 'calculate_max_loan', 'args': {'age': 26, 'income': 1000, 'credit_score': 750}, 'id': 'call_dRP1Fnes9eTsFmFp9YF45yYS', 'type': 'tool_call'}], usage_metadata={'input_tokens': 351, 'output_tokens': 26, 'total_tokens': 377, 'input_token_details': {'audio': 0, 'cache_read': 0}, 'output_token_details': {'audio': 0, 'reasoning': 0}})}}, 'step': 2, 'parents': {}, 'thread_id': 1, 'customer_name': 'Guilherme', 'age': 26, 'income': 1000, 'credit_score': 750}, created_at='2025-06-27T18:50:07.839566+00:00', parent_config={'configurable': {'thread_id': '1', 'checkpoint_ns': '', 'checkpoint_id': '1f053878-a78d-6041-8001-3a6f1ea7f986'}}, tasks=(PregelTask(id='39438205-01ac-a2fa-df23-dbb83040ad00', name='tools', path=('__pregel_pull', 'tools'), error=None, interrupts=(), state=None, result={'messages': [ToolMessage(content='10000', name='calculate_max_loan', id='98f61d45-5bc9-4185-a351-5cdc81af2412', tool_call_id='call_dRP1Fnes9eTsFmFp9YF45yYS')]}),), interrupts=()),\n",
       " StateSnapshot(values={'messages': [SystemMessage(content=\"You are a Loan Agent analysing a customer loan request.\\n- Understand how much the customer needs.\\n- Calculate the maximum loan amount using one of the provided tools.\\n- If the requested amount exceeds the limit, update the negotiation to lost.\\n- If the requested amount meets the limit, update the negotiation to won.\\n- Update status as won or lost based on the negotiation.\\nTerminate gracefully:\\n  - If won: Notify that a human representative will contact them.\\n  - If lost: Thank the customer for their time and explain why the loan was refused.\\n\\nDetails about the customer you're negotiating with:\\n- customer_name: Guilherme- customer_age: 26- customer_income: 1000- customer_credit_score: 750\", additional_kwargs={}, response_metadata={}, name='system', id='d5548b02-7258-4c2b-bb2c-6b6622606aa6'), HumanMessage(content='I want to have $1000000', additional_kwargs={}, response_metadata={}, name='guilherme', id='a4409845-a975-4b25-adc3-ca2bc0e00a83')], 'customer_query': 'I want to have $1000000', 'negotiation_status': 'in_progress'}, next=('loan_agent',), config={'configurable': {'thread_id': '1', 'checkpoint_ns': '', 'checkpoint_id': '1f053878-a78d-6041-8001-3a6f1ea7f986'}}, metadata={'source': 'loop', 'writes': {'entry_point': {'messages': [SystemMessage(content=\"You are a Loan Agent analysing a customer loan request.\\n- Understand how much the customer needs.\\n- Calculate the maximum loan amount using one of the provided tools.\\n- If the requested amount exceeds the limit, update the negotiation to lost.\\n- If the requested amount meets the limit, update the negotiation to won.\\n- Update status as won or lost based on the negotiation.\\nTerminate gracefully:\\n  - If won: Notify that a human representative will contact them.\\n  - If lost: Thank the customer for their time and explain why the loan was refused.\\n\\nDetails about the customer you're negotiating with:\\n- customer_name: Guilherme- customer_age: 26- customer_income: 1000- customer_credit_score: 750\", additional_kwargs={}, response_metadata={}, name='system', id='d5548b02-7258-4c2b-bb2c-6b6622606aa6'), HumanMessage(content='I want to have $1000000', additional_kwargs={}, response_metadata={}, name='guilherme', id='a4409845-a975-4b25-adc3-ca2bc0e00a83')], 'negotiation_status': 'in_progress'}}, 'step': 1, 'parents': {}, 'thread_id': 1, 'customer_name': 'Guilherme', 'age': 26, 'income': 1000, 'credit_score': 750}, created_at='2025-06-27T18:50:05.734909+00:00', parent_config={'configurable': {'thread_id': '1', 'checkpoint_ns': '', 'checkpoint_id': '1f053878-a78a-6e5d-8000-3d1a42d213e2'}}, tasks=(PregelTask(id='47ce566b-cd7e-8890-474c-a6907a62c0a4', name='loan_agent', path=('__pregel_pull', 'loan_agent'), error=None, interrupts=(), state=None, result={'messages': AIMessage(content='', additional_kwargs={'tool_calls': [{'id': 'call_dRP1Fnes9eTsFmFp9YF45yYS', 'function': {'arguments': '{\"age\":26,\"income\":1000,\"credit_score\":750}', 'name': 'calculate_max_loan'}, 'type': 'function'}], 'refusal': None}, response_metadata={'token_usage': {'completion_tokens': 26, 'prompt_tokens': 351, 'total_tokens': 377, 'completion_tokens_details': {'accepted_prediction_tokens': 0, 'audio_tokens': 0, 'reasoning_tokens': 0, 'rejected_prediction_tokens': 0}, 'prompt_tokens_details': {'audio_tokens': 0, 'cached_tokens': 0}}, 'model_name': 'gpt-4o-mini-2024-07-18', 'system_fingerprint': 'fp_62a23a81ef', 'id': 'chatcmpl-Bn8RDFDoG77ume1LNYCZ85ne2fo43', 'service_tier': 'default', 'finish_reason': 'tool_calls', 'logprobs': None}, name='loan_agent', id='30004087-1340-48aa-94dc-52b7a2bff831', tool_calls=[{'name': 'calculate_max_loan', 'args': {'age': 26, 'income': 1000, 'credit_score': 750}, 'id': 'call_dRP1Fnes9eTsFmFp9YF45yYS', 'type': 'tool_call'}], usage_metadata={'input_tokens': 351, 'output_tokens': 26, 'total_tokens': 377, 'input_token_details': {'audio': 0, 'cache_read': 0}, 'output_token_details': {'audio': 0, 'reasoning': 0}})}),), interrupts=()),\n",
       " StateSnapshot(values={'messages': [], 'customer_query': 'I want to have $1000000'}, next=('entry_point',), config={'configurable': {'thread_id': '1', 'checkpoint_ns': '', 'checkpoint_id': '1f053878-a78a-6e5d-8000-3d1a42d213e2'}}, metadata={'source': 'loop', 'writes': None, 'step': 0, 'parents': {}, 'thread_id': 1, 'customer_name': 'Guilherme', 'age': 26, 'income': 1000, 'credit_score': 750}, created_at='2025-06-27T18:50:05.734041+00:00', parent_config={'configurable': {'thread_id': '1', 'checkpoint_ns': '', 'checkpoint_id': '1f053878-a788-6e24-bfff-713573bb3436'}}, tasks=(PregelTask(id='e1ef0526-3301-73d8-299e-ab3294abb0c2', name='entry_point', path=('__pregel_pull', 'entry_point'), error=None, interrupts=(), state=None, result={'messages': [SystemMessage(content=\"You are a Loan Agent analysing a customer loan request.\\n- Understand how much the customer needs.\\n- Calculate the maximum loan amount using one of the provided tools.\\n- If the requested amount exceeds the limit, update the negotiation to lost.\\n- If the requested amount meets the limit, update the negotiation to won.\\n- Update status as won or lost based on the negotiation.\\nTerminate gracefully:\\n  - If won: Notify that a human representative will contact them.\\n  - If lost: Thank the customer for their time and explain why the loan was refused.\\n\\nDetails about the customer you're negotiating with:\\n- customer_name: Guilherme- customer_age: 26- customer_income: 1000- customer_credit_score: 750\", additional_kwargs={}, response_metadata={}, name='system', id='d5548b02-7258-4c2b-bb2c-6b6622606aa6'), HumanMessage(content='I want to have $1000000', additional_kwargs={}, response_metadata={}, name='guilherme', id='a4409845-a975-4b25-adc3-ca2bc0e00a83')], 'negotiation_status': 'in_progress'}),), interrupts=()),\n",
       " StateSnapshot(values={'messages': []}, next=('__start__',), config={'configurable': {'thread_id': '1', 'checkpoint_ns': '', 'checkpoint_id': '1f053878-a788-6e24-bfff-713573bb3436'}}, metadata={'source': 'input', 'writes': {'__start__': {'customer_query': 'I want to have $1000000'}}, 'step': -1, 'parents': {}, 'thread_id': 1, 'customer_name': 'Guilherme', 'age': 26, 'income': 1000, 'credit_score': 750}, created_at='2025-06-27T18:50:05.733218+00:00', parent_config=None, tasks=(PregelTask(id='b220bdf0-92fd-cc3f-7b7a-60cfb2a65350', name='__start__', path=('__pregel_pull', '__start__'), error=None, interrupts=(), state=None, result={'customer_query': 'I want to have $1000000'}),), interrupts=())]"
      ]
     },
     "execution_count": 46,
     "metadata": {},
     "output_type": "execute_result"
    }
   ],
   "source": [
    "state_history"
   ]
  },
  {
   "cell_type": "code",
   "execution_count": 47,
   "id": "bf12b25c",
   "metadata": {},
   "outputs": [
    {
     "data": {
      "text/plain": [
       "'Thank you for your time, Guilherme. Unfortunately, your loan request for $1,000,000 exceeds the maximum amount we can offer, which is $10,000. If you have any other questions or need assistance, feel free to reach out.'"
      ]
     },
     "execution_count": 47,
     "metadata": {},
     "output_type": "execute_result"
    }
   ],
   "source": [
    "state_history[0].values[\"messages\"][-1].content"
   ]
  },
  {
   "cell_type": "code",
   "execution_count": 48,
   "id": "c478b024",
   "metadata": {},
   "outputs": [
    {
     "name": "stdout",
     "output_type": "stream",
     "text": [
      "================================\u001b[1m System Message \u001b[0m================================\n",
      "Name: system\n",
      "\n",
      "You are a Loan Agent analysing a customer loan request.\n",
      "- Understand how much the customer needs.\n",
      "- Calculate the maximum loan amount using one of the provided tools.\n",
      "- If the requested amount exceeds the limit, update the negotiation to lost.\n",
      "- If the requested amount meets the limit, update the negotiation to won.\n",
      "- Update status as won or lost based on the negotiation.\n",
      "Terminate gracefully:\n",
      "  - If won: Notify that a human representative will contact them.\n",
      "  - If lost: Thank the customer for their time and explain why the loan was refused.\n",
      "\n",
      "Details about the customer you're negotiating with:\n",
      "- customer_name: Guilherme- customer_age: 26- customer_income: 1000- customer_credit_score: 750\n",
      "================================\u001b[1m Human Message \u001b[0m=================================\n",
      "Name: guilherme\n",
      "\n",
      "I want to have $1000000\n",
      "==================================\u001b[1m Ai Message \u001b[0m==================================\n",
      "Name: loan_agent\n",
      "Tool Calls:\n",
      "  calculate_max_loan (call_dRP1Fnes9eTsFmFp9YF45yYS)\n",
      " Call ID: call_dRP1Fnes9eTsFmFp9YF45yYS\n",
      "  Args:\n",
      "    age: 26\n",
      "    income: 1000\n",
      "    credit_score: 750\n",
      "=================================\u001b[1m Tool Message \u001b[0m=================================\n",
      "Name: calculate_max_loan\n",
      "\n",
      "10000\n",
      "==================================\u001b[1m Ai Message \u001b[0m==================================\n",
      "Name: loan_agent\n",
      "Tool Calls:\n",
      "  update_negotiation_status (call_N55jitkd8NefMIFZEe5SkIR3)\n",
      " Call ID: call_N55jitkd8NefMIFZEe5SkIR3\n",
      "  Args:\n",
      "    status: lost\n",
      "=================================\u001b[1m Tool Message \u001b[0m=================================\n",
      "Name: update_negotiation_status\n",
      "\n",
      "Successfully updated negotiation_status\n",
      "==================================\u001b[1m Ai Message \u001b[0m==================================\n",
      "Name: loan_agent\n",
      "\n",
      "Thank you for your time, Guilherme. Unfortunately, your loan request for $1,000,000 exceeds the maximum amount we can offer, which is $10,000. If you have any other questions or need assistance, feel free to reach out.\n"
     ]
    }
   ],
   "source": [
    "for m in state_history[0].values[\"messages\"]:\n",
    "  m.pretty_print()"
   ]
  }
 ],
 "metadata": {
  "kernelspec": {
   "display_name": "venv",
   "language": "python",
   "name": "python3"
  },
  "language_info": {
   "codemirror_mode": {
    "name": "ipython",
    "version": 3
   },
   "file_extension": ".py",
   "mimetype": "text/x-python",
   "name": "python",
   "nbconvert_exporter": "python",
   "pygments_lexer": "ipython3",
   "version": "3.12.7"
  }
 },
 "nbformat": 4,
 "nbformat_minor": 5
}
