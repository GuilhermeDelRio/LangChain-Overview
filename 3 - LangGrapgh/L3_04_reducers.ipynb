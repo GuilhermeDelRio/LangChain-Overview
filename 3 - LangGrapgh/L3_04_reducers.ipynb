{
 "cells": [
  {
   "cell_type": "code",
   "execution_count": 45,
   "id": "25fda8d4",
   "metadata": {},
   "outputs": [],
   "source": [
    "import random\n",
    "from typing_extensions import TypedDict, Annotated, List\n",
    "import operator\n",
    "from langgraph.graph import StateGraph, START, END, MessagesState\n",
    "from langgraph.graph.message import add_messages\n",
    "from langchain_core.messages import HumanMessage, AIMessage, SystemMessage, AnyMessage\n",
    "from langchain_openai import ChatOpenAI\n",
    "from IPython.display import Image, display"
   ]
  },
  {
   "cell_type": "code",
   "execution_count": 46,
   "id": "d2d9a2d4",
   "metadata": {},
   "outputs": [],
   "source": [
    "llm = ChatOpenAI(\n",
    "  model=\"gpt-4o-mini\",\n",
    "  temperature=0.0,\n",
    "  base_url=\"https://openai.vocareum.com/v1\"\n",
    ")"
   ]
  },
  {
   "cell_type": "markdown",
   "id": "20ae183f",
   "metadata": {},
   "source": [
    "Data Processing (Sequential)"
   ]
  },
  {
   "cell_type": "code",
   "execution_count": 47,
   "id": "87dbcc45",
   "metadata": {},
   "outputs": [],
   "source": [
    "class State(TypedDict):\n",
    "  input: int\n",
    "  output: int\n"
   ]
  },
  {
   "cell_type": "code",
   "execution_count": 48,
   "id": "d26569fd",
   "metadata": {},
   "outputs": [],
   "source": [
    "def node_a(state: State)->State:\n",
    "  input_value = state['input']\n",
    "  offset = random.randint(1,10)\n",
    "  output = input_value + offset\n",
    "  print(\n",
    "    f\"NODE A: \\n\"\n",
    "    f\"->input:{input_value}\\n\"\n",
    "    f\"->offset:{offset}\\n\"\n",
    "    f\"->output:{output}\"\n",
    "  )\n",
    "  \n",
    "  return {\"output\": output}"
   ]
  },
  {
   "cell_type": "code",
   "execution_count": 49,
   "id": "869995fe",
   "metadata": {},
   "outputs": [],
   "source": [
    "def node_b(state: State):\n",
    "  input_value = state['output']\n",
    "  offset = random.randint(1,10)\n",
    "  output = input_value + offset\n",
    "  print(\n",
    "    f\"NODE B: \\n\"\n",
    "    f\"->input:{input_value}\\n\"\n",
    "    f\"->offset:{offset}\\n\"\n",
    "    f\"->output:{output}\"\n",
    "  )\n",
    "  \n",
    "  return {\"output\": output}"
   ]
  },
  {
   "cell_type": "code",
   "execution_count": 50,
   "id": "4e213d9a",
   "metadata": {},
   "outputs": [
    {
     "data": {
      "image/png": "[encoded data removed]",
      "text/plain": [
       "<IPython.core.display.Image object>"
      ]
     },
     "metadata": {},
     "output_type": "display_data"
    }
   ],
   "source": [
    "workflow = StateGraph(State)\n",
    "workflow.add_node(node_a)\n",
    "workflow.add_node(node_b)\n",
    "workflow.add_edge(START, \"node_a\")\n",
    "workflow.add_edge(\"node_a\", \"node_b\")\n",
    "workflow.add_edge(\"node_a\", END)\n",
    "graph = workflow.compile()\n",
    "display(\n",
    "  Image(\n",
    "    graph.get_graph().draw_mermaid_png()\n",
    "  )\n",
    ")"
   ]
  },
  {
   "cell_type": "code",
   "execution_count": 51,
   "id": "c8cd3a79",
   "metadata": {},
   "outputs": [
    {
     "name": "stdout",
     "output_type": "stream",
     "text": [
      "NODE A: \n",
      "->input:1\n",
      "->offset:3\n",
      "->output:4\n",
      "NODE B: \n",
      "->input:4\n",
      "->offset:8\n",
      "->output:12\n"
     ]
    },
    {
     "data": {
      "text/plain": [
       "{'input': 1, 'output': 12}"
      ]
     },
     "execution_count": 51,
     "metadata": {},
     "output_type": "execute_result"
    }
   ],
   "source": [
    "graph.invoke(\n",
    "  input = {\n",
    "    \"input\": 1\n",
    "  }\n",
    ")"
   ]
  },
  {
   "cell_type": "markdown",
   "id": "4ce6e51e",
   "metadata": {},
   "source": [
    "Data Processing (Parallel)"
   ]
  },
  {
   "cell_type": "code",
   "execution_count": 52,
   "id": "9294eeb0",
   "metadata": {},
   "outputs": [],
   "source": [
    "class State(TypedDict):\n",
    "  input: int\n",
    "  output: int\n"
   ]
  },
  {
   "cell_type": "code",
   "execution_count": 53,
   "id": "faefe418",
   "metadata": {},
   "outputs": [],
   "source": [
    "def node_a(state: State)->State:\n",
    "  input_value = state['input']\n",
    "  offset = random.randint(1,10)\n",
    "  output = input_value + offset\n",
    "  print(\n",
    "    f\"NODE A: \\n\"\n",
    "    f\"->input:{input_value}\\n\"\n",
    "    f\"->offset:{offset}\\n\"\n",
    "    f\"->output:{output}\"\n",
    "  )\n",
    "  \n",
    "  return {\"output\": output}\n",
    "\n",
    "\n",
    "def node_b(state: State):\n",
    "  input_value = state['input'] # Coming from input\n",
    "  offset = random.randint(1,10)\n",
    "  output = input_value + offset\n",
    "  print(\n",
    "    f\"NODE B: \\n\"\n",
    "    f\"->input:{input_value}\\n\"\n",
    "    f\"->offset:{offset}\\n\"\n",
    "    f\"->output:{output}\"\n",
    "  )\n",
    "  \n",
    "  return {\"output\": output}"
   ]
  },
  {
   "cell_type": "code",
   "execution_count": 54,
   "id": "23f604f1",
   "metadata": {},
   "outputs": [
    {
     "data": {
      "image/png": "[encoded data removed]",
      "text/plain": [
       "<IPython.core.display.Image object>"
      ]
     },
     "metadata": {},
     "output_type": "display_data"
    }
   ],
   "source": [
    "workflow = StateGraph(State)\n",
    "workflow.add_node(node_a)\n",
    "workflow.add_node(node_b)\n",
    "workflow.add_edge(START, \"node_a\")\n",
    "workflow.add_edge(START, \"node_b\")\n",
    "workflow.add_edge(\"node_a\", END)\n",
    "workflow.add_edge(\"node_b\", END)\n",
    "graph = workflow.compile()\n",
    "display(\n",
    "  Image(\n",
    "    graph.get_graph().draw_mermaid_png()\n",
    "  )\n",
    ")"
   ]
  },
  {
   "cell_type": "code",
   "execution_count": 55,
   "id": "a2785f8d",
   "metadata": {},
   "outputs": [],
   "source": [
    "# graph.invoke(\n",
    "#   input = {\n",
    "#     \"input\": 1\n",
    "#   }\n",
    "# )"
   ]
  },
  {
   "cell_type": "markdown",
   "id": "4b82b853",
   "metadata": {},
   "source": [
    "Data Processing with a Reducer"
   ]
  },
  {
   "cell_type": "code",
   "execution_count": 56,
   "id": "c666099f",
   "metadata": {},
   "outputs": [
    {
     "name": "stdout",
     "output_type": "stream",
     "text": [
      "Help on built-in function add in module _operator:\n",
      "\n",
      "add(a, b, /)\n",
      "    Same as a + b.\n",
      "\n"
     ]
    }
   ],
   "source": [
    "help(operator.add)"
   ]
  },
  {
   "cell_type": "code",
   "execution_count": 57,
   "id": "1f848586",
   "metadata": {},
   "outputs": [
    {
     "data": {
      "text/plain": [
       "[1, 2, 3, 4, 5, 6]"
      ]
     },
     "execution_count": 57,
     "metadata": {},
     "output_type": "execute_result"
    }
   ],
   "source": [
    "operator.add([1,2,3], [4,5,6])"
   ]
  },
  {
   "cell_type": "code",
   "execution_count": 58,
   "id": "cd53ed72",
   "metadata": {},
   "outputs": [],
   "source": [
    "class State(TypedDict):\n",
    "  input: int\n",
    "  output: Annotated[List[int], operator.add]\n"
   ]
  },
  {
   "cell_type": "code",
   "execution_count": 59,
   "id": "b3e42c8c",
   "metadata": {},
   "outputs": [],
   "source": [
    "def node_a(state: State):\n",
    "  input_value = state['input']\n",
    "  offset = random.randint(1,10)\n",
    "  output = input_value + offset\n",
    "  print(\n",
    "    f\"NODE A: \\n\"\n",
    "    f\"->input:{input_value}\\n\"\n",
    "    f\"->offset:{offset}\\n\"\n",
    "    f\"->output:{output}\"\n",
    "  )\n",
    "  \n",
    "  return {\"output\": [output]} # now it's a List of ints\n",
    "\n",
    "\n",
    "def node_b(state: State):\n",
    "  input_value = state['input'] # Coming from input\n",
    "  offset = random.randint(1,10)\n",
    "  output = input_value + offset\n",
    "  print(\n",
    "    f\"NODE B: \\n\"\n",
    "    f\"->input:{input_value}\\n\"\n",
    "    f\"->offset:{offset}\\n\"\n",
    "    f\"->output:{output}\"\n",
    "  )\n",
    "  \n",
    "  return {\"output\": [output]}"
   ]
  },
  {
   "cell_type": "code",
   "execution_count": 60,
   "id": "981921f7",
   "metadata": {},
   "outputs": [
    {
     "data": {
      "image/png": "[encoded data removed]",
      "text/plain": [
       "<IPython.core.display.Image object>"
      ]
     },
     "metadata": {},
     "output_type": "display_data"
    }
   ],
   "source": [
    "workflow = StateGraph(State)\n",
    "workflow.add_node(node_a)\n",
    "workflow.add_node(node_b)\n",
    "workflow.add_edge(START, \"node_a\")\n",
    "workflow.add_edge(START, \"node_b\")\n",
    "workflow.add_edge(\"node_a\", END)\n",
    "workflow.add_edge(\"node_b\", END)\n",
    "graph = workflow.compile()\n",
    "display(\n",
    "  Image(\n",
    "    graph.get_graph().draw_mermaid_png()\n",
    "  )\n",
    ")"
   ]
  },
  {
   "cell_type": "code",
   "execution_count": 61,
   "id": "cdb5b405",
   "metadata": {},
   "outputs": [
    {
     "name": "stdout",
     "output_type": "stream",
     "text": [
      "NODE A: \n",
      "->input:1\n",
      "->offset:2\n",
      "->output:3\n",
      "NODE B: \n",
      "->input:1\n",
      "->offset:7\n",
      "->output:8\n"
     ]
    },
    {
     "data": {
      "text/plain": [
       "{'input': 1, 'output': [3, 8]}"
      ]
     },
     "execution_count": 61,
     "metadata": {},
     "output_type": "execute_result"
    }
   ],
   "source": [
    "graph.invoke(\n",
    "  input = {\n",
    "    \"input\": 1\n",
    "  }\n",
    ")"
   ]
  },
  {
   "cell_type": "markdown",
   "id": "747461fd",
   "metadata": {},
   "source": [
    "Call LLMs with Custom State and Langgraph operator"
   ]
  },
  {
   "cell_type": "code",
   "execution_count": 62,
   "id": "faf5dd71",
   "metadata": {},
   "outputs": [
    {
     "data": {
      "text/plain": [
       "[SystemMessage(content=\"You're a helpful assistant\", additional_kwargs={}, response_metadata={}),\n",
       " HumanMessage(content='Hi!', additional_kwargs={}, response_metadata={}),\n",
       " AIMessage(content='Hello! How Can I assist you today?', additional_kwargs={}, response_metadata={})]"
      ]
     },
     "execution_count": 62,
     "metadata": {},
     "output_type": "execute_result"
    }
   ],
   "source": [
    "operator.add(\n",
    "  [\n",
    "    SystemMessage(\"You're a helpful assistant\"),\n",
    "    HumanMessage(\"Hi!\")\n",
    "  ],\n",
    "  [\n",
    "    AIMessage(\"Hello! How Can I assist you today?\")\n",
    "  ]\n",
    ")"
   ]
  },
  {
   "cell_type": "code",
   "execution_count": 63,
   "id": "cbb79806",
   "metadata": {},
   "outputs": [],
   "source": [
    "# operator.add(\n",
    "#   [\n",
    "#     SystemMessage(\"You're a helpful assistant\"),\n",
    "#     HumanMessage(\"Hi!\")\n",
    "#   ],\n",
    "#   AIMessage(\"Hello! How Can I assist you today?\")\n",
    "# )"
   ]
  },
  {
   "cell_type": "code",
   "execution_count": 64,
   "id": "02e96c1d",
   "metadata": {},
   "outputs": [
    {
     "name": "stdout",
     "output_type": "stream",
     "text": [
      "Help on function _add_messages in module langgraph.graph.message:\n",
      "\n",
      "_add_messages(left: Union[list[Union[langchain_core.messages.base.BaseMessage, list[str], tuple[str, str], str, dict[str, Any]]], langchain_core.messages.base.BaseMessage, list[str], tuple[str, str], str, dict[str, Any], NoneType] = None, right: Union[list[Union[langchain_core.messages.base.BaseMessage, list[str], tuple[str, str], str, dict[str, Any]]], langchain_core.messages.base.BaseMessage, list[str], tuple[str, str], str, dict[str, Any], NoneType] = None, **kwargs: Any) -> Union[list[Union[langchain_core.messages.base.BaseMessage, list[str], tuple[str, str], str, dict[str, Any]]], langchain_core.messages.base.BaseMessage, list[str], tuple[str, str], str, dict[str, Any], Callable[[Union[list[Union[langchain_core.messages.base.BaseMessage, list[str], tuple[str, str], str, dict[str, Any]]], langchain_core.messages.base.BaseMessage, list[str], tuple[str, str], str, dict[str, Any]], Union[list[Union[langchain_core.messages.base.BaseMessage, list[str], tuple[str, str], str, dict[str, Any]]], langchain_core.messages.base.BaseMessage, list[str], tuple[str, str], str, dict[str, Any]]], Union[list[Union[langchain_core.messages.base.BaseMessage, list[str], tuple[str, str], str, dict[str, Any]]], langchain_core.messages.base.BaseMessage, list[str], tuple[str, str], str, dict[str, Any]]]]\n",
      "    Merges two lists of messages, updating existing messages by ID.\n",
      "\n",
      "    By default, this ensures the state is \"append-only\", unless the\n",
      "    new message has the same ID as an existing message.\n",
      "\n",
      "    Args:\n",
      "        left: The base list of messages.\n",
      "        right: The list of messages (or single message) to merge\n",
      "            into the base list.\n",
      "        format: The format to return messages in. If None then messages will be\n",
      "            returned as is. If 'langchain-openai' then messages will be returned as\n",
      "            BaseMessage objects with their contents formatted to match OpenAI message\n",
      "            format, meaning contents can be string, 'text' blocks, or 'image_url' blocks\n",
      "            and tool responses are returned as their own ToolMessages.\n",
      "\n",
      "            !!! important \"Requirement\"\n",
      "\n",
      "                Must have ``langchain-core>=0.3.11`` installed to use this feature.\n",
      "\n",
      "    Returns:\n",
      "        A new list of messages with the messages from `right` merged into `left`.\n",
      "        If a message in `right` has the same ID as a message in `left`, the\n",
      "        message from `right` will replace the message from `left`.\n",
      "\n",
      "    Example:\n",
      "        ```python title=\"Basic usage\"\n",
      "        from langchain_core.messages import AIMessage, HumanMessage\n",
      "        msgs1 = [HumanMessage(content=\"Hello\", id=\"1\")]\n",
      "        msgs2 = [AIMessage(content=\"Hi there!\", id=\"2\")]\n",
      "        add_messages(msgs1, msgs2)\n",
      "        # [HumanMessage(content='Hello', id='1'), AIMessage(content='Hi there!', id='2')]\n",
      "        ```\n",
      "\n",
      "        ```python title=\"Overwrite existing message\"\n",
      "        msgs1 = [HumanMessage(content=\"Hello\", id=\"1\")]\n",
      "        msgs2 = [HumanMessage(content=\"Hello again\", id=\"1\")]\n",
      "        add_messages(msgs1, msgs2)\n",
      "        # [HumanMessage(content='Hello again', id='1')]\n",
      "        ```\n",
      "\n",
      "        ```python title=\"Use in a StateGraph\"\n",
      "        from typing import Annotated\n",
      "        from typing_extensions import TypedDict\n",
      "        from langgraph.graph import StateGraph\n",
      "\n",
      "        class State(TypedDict):\n",
      "            messages: Annotated[list, add_messages]\n",
      "\n",
      "        builder = StateGraph(State)\n",
      "        builder.add_node(\"chatbot\", lambda state: {\"messages\": [(\"assistant\", \"Hello\")]})\n",
      "        builder.set_entry_point(\"chatbot\")\n",
      "        builder.set_finish_point(\"chatbot\")\n",
      "        graph = builder.compile()\n",
      "        graph.invoke({})\n",
      "        # {'messages': [AIMessage(content='Hello', id=...)]}\n",
      "        ```\n",
      "\n",
      "        ```python title=\"Use OpenAI message format\"\n",
      "        from typing import Annotated\n",
      "        from typing_extensions import TypedDict\n",
      "        from langgraph.graph import StateGraph, add_messages\n",
      "\n",
      "        class State(TypedDict):\n",
      "            messages: Annotated[list, add_messages(format='langchain-openai')]\n",
      "\n",
      "        def chatbot_node(state: State) -> list:\n",
      "            return {\"messages\": [\n",
      "                {\n",
      "                    \"role\": \"user\",\n",
      "                    \"content\": [\n",
      "                        {\n",
      "                            \"type\": \"text\",\n",
      "                            \"text\": \"Here's an image:\",\n",
      "                            \"cache_control\": {\"type\": \"ephemeral\"},\n",
      "                        },\n",
      "                        {\n",
      "                            \"type\": \"image\",\n",
      "                            \"source\": {\n",
      "                                \"type\": \"base64\",\n",
      "                                \"media_type\": \"image/jpeg\",\n",
      "                                \"data\": \"1234\",\n",
      "                            },\n",
      "                        },\n",
      "                    ]\n",
      "                },\n",
      "            ]}\n",
      "\n",
      "        builder = StateGraph(State)\n",
      "        builder.add_node(\"chatbot\", chatbot_node)\n",
      "        builder.set_entry_point(\"chatbot\")\n",
      "        builder.set_finish_point(\"chatbot\")\n",
      "        graph = builder.compile()\n",
      "        graph.invoke({\"messages\": []})\n",
      "        # {\n",
      "        #     'messages': [\n",
      "        #         HumanMessage(\n",
      "        #             content=[\n",
      "        #                 {\"type\": \"text\", \"text\": \"Here's an image:\"},\n",
      "        #                 {\n",
      "        #                     \"type\": \"image_url\",\n",
      "        #                     \"image_url\": {\"url\": \"data:image/jpeg;base64,1234\"},\n",
      "        #                 },\n",
      "        #             ],\n",
      "        #         ),\n",
      "        #     ]\n",
      "        # }\n",
      "        ```\n",
      "\n"
     ]
    }
   ],
   "source": [
    "help(add_messages)"
   ]
  },
  {
   "cell_type": "code",
   "execution_count": 65,
   "id": "6f101979",
   "metadata": {},
   "outputs": [
    {
     "data": {
      "text/plain": [
       "[SystemMessage(content=\"You're a helpful assistant\", additional_kwargs={}, response_metadata={}, id='51ea12c0-833c-48ea-8109-db5f0bc52617'),\n",
       " HumanMessage(content='Hi!', additional_kwargs={}, response_metadata={}, id='fa461737-a39e-4c41-8abc-45552850daee'),\n",
       " AIMessage(content='Hello! How Can I assist you today?', additional_kwargs={}, response_metadata={}, id='44806019-76ae-4cab-8ce1-dbeb8e646432')]"
      ]
     },
     "execution_count": 65,
     "metadata": {},
     "output_type": "execute_result"
    }
   ],
   "source": [
    "add_messages(\n",
    "  left=[\n",
    "    SystemMessage(\"You're a helpful assistant\"),\n",
    "    HumanMessage(\"Hi!\")\n",
    "  ],\n",
    "  right = AIMessage(\"Hello! How Can I assist you today?\")\n",
    ")"
   ]
  },
  {
   "cell_type": "code",
   "execution_count": 66,
   "id": "6559b908",
   "metadata": {},
   "outputs": [],
   "source": [
    "class State(TypedDict):\n",
    "  messages: Annotated[List[AnyMessage], add_messages]\n"
   ]
  },
  {
   "cell_type": "code",
   "execution_count": 67,
   "id": "5486d9ab",
   "metadata": {},
   "outputs": [],
   "source": [
    "def model(state: State):\n",
    "  messages = state[\"messages\"]\n",
    "  response = llm.invoke(messages)\n",
    "  return {\"messages\": response}\n"
   ]
  },
  {
   "cell_type": "code",
   "execution_count": 68,
   "id": "6141f573",
   "metadata": {},
   "outputs": [],
   "source": [
    "workflow = StateGraph(State)\n",
    "workflow.add_node(\"model\", model)\n",
    "workflow.add_edge(START, \"model\")\n",
    "workflow.add_edge(\"model\", END)\n",
    "graph = workflow.compile()"
   ]
  },
  {
   "cell_type": "code",
   "execution_count": 69,
   "id": "6c23b21f",
   "metadata": {},
   "outputs": [],
   "source": [
    "result = graph.invoke(\n",
    "  input = {\n",
    "    \"messages\": [HumanMessage(\"What's the the name of Ash's first pokemon?\")]\n",
    "  }\n",
    ")"
   ]
  },
  {
   "cell_type": "code",
   "execution_count": 70,
   "id": "6ad083a8",
   "metadata": {},
   "outputs": [
    {
     "name": "stdout",
     "output_type": "stream",
     "text": [
      "================================\u001b[1m Human Message \u001b[0m=================================\n",
      "\n",
      "What's the the name of Ash's first pokemon?\n",
      "==================================\u001b[1m Ai Message \u001b[0m==================================\n",
      "\n",
      "Ash's first Pokémon is Pikachu. He received Pikachu from Professor Oak at the beginning of his journey in the Pokémon anime series.\n"
     ]
    }
   ],
   "source": [
    "for msg in result['messages']:\n",
    "  msg.pretty_print()"
   ]
  },
  {
   "cell_type": "markdown",
   "id": "b0590f6a",
   "metadata": {},
   "source": [
    "Call LLMs with Langgraph MessagesState"
   ]
  },
  {
   "cell_type": "code",
   "execution_count": 71,
   "id": "337a8924",
   "metadata": {},
   "outputs": [],
   "source": [
    "def model(state: MessagesState):\n",
    "  messages = state[\"messages\"]\n",
    "  response = llm.invoke(messages)\n",
    "  return {\"messages\": response}\n"
   ]
  },
  {
   "cell_type": "code",
   "execution_count": 72,
   "id": "86a1bd35",
   "metadata": {},
   "outputs": [],
   "source": [
    "workflow = StateGraph(MessagesState)\n",
    "workflow.add_node(\"model\", model)\n",
    "workflow.add_edge(START, \"model\")\n",
    "workflow.add_edge(\"model\", END)\n",
    "graph = workflow.compile()"
   ]
  },
  {
   "cell_type": "code",
   "execution_count": 73,
   "id": "66eda42f",
   "metadata": {},
   "outputs": [],
   "source": [
    "result = graph.invoke(\n",
    "  input = {\n",
    "    \"messages\": [HumanMessage(\"What's the the name of Ash's first pokemon?\")]\n",
    "  }\n",
    ")"
   ]
  },
  {
   "cell_type": "code",
   "execution_count": 74,
   "id": "b20e7627",
   "metadata": {},
   "outputs": [
    {
     "name": "stdout",
     "output_type": "stream",
     "text": [
      "================================\u001b[1m Human Message \u001b[0m=================================\n",
      "\n",
      "What's the the name of Ash's first pokemon?\n",
      "==================================\u001b[1m Ai Message \u001b[0m==================================\n",
      "\n",
      "Ash's first Pokémon is Pikachu. He received Pikachu from Professor Oak at the beginning of his journey in the Pokémon anime series.\n"
     ]
    }
   ],
   "source": [
    "for msg in result['messages']:\n",
    "  msg.pretty_print()"
   ]
  }
 ],
 "metadata": {
  "kernelspec": {
   "display_name": "venv",
   "language": "python",
   "name": "python3"
  },
  "language_info": {
   "codemirror_mode": {
    "name": "ipython",
    "version": 3
   },
   "file_extension": ".py",
   "mimetype": "text/x-python",
   "name": "python",
   "nbconvert_exporter": "python",
   "pygments_lexer": "ipython3",
   "version": "3.12.7"
  }
 },
 "nbformat": 4,
 "nbformat_minor": 5
}
