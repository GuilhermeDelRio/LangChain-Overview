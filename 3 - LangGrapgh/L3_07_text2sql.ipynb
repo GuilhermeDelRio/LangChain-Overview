{
 "cells": [
  {
   "cell_type": "code",
   "execution_count": null,
   "id": "25fda8d4",
   "metadata": {},
   "outputs": [],
   "source": [
    "from langchain_core.messages import SystemMessage, HumanMessage\n",
    "from langchain_openai import ChatOpenAI\n",
    "from langgraph.graph import START, END, StateGraph\n",
    "from langgraph.graph.message import MessagesState\n",
    "from langgraph.prebuilt import ToolNode\n",
    "from IPython.display import Image, display\n",
    "from sqlalchemy import create_engine\n",
    "from dotenv import load_dotenv\n",
    "load_dotenv()\n",
    "\n",
    "from sql_toolkit import (\n",
    "  list_table_tool,\n",
    "  get_table_schema_tool,\n",
    "  execute_sql_tool\n",
    ")"
   ]
  },
  {
   "cell_type": "code",
   "execution_count": null,
   "id": "d2d9a2d4",
   "metadata": {},
   "outputs": [],
   "source": [
    "llm = ChatOpenAI(\n",
    "  model=\"gpt-4o-mini\",\n",
    "  temperature=0.0,\n",
    "  base_url=\"https://openai.vocareum.com/v1\"\n",
    ")"
   ]
  },
  {
   "cell_type": "code",
   "execution_count": null,
   "id": "8fe6f155",
   "metadata": {},
   "outputs": [],
   "source": [
    "llm.invoke(\"What's Pokemon\")"
   ]
  },
  {
   "cell_type": "code",
   "execution_count": null,
   "id": "0887cb18",
   "metadata": {},
   "outputs": [],
   "source": [
    "class State(MessagesState):\n",
    "  user_query:str\n",
    "\n",
    "workflow = StateGraph(State)"
   ]
  },
  {
   "cell_type": "code",
   "execution_count": null,
   "id": "d1443f55",
   "metadata": {},
   "outputs": [],
   "source": [
    "dba_tools = [list_table_tool, get_table_schema_tool, execute_sql_tool]"
   ]
  },
  {
   "cell_type": "code",
   "execution_count": null,
   "id": "9b861797",
   "metadata": {},
   "outputs": [],
   "source": [
    "workflow.add_node(\"dba_tools\", ToolNode(dba_tools))"
   ]
  },
  {
   "cell_type": "code",
   "execution_count": null,
   "id": "6e600bec",
   "metadata": {},
   "outputs": [],
   "source": [
    "dba_llm = llm.bind_tools(dba_tools, tool_choice=\"auto\")"
   ]
  },
  {
   "cell_type": "markdown",
   "id": "0c103b52",
   "metadata": {},
   "source": [
    "Agent Node"
   ]
  },
  {
   "cell_type": "code",
   "execution_count": null,
   "id": "bd24071c",
   "metadata": {},
   "outputs": [],
   "source": [
    "def messages_builder(state: State):\n",
    "  dba_sys_msg = (\n",
    "    \"You are a Sr. SQL developer tasked with generating SQL queries. Perform the following steps:\\n\"\n",
    "    \"First, find out the appropriate table name based on all tables. \"\n",
    "    \"Then get the table's schema to understand the columns. \"\n",
    "    \"With the table name and the schema, generate the ANSI SQL query you think is applicable to the user question. \"\n",
    "    \"Finally, use a tool to execute the above SQL query and output the result based on the user question.\"\n",
    "  )\n",
    "  messages = [\n",
    "    SystemMessage(dba_sys_msg),\n",
    "    HumanMessage(state[\"user_query\"])\n",
    "  ]\n",
    "  return {\"messages\": messages}"
   ]
  },
  {
   "cell_type": "code",
   "execution_count": null,
   "id": "2350cc77",
   "metadata": {},
   "outputs": [],
   "source": [
    "def dba_agent(state: State):\n",
    "  ai_message = dba_llm.invoke(state[\"messages\"])\n",
    "  ai_message.name = \"dba_agent\"\n",
    "  return {\"messages\": ai_message}"
   ]
  },
  {
   "cell_type": "code",
   "execution_count": null,
   "id": "3b1cb770",
   "metadata": {},
   "outputs": [],
   "source": [
    "workflow.add_node(\"messages_builder\", messages_builder)\n",
    "workflow.add_node(\"dba_agent\", dba_agent)"
   ]
  },
  {
   "cell_type": "markdown",
   "id": "33b7be6a",
   "metadata": {},
   "source": [
    "Edges"
   ]
  },
  {
   "cell_type": "code",
   "execution_count": null,
   "id": "0a463953",
   "metadata": {},
   "outputs": [],
   "source": [
    "def should_continue(state: State):\n",
    "  messages = state[\"messages\"]\n",
    "  last_message = messages[-1]\n",
    "  if last_message.tool_calls:\n",
    "    return \"dba_tools\"\n",
    "  return END"
   ]
  },
  {
   "cell_type": "code",
   "execution_count": null,
   "id": "0a901801",
   "metadata": {},
   "outputs": [],
   "source": [
    "workflow.add_edge(START, \"messages_builder\")\n",
    "workflow.add_edge(\"messages_builder\", \"dba_agent\")\n",
    "workflow.add_conditional_edges(\n",
    "  source=\"dba_agent\", \n",
    "  path=should_continue, \n",
    "  path_map=[\"dba_tools\", END]\n",
    ")\n",
    "workflow.add_edge(\"dba_tools\", \"dba_agent\")"
   ]
  },
  {
   "cell_type": "code",
   "execution_count": null,
   "id": "9411ce0b",
   "metadata": {},
   "outputs": [],
   "source": [
    "react_graph = workflow.compile()"
   ]
  },
  {
   "cell_type": "code",
   "execution_count": null,
   "id": "9cccfdcc",
   "metadata": {},
   "outputs": [],
   "source": [
    "display(\n",
    "  Image(\n",
    "    react_graph.get_graph().draw_mermaid_png()\n",
    "  )\n",
    ")"
   ]
  },
  {
   "cell_type": "code",
   "execution_count": null,
   "id": "d0c34b8d",
   "metadata": {},
   "outputs": [],
   "source": [
    "db_engine = create_engine(f\"sqlite:///sales.db\")"
   ]
  },
  {
   "cell_type": "code",
   "execution_count": null,
   "id": "fcdc8b73",
   "metadata": {},
   "outputs": [],
   "source": [
    "config = {\n",
    "  \"configurable\": {\n",
    "    \"db_engine\": db_engine\n",
    "  }\n",
    "}"
   ]
  },
  {
   "cell_type": "code",
   "execution_count": null,
   "id": "0fa4f358",
   "metadata": {},
   "outputs": [],
   "source": [
    "inputs = {\n",
    "  \"user_query\": \"How many Dell XPS 15 were sold?\"  \n",
    "}"
   ]
  },
  {
   "cell_type": "code",
   "execution_count": null,
   "id": "ed321a4c",
   "metadata": {},
   "outputs": [],
   "source": [
    "messages = react_graph.invoke(\n",
    "  input=inputs,\n",
    "  config=config\n",
    ")"
   ]
  },
  {
   "cell_type": "code",
   "execution_count": null,
   "id": "1e9102b9",
   "metadata": {},
   "outputs": [],
   "source": [
    "for m in messages['messages']:\n",
    "  m.pretty_print()"
   ]
  }
 ],
 "metadata": {
  "kernelspec": {
   "display_name": "venv",
   "language": "python",
   "name": "python3"
  },
  "language_info": {
   "codemirror_mode": {
    "name": "ipython",
    "version": 3
   },
   "file_extension": ".py",
   "mimetype": "text/x-python",
   "name": "python",
   "nbconvert_exporter": "python",
   "pygments_lexer": "ipython3",
   "version": "3.12.7"
  }
 },
 "nbformat": 4,
 "nbformat_minor": 5
}
