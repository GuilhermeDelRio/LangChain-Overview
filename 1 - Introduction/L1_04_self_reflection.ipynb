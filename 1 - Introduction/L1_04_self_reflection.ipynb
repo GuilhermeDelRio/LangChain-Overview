{
 "cells": [
  {
   "cell_type": "code",
   "execution_count": 10,
   "id": "d1547b22",
   "metadata": {},
   "outputs": [
    {
     "data": {
      "text/plain": [
       "True"
      ]
     },
     "execution_count": 10,
     "metadata": {},
     "output_type": "execute_result"
    }
   ],
   "source": [
    "import json\n",
    "from typing import List, Dict, Literal\n",
    "from openai import OpenAI\n",
    "from openai.types.chat.chat_completion_message import ChatCompletionMessage\n",
    "from dotenv import load_dotenv\n",
    "load_dotenv()"
   ]
  },
  {
   "cell_type": "code",
   "execution_count": 11,
   "id": "719341be",
   "metadata": {},
   "outputs": [],
   "source": [
    "client = OpenAI(base_url=\"https://openai.vocareum.com/v1\")"
   ]
  },
  {
   "cell_type": "code",
   "execution_count": 12,
   "id": "eaab7423",
   "metadata": {},
   "outputs": [],
   "source": [
    "class Memory:\n",
    "  def __init__(self):\n",
    "    self.messages: List[Dict[str, str]] = []\n",
    "\n",
    "  def add_message(self, role: Literal[\"user\", \"system\", \"assistant\"], content: str):\n",
    "    self.messages.append({\"role\": role, \"content\": content})\n",
    "  \n",
    "  def get_messages(self) -> List[Dict[str, str]]:\n",
    "    return self.messages\n",
    "  \n",
    "  def last_message(self) -> Dict[str, str]:\n",
    "    if self.messages:\n",
    "      return self.messages[-1]\n"
   ]
  },
  {
   "cell_type": "code",
   "execution_count": 13,
   "id": "67e3dc95",
   "metadata": {},
   "outputs": [],
   "source": [
    "SELF_CRITIQUE_PROMPT = \"\"\"\n",
    "Reflect on your previous response...\n",
    "Identify any mistakes, areas for improvement, or ways to clarify the answer, making it more concise.\n",
    "Provide a revised response if necessary in a Json Output structure:\n",
    "{\n",
    "    \"original_response\": \"\",\n",
    "    \"revisions_needed\": \"\",\n",
    "    \"updated_response\": \"\"\n",
    "}\n",
    "\"\"\""
   ]
  },
  {
   "cell_type": "code",
   "execution_count": 14,
   "id": "751820f2",
   "metadata": {},
   "outputs": [],
   "source": [
    "class Agent:\n",
    "  \"\"\"A self-reflection AI Agent\"\"\"\n",
    "  \n",
    "  def __init__(\n",
    "    self,\n",
    "    name: str = \"Agent\",\n",
    "    role: str = \"Personal Assistant\",\n",
    "    instructions: str = \"Help users with any question.\",\n",
    "    model: str = \"gpt-4o-mini\",\n",
    "    temperature: float = 0.0,\n",
    "    ):\n",
    "    self.name = name\n",
    "    self.role = role\n",
    "    self.instructions = instructions\n",
    "    self.model = model\n",
    "    self.temperature = temperature\n",
    "    \n",
    "    self.client = client\n",
    "    self.memory = Memory()\n",
    "    self.memory.add_message(\n",
    "      role=\"system\",\n",
    "      content=f\"You're an AI Agent, your rolse is {self.role}, \"\n",
    "              f\"and you need to {self.instructions}\"\n",
    "    )\n",
    "    \n",
    "    self.critique_prompt = SELF_CRITIQUE_PROMPT\n",
    "\n",
    "  \n",
    "  def invoke(self, \n",
    "             user_message: str, \n",
    "             self_reflection: bool = False, \n",
    "             max_iter: int = 1,\n",
    "             verbose: bool = False) -> str:\n",
    "    \n",
    "    self.memory.add_message(\n",
    "      role=\"user\",\n",
    "      content=user_message\n",
    "    )\n",
    "    \n",
    "    if verbose:\n",
    "      self._log_last_message()\n",
    "    \n",
    "    max_iter = max_iter if max_iter >= 1 else 1\n",
    "    max_iter = max_iter if max_iter <= 3 else 3\n",
    "    max_iter = max_iter if self_reflection else 0.5\n",
    "    loops = 2 * max_iter\n",
    "    \n",
    "    for i in range(loops):\n",
    "      ai_message = self._get_completion(\n",
    "        messages = self.memory.get_messages()\n",
    "      )\n",
    "      \n",
    "      self.memory.add_message(\n",
    "        role = \"assistant\",\n",
    "        content = ai_message.content,\n",
    "      )\n",
    "      \n",
    "      if verbose:\n",
    "        self._log_last_message()\n",
    "      \n",
    "      if i < loops -1:\n",
    "        self.memory.add_message(\n",
    "          role = \"user\",\n",
    "          content = self.critique_prompt\n",
    "        )\n",
    "        \n",
    "        if verbose:\n",
    "          self._log_last_message()\n",
    "        \n",
    "        ai_message = self._get_completion(\n",
    "          messages = self.memory.get_messages()\n",
    "        )\n",
    "\n",
    "  def _get_completion(self, messages: List[Dict]) -> ChatCompletionMessage:\n",
    "    response = self.client.chat.completions.create(\n",
    "      model=self.model,\n",
    "      temperature=self.temperature,\n",
    "      messages=messages\n",
    "    )\n",
    "    \n",
    "    return response.choices[0].message\n",
    "  \n",
    "  def _log_last_message(self):\n",
    "    print(f\"### {self.memory.last_message()['role']} message ### \\n\".upper())\n",
    "    print(f\"### {self.memory.last_message()['content']} \\n\")\n",
    "    print(\"\\n__________________________________________________________________\")\n"
   ]
  },
  {
   "cell_type": "code",
   "execution_count": 15,
   "id": "225bd90e",
   "metadata": {},
   "outputs": [
    {
     "name": "stdout",
     "output_type": "stream",
     "text": [
      "### USER MESSAGE ### \n",
      "\n",
      "### Pick only one. Who is the best character in Game of Thrones? \n",
      "\n",
      "\n",
      "__________________________________________________________________\n",
      "### ASSISTANT MESSAGE ### \n",
      "\n",
      "### Choosing the best character in \"Game of Thrones\" is subjective and depends on personal preference. However, many fans often cite Tyrion Lannister as a standout character due to his wit, intelligence, and moral complexity. He navigates the treacherous political landscape with a unique perspective and often serves as a voice of reason amidst chaos. Who is your favorite character? \n",
      "\n",
      "\n",
      "__________________________________________________________________\n",
      "### USER MESSAGE ### \n",
      "\n",
      "### \n",
      "Reflect on your previous response...\n",
      "Identify any mistakes, areas for improvement, or ways to clarify the answer, making it more concise.\n",
      "Provide a revised response if necessary in a Json Output structure:\n",
      "{\n",
      "    \"original_response\": \"\",\n",
      "    \"revisions_needed\": \"\",\n",
      "    \"updated_response\": \"\"\n",
      "}\n",
      " \n",
      "\n",
      "\n",
      "__________________________________________________________________\n",
      "### ASSISTANT MESSAGE ### \n",
      "\n",
      "### {\n",
      "    \"original_response\": \"Choosing the best character in 'Game of Thrones' is subjective and depends on personal preference. However, many fans often cite Tyrion Lannister as a standout character due to his wit, intelligence, and moral complexity. He navigates the treacherous political landscape with a unique perspective and often serves as a voice of reason amidst chaos. Who is your favorite character?\",\n",
      "    \"revisions_needed\": \"The response could be more concise and focused solely on the character without asking a follow-up question. Additionally, it could briefly mention other popular characters for a more rounded perspective.\",\n",
      "    \"updated_response\": \"Many fans consider Tyrion Lannister the best character in 'Game of Thrones' due to his wit, intelligence, and moral complexity. He effectively navigates the political landscape and often serves as a voice of reason. Other notable characters include Jon Snow and Daenerys Targaryen, each with their own compelling arcs.\"\n",
      "} \n",
      "\n",
      "\n",
      "__________________________________________________________________\n"
     ]
    }
   ],
   "source": [
    "agent = Agent()\n",
    "agent.invoke(\n",
    "  user_message=\"Pick only one. Who is the best character in Game of Thrones?\",\n",
    "  self_reflection=True,\n",
    "  verbose=True\n",
    ")"
   ]
  },
  {
   "cell_type": "code",
   "execution_count": 16,
   "id": "6ebc4870",
   "metadata": {},
   "outputs": [
    {
     "data": {
      "text/plain": [
       "[{'role': 'system',\n",
       "  'content': \"You're an AI Agent, your rolse is Personal Assistant, and you need to Help users with any question.\"},\n",
       " {'role': 'user',\n",
       "  'content': 'Pick only one. Who is the best character in Game of Thrones?'},\n",
       " {'role': 'assistant',\n",
       "  'content': 'Choosing the best character in \"Game of Thrones\" is subjective and depends on personal preference. However, many fans often cite Tyrion Lannister as a standout character due to his wit, intelligence, and moral complexity. He navigates the treacherous political landscape with a unique perspective and often serves as a voice of reason amidst chaos. Who is your favorite character?'},\n",
       " {'role': 'user',\n",
       "  'content': '\\nReflect on your previous response...\\nIdentify any mistakes, areas for improvement, or ways to clarify the answer, making it more concise.\\nProvide a revised response if necessary in a Json Output structure:\\n{\\n    \"original_response\": \"\",\\n    \"revisions_needed\": \"\",\\n    \"updated_response\": \"\"\\n}\\n'},\n",
       " {'role': 'assistant',\n",
       "  'content': '{\\n    \"original_response\": \"Choosing the best character in \\'Game of Thrones\\' is subjective and depends on personal preference. However, many fans often cite Tyrion Lannister as a standout character due to his wit, intelligence, and moral complexity. He navigates the treacherous political landscape with a unique perspective and often serves as a voice of reason amidst chaos. Who is your favorite character?\",\\n    \"revisions_needed\": \"The response could be more concise and focused solely on the character without asking a follow-up question. Additionally, it could briefly mention other popular characters for a more rounded perspective.\",\\n    \"updated_response\": \"Many fans consider Tyrion Lannister the best character in \\'Game of Thrones\\' due to his wit, intelligence, and moral complexity. He effectively navigates the political landscape and often serves as a voice of reason. Other notable characters include Jon Snow and Daenerys Targaryen, each with their own compelling arcs.\"\\n}'}]"
      ]
     },
     "execution_count": 16,
     "metadata": {},
     "output_type": "execute_result"
    }
   ],
   "source": [
    "agent.memory.get_messages()"
   ]
  },
  {
   "cell_type": "code",
   "execution_count": 17,
   "id": "5cea5d3c",
   "metadata": {},
   "outputs": [
    {
     "data": {
      "text/plain": [
       "\"Many fans consider Tyrion Lannister the best character in 'Game of Thrones' due to his wit, intelligence, and moral complexity. He effectively navigates the political landscape and often serves as a voice of reason. Other notable characters include Jon Snow and Daenerys Targaryen, each with their own compelling arcs.\""
      ]
     },
     "execution_count": 17,
     "metadata": {},
     "output_type": "execute_result"
    }
   ],
   "source": [
    "json.loads(agent.memory.last_message()[\"content\"])[\"updated_response\"]"
   ]
  }
 ],
 "metadata": {
  "kernelspec": {
   "display_name": "venv",
   "language": "python",
   "name": "python3"
  },
  "language_info": {
   "codemirror_mode": {
    "name": "ipython",
    "version": 3
   },
   "file_extension": ".py",
   "mimetype": "text/x-python",
   "name": "python",
   "nbconvert_exporter": "python",
   "pygments_lexer": "ipython3",
   "version": "3.12.7"
  }
 },
 "nbformat": 4,
 "nbformat_minor": 5
}
