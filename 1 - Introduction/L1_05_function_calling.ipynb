{
 "cells": [
  {
   "cell_type": "code",
   "execution_count": 1,
   "id": "d1547b22",
   "metadata": {},
   "outputs": [
    {
     "data": {
      "text/plain": [
       "True"
      ]
     },
     "execution_count": 1,
     "metadata": {},
     "output_type": "execute_result"
    }
   ],
   "source": [
    "import json\n",
    "from typing import List, Dict, Literal\n",
    "from openai import OpenAI\n",
    "from openai.types.chat.chat_completion_message import ChatCompletionMessage\n",
    "from dotenv import load_dotenv\n",
    "load_dotenv()"
   ]
  },
  {
   "cell_type": "code",
   "execution_count": 2,
   "id": "719341be",
   "metadata": {},
   "outputs": [],
   "source": [
    "client = OpenAI(base_url=\"https://openai.vocareum.com/v1\")"
   ]
  },
  {
   "cell_type": "code",
   "execution_count": 5,
   "id": "eaab7423",
   "metadata": {},
   "outputs": [],
   "source": [
    "class Memory:\n",
    "  def __init__(self):\n",
    "    self._messages: List[Dict[str, str]] = []\n",
    "\n",
    "  def add_message(self, \n",
    "                  role: Literal[\"user\", \"system\", \"assistant\"], \n",
    "                  content: str,\n",
    "                  tool_calls: dict=dict(),\n",
    "                  tool_call_id=None)->None:\n",
    "\n",
    "    message = {\n",
    "      \"role\": role,\n",
    "      \"content\": content,\n",
    "      \"tool_calls\": tool_calls\n",
    "    }\n",
    "    \n",
    "    if role == \"tool\":\n",
    "      message = {\n",
    "        \"role\": role,\n",
    "        \"content\": content,\n",
    "        \"tool_call_id\": tool_call_id\n",
    "      }\n",
    "    \n",
    "    self._messages.append(message)\n",
    "  \n",
    "  \n",
    "  def get_messages(self) -> List[Dict[str, str]]:\n",
    "    return self._messages\n",
    "  \n",
    "  \n",
    "  def last_message(self) -> Dict[str, str]:\n",
    "    if self._messages:\n",
    "      return self._messages[-1]\n",
    "\n",
    "\n",
    "  def reset(self) -> None:\n",
    "    self._messages = []\n"
   ]
  },
  {
   "cell_type": "code",
   "execution_count": 6,
   "id": "8bfb713d",
   "metadata": {},
   "outputs": [],
   "source": [
    "memory = Memory()\n",
    "memory.add_message(role=\"system\", content=\"You're a helpful assistant\")"
   ]
  },
  {
   "cell_type": "code",
   "execution_count": 7,
   "id": "d2344d72",
   "metadata": {},
   "outputs": [
    {
     "data": {
      "text/plain": [
       "[{'role': 'system', 'content': \"You're a helpful assistant\", 'tool_calls': {}}]"
      ]
     },
     "execution_count": 7,
     "metadata": {},
     "output_type": "execute_result"
    }
   ],
   "source": [
    "memory.get_messages()"
   ]
  },
  {
   "cell_type": "code",
   "execution_count": 9,
   "id": "b56db22d",
   "metadata": {},
   "outputs": [
    {
     "data": {
      "text/plain": [
       "[]"
      ]
     },
     "execution_count": 9,
     "metadata": {},
     "output_type": "execute_result"
    }
   ],
   "source": [
    "memory.reset()\n",
    "memory.get_messages()"
   ]
  },
  {
   "cell_type": "code",
   "execution_count": 10,
   "id": "42a23670",
   "metadata": {},
   "outputs": [],
   "source": [
    "def chat_with_tools(user_question: str=None,\n",
    "                    memory:Memory=None,\n",
    "                    model: str=\"gpt-4o-mini\",\n",
    "                    temperature=0.0,\n",
    "                    tools=None) -> str:\n",
    "  \n",
    "  messages = [{\"role\": \"user\", \"content\": user_question}]\n",
    "  if memory:\n",
    "    if user_question:\n",
    "      memory.add_message(role=\"user\", content=user_question)\n",
    "    \n",
    "    messages = memory.get_messages()\n",
    "  \n",
    "  response = client.chat.completions.create(\n",
    "    model=model,\n",
    "    temperature=temperature,\n",
    "    messages=messages,\n",
    "    tools=tools,\n",
    "  )\n",
    "  \n",
    "  ai_message = str(response.choices[0].message.content)\n",
    "  tool_calls = response.choices[0].message.tool_calls\n",
    "  \n",
    "  if memory:\n",
    "    memory.add_message(role=\"assistant\", content=ai_message, tool_calls=tool_calls)\n",
    "  \n",
    "  return ai_message\n"
   ]
  },
  {
   "cell_type": "code",
   "execution_count": 12,
   "id": "6f5a4ca0",
   "metadata": {},
   "outputs": [
    {
     "data": {
      "text/plain": [
       "'1/32'"
      ]
     },
     "execution_count": 12,
     "metadata": {},
     "output_type": "execute_result"
    }
   ],
   "source": [
    "chat_with_tools(\n",
    "  \"2 to the power of -5?\",\n",
    "  model=\"gpt-3.5-turbo\",\n",
    ")"
   ]
  },
  {
   "cell_type": "code",
   "execution_count": 16,
   "id": "f6f05283",
   "metadata": {},
   "outputs": [],
   "source": [
    "def power(base: float, exponent: float):\n",
    "  \"\"\"Exponentatiation: base to the power of exponent\"\"\"\n",
    "  \n",
    "  return base ** exponent"
   ]
  },
  {
   "cell_type": "code",
   "execution_count": 19,
   "id": "0d92c598",
   "metadata": {},
   "outputs": [],
   "source": [
    "tools = [{\n",
    "  \"type\": \"function\",\n",
    "  \"function\": {\n",
    "    \"name\": \"power\",\n",
    "    \"description\": \"Exponentatiation: base to the power of exponent\",\n",
    "    \"parameters\": {\n",
    "      \"type\": \"object\",\n",
    "      \"properties\": {\n",
    "        \"base\": {\"type\": \"number\"},\n",
    "        \"exponent\": {\"type\": \"number\"}\n",
    "      },\n",
    "      \"required\": [\"base\", \"exponent\"],\n",
    "      \"additionalProperties\": False\n",
    "    },\n",
    "    \"strict\": True\n",
    "  }\n",
    "}]"
   ]
  },
  {
   "cell_type": "code",
   "execution_count": 21,
   "id": "1c41a347",
   "metadata": {},
   "outputs": [],
   "source": [
    "memory = Memory()\n",
    "memory.add_message(role=\"system\", content=\"You're a helpful assistant\")"
   ]
  },
  {
   "cell_type": "code",
   "execution_count": 22,
   "id": "1b48c342",
   "metadata": {},
   "outputs": [
    {
     "data": {
      "text/plain": [
       "[{'role': 'system', 'content': \"You're a helpful assistant\", 'tool_calls': {}}]"
      ]
     },
     "execution_count": 22,
     "metadata": {},
     "output_type": "execute_result"
    }
   ],
   "source": [
    "memory.get_messages()"
   ]
  },
  {
   "cell_type": "code",
   "execution_count": 23,
   "id": "c597b4e8",
   "metadata": {},
   "outputs": [
    {
     "data": {
      "text/plain": [
       "'None'"
      ]
     },
     "execution_count": 23,
     "metadata": {},
     "output_type": "execute_result"
    }
   ],
   "source": [
    "chat_with_tools(\n",
    "  \"2 to the power of -5?\",\n",
    "  model=\"gpt-3.5-turbo\",\n",
    "  tools=tools,\n",
    "  memory=memory\n",
    ")"
   ]
  },
  {
   "cell_type": "code",
   "execution_count": 24,
   "id": "563885b4",
   "metadata": {},
   "outputs": [
    {
     "data": {
      "text/plain": [
       "[{'role': 'system', 'content': \"You're a helpful assistant\", 'tool_calls': {}},\n",
       " {'role': 'user', 'content': '2 to the power of -5?', 'tool_calls': {}},\n",
       " {'role': 'assistant',\n",
       "  'content': 'None',\n",
       "  'tool_calls': [ChatCompletionMessageToolCall(id='call_DdLAn9KTn8EdPAKilBgit7pO', function=Function(arguments='{\"base\":2,\"exponent\":-5}', name='power'), type='function')]}]"
      ]
     },
     "execution_count": 24,
     "metadata": {},
     "output_type": "execute_result"
    }
   ],
   "source": [
    "memory.get_messages()"
   ]
  },
  {
   "cell_type": "code",
   "execution_count": 26,
   "id": "bbfe02d8",
   "metadata": {},
   "outputs": [
    {
     "data": {
      "text/plain": [
       "[ChatCompletionMessageToolCall(id='call_DdLAn9KTn8EdPAKilBgit7pO', function=Function(arguments='{\"base\":2,\"exponent\":-5}', name='power'), type='function')]"
      ]
     },
     "execution_count": 26,
     "metadata": {},
     "output_type": "execute_result"
    }
   ],
   "source": [
    "memory.last_message()['tool_calls']"
   ]
  },
  {
   "cell_type": "code",
   "execution_count": 27,
   "id": "3b55303e",
   "metadata": {},
   "outputs": [
    {
     "data": {
      "text/plain": [
       "'call_DdLAn9KTn8EdPAKilBgit7pO'"
      ]
     },
     "execution_count": 27,
     "metadata": {},
     "output_type": "execute_result"
    }
   ],
   "source": [
    "tool_call_id = memory.last_message()['tool_calls'][0].id\n",
    "tool_call_id"
   ]
  },
  {
   "cell_type": "code",
   "execution_count": 28,
   "id": "452a2a9b",
   "metadata": {},
   "outputs": [
    {
     "data": {
      "text/plain": [
       "{'base': 2, 'exponent': -5}"
      ]
     },
     "execution_count": 28,
     "metadata": {},
     "output_type": "execute_result"
    }
   ],
   "source": [
    "args = json.loads(memory.last_message()['tool_calls'][0].function.arguments)\n",
    "args"
   ]
  },
  {
   "cell_type": "code",
   "execution_count": 29,
   "id": "51483e21",
   "metadata": {},
   "outputs": [
    {
     "data": {
      "text/plain": [
       "0.03125"
      ]
     },
     "execution_count": 29,
     "metadata": {},
     "output_type": "execute_result"
    }
   ],
   "source": [
    "result = power(args[\"base\"], args[\"exponent\"])\n",
    "result"
   ]
  },
  {
   "cell_type": "code",
   "execution_count": 30,
   "id": "7bdf647b",
   "metadata": {},
   "outputs": [],
   "source": [
    "memory.add_message(role=\"tool\", content=str(result), tool_call_id=tool_call_id)"
   ]
  },
  {
   "cell_type": "code",
   "execution_count": 31,
   "id": "382d01c3",
   "metadata": {},
   "outputs": [
    {
     "data": {
      "text/plain": [
       "[{'role': 'system', 'content': \"You're a helpful assistant\", 'tool_calls': {}},\n",
       " {'role': 'user', 'content': '2 to the power of -5?', 'tool_calls': {}},\n",
       " {'role': 'assistant',\n",
       "  'content': 'None',\n",
       "  'tool_calls': [ChatCompletionMessageToolCall(id='call_DdLAn9KTn8EdPAKilBgit7pO', function=Function(arguments='{\"base\":2,\"exponent\":-5}', name='power'), type='function')]},\n",
       " {'role': 'tool',\n",
       "  'content': '0.03125',\n",
       "  'tool_call_id': 'call_DdLAn9KTn8EdPAKilBgit7pO'}]"
      ]
     },
     "execution_count": 31,
     "metadata": {},
     "output_type": "execute_result"
    }
   ],
   "source": [
    "memory.get_messages()"
   ]
  },
  {
   "cell_type": "code",
   "execution_count": 32,
   "id": "b6bb8300",
   "metadata": {},
   "outputs": [],
   "source": [
    "ai_message = chat_with_tools(\n",
    "  model=\"gpt-3.5-turbo\",\n",
    "  memory=memory\n",
    ")"
   ]
  },
  {
   "cell_type": "code",
   "execution_count": 33,
   "id": "bc0c64e6",
   "metadata": {},
   "outputs": [
    {
     "data": {
      "text/plain": [
       "[{'role': 'system', 'content': \"You're a helpful assistant\", 'tool_calls': {}},\n",
       " {'role': 'user', 'content': '2 to the power of -5?', 'tool_calls': {}},\n",
       " {'role': 'assistant',\n",
       "  'content': 'None',\n",
       "  'tool_calls': [ChatCompletionMessageToolCall(id='call_DdLAn9KTn8EdPAKilBgit7pO', function=Function(arguments='{\"base\":2,\"exponent\":-5}', name='power'), type='function')]},\n",
       " {'role': 'tool',\n",
       "  'content': '0.03125',\n",
       "  'tool_call_id': 'call_DdLAn9KTn8EdPAKilBgit7pO'},\n",
       " {'role': 'assistant',\n",
       "  'content': '2 to the power of -5 is equal to 0.03125.',\n",
       "  'tool_calls': None}]"
      ]
     },
     "execution_count": 33,
     "metadata": {},
     "output_type": "execute_result"
    }
   ],
   "source": [
    "memory.get_messages()"
   ]
  }
 ],
 "metadata": {
  "kernelspec": {
   "display_name": "venv",
   "language": "python",
   "name": "python3"
  },
  "language_info": {
   "codemirror_mode": {
    "name": "ipython",
    "version": 3
   },
   "file_extension": ".py",
   "mimetype": "text/x-python",
   "name": "python",
   "nbconvert_exporter": "python",
   "pygments_lexer": "ipython3",
   "version": "3.12.7"
  }
 },
 "nbformat": 4,
 "nbformat_minor": 5
}
