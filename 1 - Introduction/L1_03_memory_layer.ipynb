{
 "cells": [
  {
   "cell_type": "code",
   "execution_count": 1,
   "id": "d1547b22",
   "metadata": {},
   "outputs": [
    {
     "data": {
      "text/plain": [
       "True"
      ]
     },
     "execution_count": 1,
     "metadata": {},
     "output_type": "execute_result"
    }
   ],
   "source": [
    "from openai import OpenAI\n",
    "from dotenv import load_dotenv\n",
    "from typing import List, Dict, Literal\n",
    "load_dotenv()"
   ]
  },
  {
   "cell_type": "code",
   "execution_count": 2,
   "id": "719341be",
   "metadata": {},
   "outputs": [],
   "source": [
    "client = OpenAI(base_url=\"https://openai.vocareum.com/v1\")"
   ]
  },
  {
   "cell_type": "code",
   "execution_count": 13,
   "id": "dd33097e",
   "metadata": {},
   "outputs": [],
   "source": [
    "user_message = \"What have I asked before?\""
   ]
  },
  {
   "cell_type": "code",
   "execution_count": 14,
   "id": "7f27441a",
   "metadata": {},
   "outputs": [
    {
     "data": {
      "text/plain": [
       "\"I'm sorry, but I don't have access to previous interactions or any personal data. Each session is treated independently, so I can't recall past questions or conversations. How can I assist you today?\""
      ]
     },
     "execution_count": 14,
     "metadata": {},
     "output_type": "execute_result"
    }
   ],
   "source": [
    "response = client.chat.completions.create(\n",
    "  model=\"gpt-4o-mini\",\n",
    "  messages=[\n",
    "    {\"role\": \"system\", \"content\": \"Answer all user questions\"},\n",
    "    {\"role\": \"user\", \"content\": user_message}\n",
    "  ],\n",
    "  temperature=0.0,\n",
    ")\n",
    "\n",
    "response.choices[0].message.content"
   ]
  },
  {
   "cell_type": "code",
   "execution_count": 3,
   "id": "7b52f4b5",
   "metadata": {},
   "outputs": [],
   "source": [
    "memory=[\n",
    "  {\"role\": \"system\", \"content\": \"Answer all user questions\"},\n",
    "  {\"role\": \"user\", \"content\": \"What is a API?\"}\n",
    "]"
   ]
  },
  {
   "cell_type": "code",
   "execution_count": 4,
   "id": "e0394c48",
   "metadata": {},
   "outputs": [
    {
     "data": {
      "text/plain": [
       "[{'role': 'system', 'content': 'Answer all user questions'},\n",
       " {'role': 'user', 'content': 'What is a API?'},\n",
       " {'role': 'assistant',\n",
       "  'content': 'An API, or Application Programming Interface, is a set of rules and protocols that allows different software applications to communicate with each other. It defines the methods and data formats that applications can use to request and exchange information. APIs enable developers to access the functionality of other software services, libraries, or platforms without needing to understand their internal workings.\\n\\nAPIs can be used for various purposes, such as:\\n\\n1. **Web APIs**: Allow communication between web servers and clients, often using HTTP requests. Examples include RESTful APIs and GraphQL APIs.\\n2. **Library APIs**: Provide a set of functions and procedures for developers to use in their applications, often in programming languages like Python, Java, or C++.\\n3. **Operating System APIs**: Allow applications to interact with the operating system, such as file management or network communication.\\n\\nOverall, APIs are essential for building modern software applications, enabling integration and functionality across different systems and services.'}]"
      ]
     },
     "execution_count": 4,
     "metadata": {},
     "output_type": "execute_result"
    }
   ],
   "source": [
    "new_response = client.chat.completions.create(\n",
    "  model=\"gpt-4o-mini\",\n",
    "  messages=memory,\n",
    "  temperature=0.0,\n",
    ")\n",
    "\n",
    "memory.append(\n",
    "  {\"role\": \"assistant\", \"content\": new_response.choices[0].message.content}\n",
    ")\n",
    "\n",
    "memory"
   ]
  },
  {
   "cell_type": "code",
   "execution_count": 5,
   "id": "cdff5c58",
   "metadata": {},
   "outputs": [
    {
     "data": {
      "text/plain": [
       "[{'role': 'system', 'content': 'Answer all user questions'},\n",
       " {'role': 'user', 'content': 'What is a API?'},\n",
       " {'role': 'assistant',\n",
       "  'content': 'An API, or Application Programming Interface, is a set of rules and protocols that allows different software applications to communicate with each other. It defines the methods and data formats that applications can use to request and exchange information. APIs enable developers to access the functionality of other software services, libraries, or platforms without needing to understand their internal workings.\\n\\nAPIs can be used for various purposes, such as:\\n\\n1. **Web APIs**: Allow communication between web servers and clients, often using HTTP requests. Examples include RESTful APIs and GraphQL APIs.\\n2. **Library APIs**: Provide a set of functions and procedures for developers to use in their applications, often in programming languages like Python, Java, or C++.\\n3. **Operating System APIs**: Allow applications to interact with the operating system, such as file management or network communication.\\n\\nOverall, APIs are essential for building modern software applications, enabling integration and functionality across different systems and services.'},\n",
       " {'role': 'assistant', 'content': 'What have I asked before?'}]"
      ]
     },
     "execution_count": 5,
     "metadata": {},
     "output_type": "execute_result"
    }
   ],
   "source": [
    "memory.append(\n",
    "  {\"role\": \"assistant\", \"content\": \"What have I asked before?\"}\n",
    ")\n",
    "\n",
    "memory"
   ]
  },
  {
   "cell_type": "code",
   "execution_count": 6,
   "id": "4a9c054e",
   "metadata": {},
   "outputs": [
    {
     "data": {
      "text/plain": [
       "[{'role': 'system', 'content': 'Answer all user questions'},\n",
       " {'role': 'user', 'content': 'What is a API?'},\n",
       " {'role': 'assistant',\n",
       "  'content': 'An API, or Application Programming Interface, is a set of rules and protocols that allows different software applications to communicate with each other. It defines the methods and data formats that applications can use to request and exchange information. APIs enable developers to access the functionality of other software services, libraries, or platforms without needing to understand their internal workings.\\n\\nAPIs can be used for various purposes, such as:\\n\\n1. **Web APIs**: Allow communication between web servers and clients, often using HTTP requests. Examples include RESTful APIs and GraphQL APIs.\\n2. **Library APIs**: Provide a set of functions and procedures for developers to use in their applications, often in programming languages like Python, Java, or C++.\\n3. **Operating System APIs**: Allow applications to interact with the operating system, such as file management or network communication.\\n\\nOverall, APIs are essential for building modern software applications, enabling integration and functionality across different systems and services.'},\n",
       " {'role': 'assistant', 'content': 'What have I asked before?'},\n",
       " {'role': 'assistant',\n",
       "  'content': 'You asked, \"What is a API?\" and I provided an explanation of what an API (Application Programming Interface) is, including its purpose and types. If you have any more questions or need further clarification, feel free to ask!'}]"
      ]
     },
     "execution_count": 6,
     "metadata": {},
     "output_type": "execute_result"
    }
   ],
   "source": [
    "new_response = client.chat.completions.create(\n",
    "  model=\"gpt-4o-mini\",\n",
    "  messages=memory,\n",
    "  temperature=0.0,\n",
    ")\n",
    "\n",
    "memory.append(\n",
    "  {\"role\": \"assistant\", \"content\": new_response.choices[0].message.content}\n",
    ")\n",
    "\n",
    "memory"
   ]
  },
  {
   "cell_type": "code",
   "execution_count": 7,
   "id": "eaab7423",
   "metadata": {},
   "outputs": [],
   "source": [
    "class Memory:\n",
    "  def __init__(self):\n",
    "    self.messages: List[Dict[str, str]] = []\n",
    "\n",
    "  def add_message(self, role: Literal[\"user\", \"system\", \"assistant\"], content: str):\n",
    "    self.messages.append({\"role\": role, \"content\": content})\n",
    "  \n",
    "  def get_messages(self) -> List[Dict[str, str]]:\n",
    "    return self.messages\n"
   ]
  },
  {
   "cell_type": "code",
   "execution_count": 13,
   "id": "134cdd0a",
   "metadata": {},
   "outputs": [],
   "source": [
    "def chat(user_message: str=None, memory:Memory=None) -> str:\n",
    "  messages = [{\"role\": \"user\", \"content\": user_message}]\n",
    "  if memory:\n",
    "    if user_message:\n",
    "      memory.add_message(role=\"user\", content=user_message)\n",
    "    \n",
    "    messages = memory.get_messages()\n",
    "  \n",
    "  response = client.chat.completions.create(\n",
    "    model=\"gpt-4o-mini\",\n",
    "    temperature=0.0,\n",
    "    messages=messages,\n",
    "  )\n",
    "  \n",
    "  ai_message = response.choices[0].message.content\n",
    "  if memory:\n",
    "    memory.add_message(role=\"assistant\", content=ai_message)\n",
    "  \n",
    "  return ai_message\n"
   ]
  },
  {
   "cell_type": "code",
   "execution_count": 14,
   "id": "5644705b",
   "metadata": {},
   "outputs": [],
   "source": [
    "memory = Memory()"
   ]
  },
  {
   "cell_type": "code",
   "execution_count": 15,
   "id": "b93de195",
   "metadata": {},
   "outputs": [],
   "source": [
    "memory.add_message(role=\"system\", content=\"You're a helpful assistant\")"
   ]
  },
  {
   "cell_type": "code",
   "execution_count": 16,
   "id": "91e08427",
   "metadata": {},
   "outputs": [
    {
     "data": {
      "text/plain": [
       "[{'role': 'system', 'content': \"You're a helpful assistant\"}]"
      ]
     },
     "execution_count": 16,
     "metadata": {},
     "output_type": "execute_result"
    }
   ],
   "source": [
    "memory.get_messages()"
   ]
  },
  {
   "cell_type": "code",
   "execution_count": 17,
   "id": "9ad29494",
   "metadata": {},
   "outputs": [
    {
     "data": {
      "text/plain": [
       "'The capital of Brazil is Brasília. It was officially inaugurated as the capital on April 21, 1960, and was designed by the architect Oscar Niemeyer and urban planner Lúcio Costa.'"
      ]
     },
     "execution_count": 17,
     "metadata": {},
     "output_type": "execute_result"
    }
   ],
   "source": [
    "chat(\n",
    "  user_message=\"What's the capital of Brazil\",\n",
    ")"
   ]
  },
  {
   "cell_type": "code",
   "execution_count": 18,
   "id": "30618d8d",
   "metadata": {},
   "outputs": [
    {
     "data": {
      "text/plain": [
       "[{'role': 'system', 'content': \"You're a helpful assistant\"}]"
      ]
     },
     "execution_count": 18,
     "metadata": {},
     "output_type": "execute_result"
    }
   ],
   "source": [
    "memory.get_messages()"
   ]
  },
  {
   "cell_type": "code",
   "execution_count": 19,
   "id": "41a487a8",
   "metadata": {},
   "outputs": [
    {
     "data": {
      "text/plain": [
       "'The capital of Brazil is Brasília. It was officially inaugurated as the capital on April 21, 1960, and was designed by the architect Oscar Niemeyer and urban planner Lúcio Costa.'"
      ]
     },
     "execution_count": 19,
     "metadata": {},
     "output_type": "execute_result"
    }
   ],
   "source": [
    "chat(\n",
    "  user_message=\"What's the capital of Brazil\",\n",
    "  memory=memory\n",
    ")"
   ]
  },
  {
   "cell_type": "code",
   "execution_count": 20,
   "id": "15e6c56c",
   "metadata": {},
   "outputs": [
    {
     "data": {
      "text/plain": [
       "'You asked about the capital of Brazil.'"
      ]
     },
     "execution_count": 20,
     "metadata": {},
     "output_type": "execute_result"
    }
   ],
   "source": [
    "chat(\n",
    "  user_message=\"What have I asked?\",\n",
    "  memory=memory\n",
    ")"
   ]
  },
  {
   "cell_type": "code",
   "execution_count": 21,
   "id": "ff9672e3",
   "metadata": {},
   "outputs": [
    {
     "data": {
      "text/plain": [
       "[{'role': 'system', 'content': \"You're a helpful assistant\"},\n",
       " {'role': 'user', 'content': \"What's the capital of Brazil\"},\n",
       " {'role': 'assistant',\n",
       "  'content': 'The capital of Brazil is Brasília. It was officially inaugurated as the capital on April 21, 1960, and was designed by the architect Oscar Niemeyer and urban planner Lúcio Costa.'},\n",
       " {'role': 'user', 'content': 'What have I asked?'},\n",
       " {'role': 'assistant', 'content': 'You asked about the capital of Brazil.'}]"
      ]
     },
     "execution_count": 21,
     "metadata": {},
     "output_type": "execute_result"
    }
   ],
   "source": [
    "memory.get_messages()"
   ]
  }
 ],
 "metadata": {
  "kernelspec": {
   "display_name": "venv",
   "language": "python",
   "name": "python3"
  },
  "language_info": {
   "codemirror_mode": {
    "name": "ipython",
    "version": 3
   },
   "file_extension": ".py",
   "mimetype": "text/x-python",
   "name": "python",
   "nbconvert_exporter": "python",
   "pygments_lexer": "ipython3",
   "version": "3.12.7"
  }
 },
 "nbformat": 4,
 "nbformat_minor": 5
}
