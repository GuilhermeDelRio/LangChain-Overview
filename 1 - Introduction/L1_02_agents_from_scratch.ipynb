{
 "cells": [
  {
   "cell_type": "code",
   "execution_count": 13,
   "id": "d1547b22",
   "metadata": {},
   "outputs": [],
   "source": [
    "from openai import OpenAI"
   ]
  },
  {
   "cell_type": "code",
   "execution_count": 14,
   "id": "719341be",
   "metadata": {},
   "outputs": [],
   "source": [
    "from dotenv import load_dotenv\n",
    "load_dotenv()\n",
    "\n",
    "client = OpenAI(base_url=\"https://openai.vocareum.com/v1\")"
   ]
  },
  {
   "cell_type": "code",
   "execution_count": 22,
   "id": "9072e7b8",
   "metadata": {},
   "outputs": [],
   "source": [
    "class Agent:\n",
    "  \n",
    "  def __init__(\n",
    "    self,\n",
    "    name: str = \"Agent\",\n",
    "    role: str = \"Personal Assistant\",\n",
    "    instructions: str = \"Help users with any question.\",\n",
    "    model: str = \"gpt-4o-mini\",\n",
    "    temperature: float = 0.0,\n",
    "    ):\n",
    "    self.name = name\n",
    "    self.role = role\n",
    "    self.instructions = instructions\n",
    "    self.model = model\n",
    "    self.temperature = temperature\n",
    "    \n",
    "    self.client = client\n",
    "\n",
    "  \n",
    "  def invoke(self, messagem: str) -> str:\n",
    "    response = self.client.chat.completions.create(\n",
    "      model = self.model,\n",
    "      messages = [\n",
    "        {\n",
    "          \"role\": \"system\", \n",
    "          \"content\": f\"You're an AI Agent, your role is {self.role}, and you need to {self.instructions}.\"\n",
    "        },\n",
    "        {\n",
    "          \"role\": \"user\", \n",
    "          \"content\": messagem\n",
    "        },\n",
    "      ],\n",
    "      temperature=self.temperature,\n",
    "    )\n",
    "\n",
    "    return response.choices[0].message.content"
   ]
  },
  {
   "cell_type": "code",
   "execution_count": 23,
   "id": "76f20283",
   "metadata": {},
   "outputs": [
    {
     "name": "stdout",
     "output_type": "stream",
     "text": [
      "Agent role: Personal Assistant\n",
      "Agent response: The capital of France is Paris.\n"
     ]
    }
   ],
   "source": [
    "# TODO - create a default agent without role and instructions\n",
    "# ask \"What is the capital of France?\" and get \"Paris\" as a response\n",
    "agent = Agent()\n",
    "reponse = agent.invoke(\"What is the capital of France?\")\n",
    "print(f'Agent role: {agent.role}')\n",
    "print(f'Agent response: {reponse}')"
   ]
  },
  {
   "cell_type": "code",
   "execution_count": 27,
   "id": "34e4e45d",
   "metadata": {},
   "outputs": [
    {
     "name": "stdout",
     "output_type": "stream",
     "text": [
      "Agent role: Travel Agent\n",
      "Travel Agent response: December is a wonderful time to travel, as it offers a variety of destinations to suit different preferences, whether you're looking for winter wonderlands, tropical escapes, or cultural experiences. Here are some recommendations:\n",
      "\n",
      "1. **Aspen, Colorado, USA**: If you enjoy skiing and winter sports, Aspen is a fantastic choice. The charming town offers excellent slopes, cozy lodges, and vibrant holiday events.\n",
      "\n",
      "2. **Vienna, Austria**: Experience the magic of the holiday season in Vienna with its stunning Christmas markets, festive lights, and classical music concerts. The city's grand architecture adds to the charm during December.\n",
      "\n",
      "3. **Tropical Getaway in the Maldives**: For a warm escape, the Maldives offers beautiful beaches, crystal-clear waters, and luxurious resorts. It's perfect for relaxation and enjoying water activities.\n",
      "\n",
      "4. **Tokyo, Japan**: December is a great time to visit Tokyo, as the city is beautifully illuminated with holiday lights. You can explore the unique culture, enjoy seasonal food, and visit historic temples.\n",
      "\n",
      "5. **Reykjavik, Iceland**: If you're interested in unique winter experiences, consider Reykjavik. You can see the Northern Lights, soak in geothermal hot springs, and explore stunning natural landscapes.\n",
      "\n",
      "6. **New York City, USA**: The holiday season in NYC is iconic. From the Rockefeller Center Christmas Tree to holiday window displays, the city is full of festive cheer. Enjoy ice skating, Broadway shows, and seasonal markets.\n",
      "\n",
      "7. **Cape Town, South Africa**: December is summer in South Africa. Cape Town offers stunning beaches, beautiful scenery, and vibrant culture. You can hike Table Mountain, explore the vineyards, or relax by the ocean.\n",
      "\n",
      "8. **Barcelona, Spain**: Experience a milder climate and fewer crowds in Barcelona during December. The city has a vibrant arts scene, delicious food, and festive decorations throughout its streets.\n",
      "\n",
      "Consider what type of vacation experience you’re looking for, and let me know if you’d like more details about any of these destinations!\n"
     ]
    }
   ],
   "source": [
    "# TODO - create a travel agent with role and instructions\n",
    "# Then ask \"Where sould I go for vacation in december?\"\n",
    "travel_agent = Agent(\n",
    "  role=\"Travel Agent\",\n",
    "  instructions=\"Provide travel recommendations.\",\n",
    "  temperature=0.7,\n",
    ")\n",
    "\n",
    "reponse = travel_agent.invoke(\"Where sould I go for vacation in december\")\n",
    "print(f'Agent role: {travel_agent.role}')\n",
    "print(f'Travel Agent response: {reponse}')"
   ]
  },
  {
   "cell_type": "code",
   "execution_count": null,
   "id": "b2744eec",
   "metadata": {},
   "outputs": [],
   "source": []
  }
 ],
 "metadata": {
  "kernelspec": {
   "display_name": "venv",
   "language": "python",
   "name": "python3"
  },
  "language_info": {
   "codemirror_mode": {
    "name": "ipython",
    "version": 3
   },
   "file_extension": ".py",
   "mimetype": "text/x-python",
   "name": "python",
   "nbconvert_exporter": "python",
   "pygments_lexer": "ipython3",
   "version": "3.12.7"
  }
 },
 "nbformat": 4,
 "nbformat_minor": 5
}
