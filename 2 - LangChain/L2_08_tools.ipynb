{
 "cells": [
  {
   "cell_type": "code",
   "execution_count": 1,
   "id": "c48cdb54",
   "metadata": {},
   "outputs": [
    {
     "data": {
      "text/plain": [
       "True"
      ]
     },
     "execution_count": 1,
     "metadata": {},
     "output_type": "execute_result"
    }
   ],
   "source": [
    "from langchain_openai import ChatOpenAI\n",
    "from langchain_core.messages import (\n",
    "  HumanMessage,\n",
    "  SystemMessage,\n",
    "  ToolMessage\n",
    ")\n",
    "from langchain.tools import tool\n",
    "from langchain_core.output_parsers.openai_tools import parse_tool_calls\n",
    "from dotenv import load_dotenv\n",
    "load_dotenv()"
   ]
  },
  {
   "cell_type": "code",
   "execution_count": 2,
   "id": "ef4c78b6",
   "metadata": {},
   "outputs": [],
   "source": [
    "llm = ChatOpenAI(\n",
    "  model=\"gpt-4o-mini\",\n",
    "  temperature=0.0,\n",
    "  base_url=\"https://openai.vocareum.com/v1\"\n",
    ")"
   ]
  },
  {
   "cell_type": "markdown",
   "id": "197c2509",
   "metadata": {},
   "source": [
    "Tool Creation"
   ]
  },
  {
   "cell_type": "code",
   "execution_count": 3,
   "id": "0ed971e3",
   "metadata": {},
   "outputs": [],
   "source": [
    "@tool\n",
    "def multiply(a: int, b:int) -> int:\n",
    "  \"\"\"Multiply two numbers.\"\"\"\n",
    "  return a * b"
   ]
  },
  {
   "cell_type": "code",
   "execution_count": 4,
   "id": "f4caa32a",
   "metadata": {},
   "outputs": [],
   "source": [
    "tools = [multiply]\n",
    "tool_map = {tool.name:tool for tool in tools}"
   ]
  },
  {
   "cell_type": "code",
   "execution_count": 5,
   "id": "9cefbaef",
   "metadata": {},
   "outputs": [
    {
     "data": {
      "text/plain": [
       "{'multiply': StructuredTool(name='multiply', description='Multiply two numbers.', args_schema=<class 'langchain_core.utils.pydantic.multiply'>, func=<function multiply at 0x7cc351a50e00>)}"
      ]
     },
     "execution_count": 5,
     "metadata": {},
     "output_type": "execute_result"
    }
   ],
   "source": [
    "tool_map"
   ]
  },
  {
   "cell_type": "markdown",
   "id": "4d2d78e8",
   "metadata": {},
   "source": [
    "Binding Tools"
   ]
  },
  {
   "cell_type": "code",
   "execution_count": 6,
   "id": "2fef44fd",
   "metadata": {},
   "outputs": [],
   "source": [
    "llm_with_tools = llm.bind_tools(tools)"
   ]
  },
  {
   "cell_type": "code",
   "execution_count": 7,
   "id": "871b52c7",
   "metadata": {},
   "outputs": [],
   "source": [
    "question = \"3 multiplied by 2\""
   ]
  },
  {
   "cell_type": "code",
   "execution_count": 8,
   "id": "88cc9fa3",
   "metadata": {},
   "outputs": [],
   "source": [
    "messages = [\n",
    "  SystemMessage(\"You're a helpful assistant\"),\n",
    "  HumanMessage(question)\n",
    "]"
   ]
  },
  {
   "cell_type": "code",
   "execution_count": 9,
   "id": "af3f9b2c",
   "metadata": {},
   "outputs": [],
   "source": [
    "ai_message = llm_with_tools.invoke(messages)"
   ]
  },
  {
   "cell_type": "code",
   "execution_count": null,
   "id": "4433e0b3",
   "metadata": {},
   "outputs": [
    {
     "data": {
      "text/plain": [
       "AIMessage(content='', additional_kwargs={'tool_calls': [{'id': 'call_GeeXqupi0tmS4XqxLSEQOVeC', 'function': {'arguments': '{\"a\":3,\"b\":2}', 'name': 'multiply'}, 'type': 'function'}], 'refusal': None}, response_metadata={'token_usage': {'completion_tokens': 17, 'prompt_tokens': 54, 'total_tokens': 71, 'completion_tokens_details': {'accepted_prediction_tokens': 0, 'audio_tokens': 0, 'reasoning_tokens': 0, 'rejected_prediction_tokens': 0}, 'prompt_tokens_details': {'audio_tokens': 0, 'cached_tokens': 0}}, 'model_name': 'gpt-4o-mini-2024-07-18', 'system_fingerprint': 'fp_34a54ae93c', 'id': 'chatcmpl-Blj4MbvlWj5DIqqkYIogxLenZbYoH', 'service_tier': 'default', 'finish_reason': 'tool_calls', 'logprobs': None}, id='run--b5531fc8-642b-4372-9e3d-ed2df68f624a-0', tool_calls=[{'name': 'multiply', 'args': {'a': 3, 'b': 2}, 'id': 'call_GeeXqupi0tmS4XqxLSEQOVeC', 'type': 'tool_call'}], usage_metadata={'input_tokens': 54, 'output_tokens': 17, 'total_tokens': 71, 'input_token_details': {'audio': 0, 'cache_read': 0}, 'output_token_details': {'audio': 0, 'reasoning': 0}})"
      ]
     },
     "execution_count": 10,
     "metadata": {},
     "output_type": "execute_result"
    }
   ],
   "source": [
    "ai_message"
   ]
  },
  {
   "cell_type": "code",
   "execution_count": 11,
   "id": "c4355ae1",
   "metadata": {},
   "outputs": [
    {
     "data": {
      "text/plain": [
       "[SystemMessage(content=\"You're a helpful assistant\", additional_kwargs={}, response_metadata={}),\n",
       " HumanMessage(content='3 multiplied by 2', additional_kwargs={}, response_metadata={}),\n",
       " AIMessage(content='', additional_kwargs={'tool_calls': [{'id': 'call_GeeXqupi0tmS4XqxLSEQOVeC', 'function': {'arguments': '{\"a\":3,\"b\":2}', 'name': 'multiply'}, 'type': 'function'}], 'refusal': None}, response_metadata={'token_usage': {'completion_tokens': 17, 'prompt_tokens': 54, 'total_tokens': 71, 'completion_tokens_details': {'accepted_prediction_tokens': 0, 'audio_tokens': 0, 'reasoning_tokens': 0, 'rejected_prediction_tokens': 0}, 'prompt_tokens_details': {'audio_tokens': 0, 'cached_tokens': 0}}, 'model_name': 'gpt-4o-mini-2024-07-18', 'system_fingerprint': 'fp_34a54ae93c', 'id': 'chatcmpl-Blj4MbvlWj5DIqqkYIogxLenZbYoH', 'service_tier': 'default', 'finish_reason': 'tool_calls', 'logprobs': None}, id='run--b5531fc8-642b-4372-9e3d-ed2df68f624a-0', tool_calls=[{'name': 'multiply', 'args': {'a': 3, 'b': 2}, 'id': 'call_GeeXqupi0tmS4XqxLSEQOVeC', 'type': 'tool_call'}], usage_metadata={'input_tokens': 54, 'output_tokens': 17, 'total_tokens': 71, 'input_token_details': {'audio': 0, 'cache_read': 0}, 'output_token_details': {'audio': 0, 'reasoning': 0}})]"
      ]
     },
     "execution_count": 11,
     "metadata": {},
     "output_type": "execute_result"
    }
   ],
   "source": [
    "messages.append(ai_message)\n",
    "messages"
   ]
  },
  {
   "cell_type": "markdown",
   "id": "fbd5fb2c",
   "metadata": {},
   "source": [
    "Using Tool Calls"
   ]
  },
  {
   "cell_type": "code",
   "execution_count": 13,
   "id": "1dbd5e9c",
   "metadata": {},
   "outputs": [
    {
     "data": {
      "text/plain": [
       "[{'name': 'multiply',\n",
       "  'args': {'a': 3, 'b': 2},\n",
       "  'id': 'call_GeeXqupi0tmS4XqxLSEQOVeC',\n",
       "  'type': 'tool_call'}]"
      ]
     },
     "execution_count": 13,
     "metadata": {},
     "output_type": "execute_result"
    }
   ],
   "source": [
    "parsed_tool_calls = parse_tool_calls(\n",
    "  ai_message.additional_kwargs.get(\"tool_calls\")\n",
    ")\n",
    "\n",
    "parsed_tool_calls"
   ]
  },
  {
   "cell_type": "code",
   "execution_count": 14,
   "id": "34bd8cad",
   "metadata": {},
   "outputs": [],
   "source": [
    "for tool_call in parsed_tool_calls:\n",
    "  tool_call_id = tool_call['id']\n",
    "  function_name = tool_call['name']\n",
    "  arguments = tool_call['args']\n",
    "  func = tool_map[function_name]\n",
    "  result = func.invoke(arguments)\n",
    "  \n",
    "  tool_message = ToolMessage(\n",
    "    content=result,\n",
    "    name=function_name,\n",
    "    tool_call_id=tool_call_id\n",
    "  )\n",
    "  messages.append(tool_message)"
   ]
  },
  {
   "cell_type": "markdown",
   "id": "fedc7f8f",
   "metadata": {},
   "source": [
    "Sending the result back to the LLM"
   ]
  },
  {
   "cell_type": "code",
   "execution_count": 15,
   "id": "87df896e",
   "metadata": {},
   "outputs": [
    {
     "data": {
      "text/plain": [
       "[SystemMessage(content=\"You're a helpful assistant\", additional_kwargs={}, response_metadata={}),\n",
       " HumanMessage(content='3 multiplied by 2', additional_kwargs={}, response_metadata={}),\n",
       " AIMessage(content='', additional_kwargs={'tool_calls': [{'id': 'call_GeeXqupi0tmS4XqxLSEQOVeC', 'function': {'arguments': '{\"a\":3,\"b\":2}', 'name': 'multiply'}, 'type': 'function'}], 'refusal': None}, response_metadata={'token_usage': {'completion_tokens': 17, 'prompt_tokens': 54, 'total_tokens': 71, 'completion_tokens_details': {'accepted_prediction_tokens': 0, 'audio_tokens': 0, 'reasoning_tokens': 0, 'rejected_prediction_tokens': 0}, 'prompt_tokens_details': {'audio_tokens': 0, 'cached_tokens': 0}}, 'model_name': 'gpt-4o-mini-2024-07-18', 'system_fingerprint': 'fp_34a54ae93c', 'id': 'chatcmpl-Blj4MbvlWj5DIqqkYIogxLenZbYoH', 'service_tier': 'default', 'finish_reason': 'tool_calls', 'logprobs': None}, id='run--b5531fc8-642b-4372-9e3d-ed2df68f624a-0', tool_calls=[{'name': 'multiply', 'args': {'a': 3, 'b': 2}, 'id': 'call_GeeXqupi0tmS4XqxLSEQOVeC', 'type': 'tool_call'}], usage_metadata={'input_tokens': 54, 'output_tokens': 17, 'total_tokens': 71, 'input_token_details': {'audio': 0, 'cache_read': 0}, 'output_token_details': {'audio': 0, 'reasoning': 0}}),\n",
       " ToolMessage(content='6', name='multiply', tool_call_id='call_GeeXqupi0tmS4XqxLSEQOVeC')]"
      ]
     },
     "execution_count": 15,
     "metadata": {},
     "output_type": "execute_result"
    }
   ],
   "source": [
    "messages"
   ]
  },
  {
   "cell_type": "code",
   "execution_count": 16,
   "id": "6ca4b572",
   "metadata": {},
   "outputs": [],
   "source": [
    "ai_message = llm_with_tools.invoke(messages)"
   ]
  },
  {
   "cell_type": "code",
   "execution_count": 17,
   "id": "43d892ca",
   "metadata": {},
   "outputs": [
    {
     "data": {
      "text/plain": [
       "AIMessage(content='3 multiplied by 2 is 6.', additional_kwargs={'refusal': None}, response_metadata={'token_usage': {'completion_tokens': 10, 'prompt_tokens': 79, 'total_tokens': 89, 'completion_tokens_details': {'accepted_prediction_tokens': 0, 'audio_tokens': 0, 'reasoning_tokens': 0, 'rejected_prediction_tokens': 0}, 'prompt_tokens_details': {'audio_tokens': 0, 'cached_tokens': 0}}, 'model_name': 'gpt-4o-mini-2024-07-18', 'system_fingerprint': 'fp_34a54ae93c', 'id': 'chatcmpl-BljGedblBiDBrGT0gkxCqUZNNrfZz', 'service_tier': 'default', 'finish_reason': 'stop', 'logprobs': None}, id='run--a28cdef0-68a0-41c8-89f2-d6b44489d3f5-0', usage_metadata={'input_tokens': 79, 'output_tokens': 10, 'total_tokens': 89, 'input_token_details': {'audio': 0, 'cache_read': 0}, 'output_token_details': {'audio': 0, 'reasoning': 0}})"
      ]
     },
     "execution_count": 17,
     "metadata": {},
     "output_type": "execute_result"
    }
   ],
   "source": [
    "ai_message"
   ]
  }
 ],
 "metadata": {
  "kernelspec": {
   "display_name": "venv",
   "language": "python",
   "name": "python3"
  },
  "language_info": {
   "codemirror_mode": {
    "name": "ipython",
    "version": 3
   },
   "file_extension": ".py",
   "mimetype": "text/x-python",
   "name": "python",
   "nbconvert_exporter": "python",
   "pygments_lexer": "ipython3",
   "version": "3.12.7"
  }
 },
 "nbformat": 4,
 "nbformat_minor": 5
}
