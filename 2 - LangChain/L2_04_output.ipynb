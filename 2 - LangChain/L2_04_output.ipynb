{
 "cells": [
  {
   "cell_type": "code",
   "execution_count": 2,
   "id": "c48cdb54",
   "metadata": {},
   "outputs": [
    {
     "data": {
      "text/plain": [
       "True"
      ]
     },
     "execution_count": 2,
     "metadata": {},
     "output_type": "execute_result"
    }
   ],
   "source": [
    "from typing import List\n",
    "from langchain_openai import ChatOpenAI\n",
    "from langchain_core.output_parsers import StrOutputParser\n",
    "from langchain.output_parsers.datetime import DatetimeOutputParser\n",
    "from langchain.output_parsers.boolean import BooleanOutputParser\n",
    "from langchain_core.output_parsers import PydanticOutputParser\n",
    "from langchain_core.exceptions import OutputParserException\n",
    "from langchain.output_parsers import OutputFixingParser\n",
    "from dotenv import load_dotenv\n",
    "load_dotenv()"
   ]
  },
  {
   "cell_type": "code",
   "execution_count": 3,
   "id": "ef4c78b6",
   "metadata": {},
   "outputs": [],
   "source": [
    "llm = ChatOpenAI(\n",
    "  model=\"gpt-4o-mini\",\n",
    "  temperature=0.0,\n",
    "  base_url=\"https://openai.vocareum.com/v1\"\n",
    ")"
   ]
  },
  {
   "cell_type": "markdown",
   "id": "e0326647",
   "metadata": {},
   "source": [
    "#### Output Parsers\n",
    "\n",
    "String parsers"
   ]
  },
  {
   "cell_type": "code",
   "execution_count": 4,
   "id": "c5e49430",
   "metadata": {},
   "outputs": [
    {
     "data": {
      "text/plain": [
       "AIMessage(content='Hello! How can I assist you today?', additional_kwargs={'refusal': None}, response_metadata={'token_usage': {'completion_tokens': 9, 'prompt_tokens': 8, 'total_tokens': 17, 'completion_tokens_details': {'accepted_prediction_tokens': 0, 'audio_tokens': 0, 'reasoning_tokens': 0, 'rejected_prediction_tokens': 0}, 'prompt_tokens_details': {'audio_tokens': 0, 'cached_tokens': 0}}, 'model_name': 'gpt-4o-mini-2024-07-18', 'system_fingerprint': 'fp_34a54ae93c', 'id': 'chatcmpl-Bjvj62ptpxrwmSHknneDIeBhWEVDq', 'service_tier': 'default', 'finish_reason': 'stop', 'logprobs': None}, id='run--6d139680-cbca-4cbc-94fa-f6d53001f510-0', usage_metadata={'input_tokens': 8, 'output_tokens': 9, 'total_tokens': 17, 'input_token_details': {'audio': 0, 'cache_read': 0}, 'output_token_details': {'audio': 0, 'reasoning': 0}})"
      ]
     },
     "execution_count": 4,
     "metadata": {},
     "output_type": "execute_result"
    }
   ],
   "source": [
    "llm.invoke(\"Hello\")"
   ]
  },
  {
   "cell_type": "code",
   "execution_count": 5,
   "id": "b17adca2",
   "metadata": {},
   "outputs": [
    {
     "data": {
      "text/plain": [
       "'Hello! How can I assist you today?'"
      ]
     },
     "execution_count": 5,
     "metadata": {},
     "output_type": "execute_result"
    }
   ],
   "source": [
    "llm.invoke(\"hello\").content"
   ]
  },
  {
   "cell_type": "code",
   "execution_count": 6,
   "id": "d113e4e0",
   "metadata": {},
   "outputs": [],
   "source": [
    "parser = StrOutputParser()"
   ]
  },
  {
   "cell_type": "code",
   "execution_count": 7,
   "id": "43a06365",
   "metadata": {},
   "outputs": [
    {
     "data": {
      "text/plain": [
       "'Hello! How can I assist you today?'"
      ]
     },
     "execution_count": 7,
     "metadata": {},
     "output_type": "execute_result"
    }
   ],
   "source": [
    "parser.invoke(\n",
    "  llm.invoke(\"Hello\")\n",
    ")"
   ]
  },
  {
   "cell_type": "markdown",
   "id": "f3685f72",
   "metadata": {},
   "source": [
    "### Other Parsers\n",
    "\n",
    "Datetime"
   ]
  },
  {
   "cell_type": "code",
   "execution_count": 8,
   "id": "53dc6f2b",
   "metadata": {},
   "outputs": [
    {
     "data": {
      "text/plain": [
       "AIMessage(content='2023-05-14T08:23:45.123456Z', additional_kwargs={'refusal': None}, response_metadata={'token_usage': {'completion_tokens': 16, 'prompt_tokens': 35, 'total_tokens': 51, 'completion_tokens_details': {'accepted_prediction_tokens': 0, 'audio_tokens': 0, 'reasoning_tokens': 0, 'rejected_prediction_tokens': 0}, 'prompt_tokens_details': {'audio_tokens': 0, 'cached_tokens': 0}}, 'model_name': 'gpt-4o-mini-2024-07-18', 'system_fingerprint': 'fp_34a54ae93c', 'id': 'chatcmpl-BjvllBrsJrdv66KrZzHDNwrUPfqg9', 'service_tier': 'default', 'finish_reason': 'stop', 'logprobs': None}, id='run--6c445f65-4e24-4c06-a5d1-2607ccf33dbb-0', usage_metadata={'input_tokens': 35, 'output_tokens': 16, 'total_tokens': 51, 'input_token_details': {'audio': 0, 'cache_read': 0}, 'output_token_details': {'audio': 0, 'reasoning': 0}})"
      ]
     },
     "execution_count": 8,
     "metadata": {},
     "output_type": "execute_result"
    }
   ],
   "source": [
    "llm.invoke(\n",
    "  \"Output a random date time in %Y-%m-%dT%H:%M:%S.%fZ. \"\n",
    "  \"Don't say anything else.\"\n",
    ")"
   ]
  },
  {
   "cell_type": "code",
   "execution_count": 9,
   "id": "de34ad86",
   "metadata": {},
   "outputs": [],
   "source": [
    "parser = DatetimeOutputParser()"
   ]
  },
  {
   "cell_type": "code",
   "execution_count": 10,
   "id": "7e864ba6",
   "metadata": {},
   "outputs": [
    {
     "data": {
      "text/plain": [
       "datetime.datetime(2023, 5, 14, 8, 23, 45, 123456)"
      ]
     },
     "execution_count": 10,
     "metadata": {},
     "output_type": "execute_result"
    }
   ],
   "source": [
    "parser.invoke(\n",
    "  llm.invoke(\n",
    "    \"Output a random date time in %Y-%m-%dT%H:%M:%S.%fZ. \"\n",
    "    \"Don't say anything else.\"\n",
    "  )\n",
    ")"
   ]
  },
  {
   "cell_type": "markdown",
   "id": "296a34fe",
   "metadata": {},
   "source": [
    "Boolean"
   ]
  },
  {
   "cell_type": "code",
   "execution_count": 11,
   "id": "636b2a3e",
   "metadata": {},
   "outputs": [
    {
     "data": {
      "text/plain": [
       "AIMessage(content='Yes.', additional_kwargs={'refusal': None}, response_metadata={'token_usage': {'completion_tokens': 2, 'prompt_tokens': 16, 'total_tokens': 18, 'completion_tokens_details': {'accepted_prediction_tokens': 0, 'audio_tokens': 0, 'reasoning_tokens': 0, 'rejected_prediction_tokens': 0}, 'prompt_tokens_details': {'audio_tokens': 0, 'cached_tokens': 0}}, 'model_name': 'gpt-4o-mini-2024-07-18', 'system_fingerprint': 'fp_34a54ae93c', 'id': 'chatcmpl-BjvnnsMPWxF9Om3Vgfa4muWEP9rby', 'service_tier': 'default', 'finish_reason': 'stop', 'logprobs': None}, id='run--ab6985f2-74a7-498f-9936-11dd45aeb6a8-0', usage_metadata={'input_tokens': 16, 'output_tokens': 2, 'total_tokens': 18, 'input_token_details': {'audio': 0, 'cache_read': 0}, 'output_token_details': {'audio': 0, 'reasoning': 0}})"
      ]
     },
     "execution_count": 11,
     "metadata": {},
     "output_type": "execute_result"
    }
   ],
   "source": [
    "llm.invoke(\"Are tour an AI? Yes or no only\")"
   ]
  },
  {
   "cell_type": "code",
   "execution_count": 12,
   "id": "79184dd1",
   "metadata": {},
   "outputs": [],
   "source": [
    "parser = BooleanOutputParser()"
   ]
  },
  {
   "cell_type": "code",
   "execution_count": 13,
   "id": "977f4e67",
   "metadata": {},
   "outputs": [
    {
     "data": {
      "text/plain": [
       "True"
      ]
     },
     "execution_count": 13,
     "metadata": {},
     "output_type": "execute_result"
    }
   ],
   "source": [
    "parser.invoke(\n",
    "  llm.invoke(\"Are tour an AI? Yes or no only\")\n",
    ")"
   ]
  },
  {
   "cell_type": "markdown",
   "id": "d9338720",
   "metadata": {},
   "source": [
    "### Structured\n",
    "\n",
    "Dict Schema"
   ]
  },
  {
   "cell_type": "code",
   "execution_count": 14,
   "id": "46e5331b",
   "metadata": {},
   "outputs": [],
   "source": [
    "from typing_extensions import Annotated, TypedDict\n",
    "\n",
    "class UserInfo(TypedDict):\n",
    "  \"\"\"User's info.\"\"\"\n",
    "  name: Annotated[str, \"\", \"User's name, Defaults to ''\"]\n",
    "  country: Annotated[str, \"\", \"Where the user lives. Defaults to ''\"]"
   ]
  },
  {
   "cell_type": "code",
   "execution_count": 15,
   "id": "c465ed93",
   "metadata": {},
   "outputs": [],
   "source": [
    "llm_with_structure = llm.with_structured_output(UserInfo)"
   ]
  },
  {
   "cell_type": "code",
   "execution_count": 16,
   "id": "fb74e698",
   "metadata": {},
   "outputs": [
    {
     "data": {
      "text/plain": [
       "{'name': 'Henrique', 'country': 'Brazil'}"
      ]
     },
     "execution_count": 16,
     "metadata": {},
     "output_type": "execute_result"
    }
   ],
   "source": [
    "llm_with_structure.invoke(\"My name is Henrique, and I am from Brazil.\")"
   ]
  },
  {
   "cell_type": "code",
   "execution_count": 17,
   "id": "a44d0adf",
   "metadata": {},
   "outputs": [
    {
     "data": {
      "text/plain": [
       "{'name': '', 'country': ''}"
      ]
     },
     "execution_count": 17,
     "metadata": {},
     "output_type": "execute_result"
    }
   ],
   "source": [
    "llm_with_structure.invoke(\"The sky is blue.\")"
   ]
  },
  {
   "cell_type": "code",
   "execution_count": 18,
   "id": "820d99b4",
   "metadata": {},
   "outputs": [
    {
     "data": {
      "text/plain": [
       "{'name': 'Washington', 'country': 'Australia'}"
      ]
     },
     "execution_count": 18,
     "metadata": {},
     "output_type": "execute_result"
    }
   ],
   "source": [
    "llm_with_structure.invoke(\n",
    "  \"Hello, my name is the same as the capital of the U.S. \"\n",
    "  \"But I'm from a country where we usually associate with kangaroos.\"\n",
    ")"
   ]
  },
  {
   "cell_type": "markdown",
   "id": "780c2fa1",
   "metadata": {},
   "source": [
    "Pydantic"
   ]
  },
  {
   "cell_type": "code",
   "execution_count": 19,
   "id": "ce64590f",
   "metadata": {},
   "outputs": [],
   "source": [
    "from pydantic import BaseModel, Field\n",
    "\n",
    "class PydanticUserInfo(BaseModel):\n",
    "  \"\"\"User's info.\"\"\"\n",
    "  name: Annotated[str, Field(description=\"User's name, Defaults to ''\", defaul=None)]\n",
    "  country: Annotated[str, Field(description=\"Where the user lives. Defaults to ''\", default=None)]"
   ]
  },
  {
   "cell_type": "code",
   "execution_count": 20,
   "id": "c47d4fd4",
   "metadata": {},
   "outputs": [],
   "source": [
    "llm_with_structure = llm.with_structured_output(PydanticUserInfo)"
   ]
  },
  {
   "cell_type": "code",
   "execution_count": 21,
   "id": "094e28c8",
   "metadata": {},
   "outputs": [],
   "source": [
    "structured_output = llm_with_structure.invoke(\n",
    "  \"The sky is blue\"\n",
    ")"
   ]
  },
  {
   "cell_type": "code",
   "execution_count": 22,
   "id": "8c77c1fa",
   "metadata": {},
   "outputs": [
    {
     "data": {
      "text/plain": [
       "PydanticUserInfo(name='', country='')"
      ]
     },
     "execution_count": 22,
     "metadata": {},
     "output_type": "execute_result"
    }
   ],
   "source": [
    "structured_output"
   ]
  },
  {
   "cell_type": "code",
   "execution_count": 23,
   "id": "7fb4559a",
   "metadata": {},
   "outputs": [],
   "source": [
    "structured_output = llm_with_structure.invoke(\n",
    "  \"Hello, my name is the same as the capital of the U.S. \"\n",
    "  \"But I'm from a country where we usually associate with kangaroos.\"\n",
    ")"
   ]
  },
  {
   "cell_type": "code",
   "execution_count": 24,
   "id": "bedd79f8",
   "metadata": {},
   "outputs": [
    {
     "data": {
      "text/plain": [
       "PydanticUserInfo(name='Washington', country='Australia')"
      ]
     },
     "execution_count": 24,
     "metadata": {},
     "output_type": "execute_result"
    }
   ],
   "source": [
    "structured_output"
   ]
  },
  {
   "cell_type": "markdown",
   "id": "a5b4abbb",
   "metadata": {},
   "source": [
    "### Dealing with Errors"
   ]
  },
  {
   "cell_type": "code",
   "execution_count": 25,
   "id": "574a5100",
   "metadata": {},
   "outputs": [],
   "source": [
    "class Performer(BaseModel):\n",
    "  \"\"\"FIlmography info about an actor/actress.\"\"\"\n",
    "  name: Annotated[str, Field(description=\"name of an actor/actress\")]\n",
    "  film_names: Annotated[List[str], Field(description=\"List of names of films they starred in\")]"
   ]
  },
  {
   "cell_type": "code",
   "execution_count": 26,
   "id": "643c3186",
   "metadata": {},
   "outputs": [],
   "source": [
    "llm_with_structure = llm.with_structured_output(Performer)"
   ]
  },
  {
   "cell_type": "code",
   "execution_count": 27,
   "id": "a2e541c4",
   "metadata": {},
   "outputs": [
    {
     "data": {
      "text/plain": [
       "Performer(name='Scarlett Johansson', film_names=['Lost in Translation (2003)', 'The Avengers (2012)', 'Her (2013)', 'Lucy (2014)', 'Marriage Story (2019)'])"
      ]
     },
     "execution_count": 27,
     "metadata": {},
     "output_type": "execute_result"
    }
   ],
   "source": [
    "response = llm_with_structure.invoke(\n",
    "  \"Generate the filmography for Scarlett Johansson. Top 5 only\"\n",
    ")\n",
    "\n",
    "response"
   ]
  },
  {
   "cell_type": "markdown",
   "id": "a3674ee6",
   "metadata": {},
   "source": [
    "Fixing Parser"
   ]
  },
  {
   "cell_type": "code",
   "execution_count": 28,
   "id": "2b89f7eb",
   "metadata": {},
   "outputs": [
    {
     "name": "stderr",
     "output_type": "stream",
     "text": [
      "/tmp/ipykernel_50201/690762135.py:1: PydanticDeprecatedSince20: The `json` method is deprecated; use `model_dump_json` instead. Deprecated in Pydantic V2.0 to be removed in V3.0. See Pydantic V2 Migration Guide at https://errors.pydantic.dev/2.11/migration/\n",
      "  response.json()\n"
     ]
    },
    {
     "data": {
      "text/plain": [
       "'{\"name\":\"Scarlett Johansson\",\"film_names\":[\"Lost in Translation (2003)\",\"The Avengers (2012)\",\"Her (2013)\",\"Lucy (2014)\",\"Marriage Story (2019)\"]}'"
      ]
     },
     "execution_count": 28,
     "metadata": {},
     "output_type": "execute_result"
    }
   ],
   "source": [
    "response.json()"
   ]
  },
  {
   "cell_type": "code",
   "execution_count": 31,
   "id": "83777d73",
   "metadata": {},
   "outputs": [],
   "source": [
    "parser = PydanticOutputParser(pydantic_object=Performer)"
   ]
  },
  {
   "cell_type": "code",
   "execution_count": 32,
   "id": "1f4c7c87",
   "metadata": {},
   "outputs": [
    {
     "name": "stderr",
     "output_type": "stream",
     "text": [
      "/tmp/ipykernel_50201/2130552313.py:1: PydanticDeprecatedSince20: The `json` method is deprecated; use `model_dump_json` instead. Deprecated in Pydantic V2.0 to be removed in V3.0. See Pydantic V2 Migration Guide at https://errors.pydantic.dev/2.11/migration/\n",
      "  parser.parse(response.json())\n"
     ]
    },
    {
     "data": {
      "text/plain": [
       "Performer(name='Scarlett Johansson', film_names=['Lost in Translation (2003)', 'The Avengers (2012)', 'Her (2013)', 'Lucy (2014)', 'Marriage Story (2019)'])"
      ]
     },
     "execution_count": 32,
     "metadata": {},
     "output_type": "execute_result"
    }
   ],
   "source": [
    "parser.parse(response.json())"
   ]
  },
  {
   "cell_type": "code",
   "execution_count": 33,
   "id": "a669f5c0",
   "metadata": {},
   "outputs": [],
   "source": [
    "missformatted_result = \"{'name': 'Scarlett Johansson', 'film_names': ['The Avengers']}\""
   ]
  },
  {
   "cell_type": "code",
   "execution_count": 34,
   "id": "7ec73657",
   "metadata": {},
   "outputs": [
    {
     "name": "stdout",
     "output_type": "stream",
     "text": [
      "Error parsing output: Invalid json output: {'name': 'Scarlett Johansson', 'film_names': ['The Avengers']}\n",
      "For troubleshooting, visit: https://python.langchain.com/docs/troubleshooting/errors/OUTPUT_PARSING_FAILURE \n"
     ]
    }
   ],
   "source": [
    "try:\n",
    "  parser.parse(missformatted_result)\n",
    "except OutputParserException as e:\n",
    "  print(f\"Error parsing output: {e}\")"
   ]
  },
  {
   "cell_type": "code",
   "execution_count": 35,
   "id": "e470814e",
   "metadata": {},
   "outputs": [],
   "source": [
    "new_parser = OutputFixingParser.from_llm(\n",
    "  llm=llm,\n",
    "  parser=parser,\n",
    ")"
   ]
  },
  {
   "cell_type": "code",
   "execution_count": 36,
   "id": "e96ff62c",
   "metadata": {},
   "outputs": [
    {
     "data": {
      "text/plain": [
       "Performer(name='Scarlett Johansson', film_names=['The Avengers', 'Lost in Translation', 'Marriage Story', 'Black Widow'])"
      ]
     },
     "execution_count": 36,
     "metadata": {},
     "output_type": "execute_result"
    }
   ],
   "source": [
    "new_parser.parse(missformatted_result)"
   ]
  }
 ],
 "metadata": {
  "kernelspec": {
   "display_name": "venv",
   "language": "python",
   "name": "python3"
  },
  "language_info": {
   "codemirror_mode": {
    "name": "ipython",
    "version": 3
   },
   "file_extension": ".py",
   "mimetype": "text/x-python",
   "name": "python",
   "nbconvert_exporter": "python",
   "pygments_lexer": "ipython3",
   "version": "3.12.7"
  }
 },
 "nbformat": 4,
 "nbformat_minor": 5
}
