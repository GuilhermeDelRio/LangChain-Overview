{
 "cells": [
  {
   "cell_type": "code",
   "execution_count": 1,
   "id": "c48cdb54",
   "metadata": {},
   "outputs": [
    {
     "data": {
      "text/plain": [
       "True"
      ]
     },
     "execution_count": 1,
     "metadata": {},
     "output_type": "execute_result"
    }
   ],
   "source": [
    "from langchain_openai import ChatOpenAI\n",
    "from langchain_core.messages import HumanMessage, SystemMessage, AIMessage\n",
    "from langchain_core.prompts import PromptTemplate, FewShotPromptTemplate\n",
    "from dotenv import load_dotenv\n",
    "load_dotenv()"
   ]
  },
  {
   "cell_type": "code",
   "execution_count": 2,
   "id": "ef4c78b6",
   "metadata": {},
   "outputs": [],
   "source": [
    "llm = ChatOpenAI(\n",
    "  model=\"gpt-4o-mini\",\n",
    "  temperature=0.0,\n",
    "  base_url=\"https://openai.vocareum.com/v1\"\n",
    ")"
   ]
  },
  {
   "cell_type": "code",
   "execution_count": 3,
   "id": "82c197bc",
   "metadata": {},
   "outputs": [
    {
     "data": {
      "text/plain": [
       "AIMessage(content='Hello! How can I assist you today?', additional_kwargs={'refusal': None}, response_metadata={'token_usage': {'completion_tokens': 9, 'prompt_tokens': 9, 'total_tokens': 18, 'completion_tokens_details': {'accepted_prediction_tokens': 0, 'audio_tokens': 0, 'reasoning_tokens': 0, 'rejected_prediction_tokens': 0}, 'prompt_tokens_details': {'audio_tokens': 0, 'cached_tokens': 0}}, 'model_name': 'gpt-4o-mini-2024-07-18', 'system_fingerprint': 'fp_34a54ae93c', 'id': 'chatcmpl-Blj2CqjF5x7zrjpJWMkrx2s6e4M1H', 'service_tier': 'default', 'finish_reason': 'stop', 'logprobs': None}, id='run--d64e1aee-4b0c-4d1c-ab6d-3b8b90fe08a4-0', usage_metadata={'input_tokens': 9, 'output_tokens': 9, 'total_tokens': 18, 'input_token_details': {'audio': 0, 'cache_read': 0}, 'output_token_details': {'audio': 0, 'reasoning': 0}})"
      ]
     },
     "execution_count": 3,
     "metadata": {},
     "output_type": "execute_result"
    }
   ],
   "source": [
    "llm.invoke(\"Hello there\")"
   ]
  },
  {
   "cell_type": "code",
   "execution_count": 4,
   "id": "b67860e6",
   "metadata": {},
   "outputs": [
    {
     "data": {
      "text/plain": [
       "AIMessage(content='The capital of Brazil is Brasília. It was officially inaugurated as the capital on April 21, 1960, and was designed by the architect Oscar Niemeyer and urban planner Lúcio Costa.', additional_kwargs={'refusal': None}, response_metadata={'token_usage': {'completion_tokens': 40, 'prompt_tokens': 24, 'total_tokens': 64, 'completion_tokens_details': {'accepted_prediction_tokens': 0, 'audio_tokens': 0, 'reasoning_tokens': 0, 'rejected_prediction_tokens': 0}, 'prompt_tokens_details': {'audio_tokens': 0, 'cached_tokens': 0}}, 'model_name': 'gpt-4o-mini-2024-07-18', 'system_fingerprint': 'fp_34a54ae93c', 'id': 'chatcmpl-Blj2DfInks4yRxoqzZqhppv94B9wn', 'service_tier': 'default', 'finish_reason': 'stop', 'logprobs': None}, id='run--a155cbfb-ad7e-4d82-bf00-94c67ea06c19-0', usage_metadata={'input_tokens': 24, 'output_tokens': 40, 'total_tokens': 64, 'input_token_details': {'audio': 0, 'cache_read': 0}, 'output_token_details': {'audio': 0, 'reasoning': 0}})"
      ]
     },
     "execution_count": 4,
     "metadata": {},
     "output_type": "execute_result"
    }
   ],
   "source": [
    "messages = [\n",
    "  SystemMessage(\"You are a geography tutor.\"),\n",
    "  HumanMessage(\"What is the capital of Brazil?\"),\n",
    "]\n",
    "\n",
    "llm.invoke(messages)"
   ]
  },
  {
   "cell_type": "code",
   "execution_count": 5,
   "id": "c5b9b4d3",
   "metadata": {},
   "outputs": [
    {
     "data": {
      "text/plain": [
       "AIMessage(content='The capital of Canada is Ottawa.', additional_kwargs={'refusal': None}, response_metadata={'token_usage': {'completion_tokens': 7, 'prompt_tokens': 46, 'total_tokens': 53, 'completion_tokens_details': {'accepted_prediction_tokens': 0, 'audio_tokens': 0, 'reasoning_tokens': 0, 'rejected_prediction_tokens': 0}, 'prompt_tokens_details': {'audio_tokens': 0, 'cached_tokens': 0}}, 'model_name': 'gpt-4o-mini-2024-07-18', 'system_fingerprint': 'fp_34a54ae93c', 'id': 'chatcmpl-Blj2F8n5Ql3bzikRZYf1HyejPv4w2', 'service_tier': 'default', 'finish_reason': 'stop', 'logprobs': None}, id='run--57a157a8-38f5-4286-86f5-667f008391af-0', usage_metadata={'input_tokens': 46, 'output_tokens': 7, 'total_tokens': 53, 'input_token_details': {'audio': 0, 'cache_read': 0}, 'output_token_details': {'audio': 0, 'reasoning': 0}})"
      ]
     },
     "execution_count": 5,
     "metadata": {},
     "output_type": "execute_result"
    }
   ],
   "source": [
    "messages = [\n",
    "  SystemMessage(\"You are a geography tutor.\"),\n",
    "  HumanMessage(\"What is the capital of Brazil?\"),\n",
    "  AIMessage(\"The capital of Brazil is Brasília.\"),\n",
    "  HumanMessage(\"What is the capital of Canada?\"),\n",
    "]\n",
    "\n",
    "llm.invoke(messages)"
   ]
  },
  {
   "cell_type": "markdown",
   "id": "b76769b8",
   "metadata": {},
   "source": [
    "Pure Python prompts: f-strings and str.format()"
   ]
  },
  {
   "cell_type": "code",
   "execution_count": 6,
   "id": "2ac3e5fa",
   "metadata": {},
   "outputs": [
    {
     "data": {
      "text/plain": [
       "AIMessage(content='Why do Python programmers prefer dark mode?\\n\\nBecause light attracts bugs! 🐍✨', additional_kwargs={'refusal': None}, response_metadata={'token_usage': {'completion_tokens': 17, 'prompt_tokens': 13, 'total_tokens': 30, 'completion_tokens_details': {'accepted_prediction_tokens': 0, 'audio_tokens': 0, 'reasoning_tokens': 0, 'rejected_prediction_tokens': 0}, 'prompt_tokens_details': {'audio_tokens': 0, 'cached_tokens': 0}}, 'model_name': 'gpt-4o-mini-2024-07-18', 'system_fingerprint': 'fp_34a54ae93c', 'id': 'chatcmpl-Blj2GJBAXv6vMKyFGpMbJi4NIlRX0', 'service_tier': 'default', 'finish_reason': 'stop', 'logprobs': None}, id='run--916722ee-607c-4bb7-8520-4fbf734e6c86-0', usage_metadata={'input_tokens': 13, 'output_tokens': 17, 'total_tokens': 30, 'input_token_details': {'audio': 0, 'cache_read': 0}, 'output_token_details': {'audio': 0, 'reasoning': 0}})"
      ]
     },
     "execution_count": 6,
     "metadata": {},
     "output_type": "execute_result"
    }
   ],
   "source": [
    "topic = \"Python\"\n",
    "prompt = f\"Tell me a joke about {topic}\"\n",
    "llm.invoke(prompt)"
   ]
  },
  {
   "cell_type": "code",
   "execution_count": 7,
   "id": "c1f69c2a",
   "metadata": {},
   "outputs": [
    {
     "data": {
      "text/plain": [
       "AIMessage(content='Why do Python programmers prefer dark mode?\\n\\nBecause light attracts bugs!', additional_kwargs={'refusal': None}, response_metadata={'token_usage': {'completion_tokens': 13, 'prompt_tokens': 13, 'total_tokens': 26, 'completion_tokens_details': {'accepted_prediction_tokens': 0, 'audio_tokens': 0, 'reasoning_tokens': 0, 'rejected_prediction_tokens': 0}, 'prompt_tokens_details': {'audio_tokens': 0, 'cached_tokens': 0}}, 'model_name': 'gpt-4o-mini-2024-07-18', 'system_fingerprint': 'fp_34a54ae93c', 'id': 'chatcmpl-Blj2HuSyDaWV4BcJbc3rDmR1WOhMb', 'service_tier': 'default', 'finish_reason': 'stop', 'logprobs': None}, id='run--531d3a8f-c7d3-4264-b48f-10be95082224-0', usage_metadata={'input_tokens': 13, 'output_tokens': 13, 'total_tokens': 26, 'input_token_details': {'audio': 0, 'cache_read': 0}, 'output_token_details': {'audio': 0, 'reasoning': 0}})"
      ]
     },
     "execution_count": 7,
     "metadata": {},
     "output_type": "execute_result"
    }
   ],
   "source": [
    "prompt = \"Tell me a joke about {topic}\"\n",
    "llm.invoke(prompt.format(topic = \"Python\"))"
   ]
  },
  {
   "cell_type": "markdown",
   "id": "8519cb65",
   "metadata": {},
   "source": [
    "Prompt Templates"
   ]
  },
  {
   "cell_type": "code",
   "execution_count": 8,
   "id": "586e8ac9",
   "metadata": {},
   "outputs": [],
   "source": [
    "prompt_template = PromptTemplate(\n",
    "  template=\"Tell me a joke about {topic}\",\n",
    ")"
   ]
  },
  {
   "cell_type": "code",
   "execution_count": 9,
   "id": "741713ce",
   "metadata": {},
   "outputs": [
    {
     "data": {
      "text/plain": [
       "StringPromptValue(text='Tell me a joke about Python')"
      ]
     },
     "execution_count": 9,
     "metadata": {},
     "output_type": "execute_result"
    }
   ],
   "source": [
    "prompt_template.invoke({\"topic\": \"Python\"})"
   ]
  },
  {
   "cell_type": "code",
   "execution_count": 10,
   "id": "9cbd8245",
   "metadata": {},
   "outputs": [
    {
     "data": {
      "text/plain": [
       "AIMessage(content='Why do Python programmers prefer dark mode?\\n\\nBecause light attracts bugs!', additional_kwargs={'refusal': None}, response_metadata={'token_usage': {'completion_tokens': 13, 'prompt_tokens': 13, 'total_tokens': 26, 'completion_tokens_details': {'accepted_prediction_tokens': 0, 'audio_tokens': 0, 'reasoning_tokens': 0, 'rejected_prediction_tokens': 0}, 'prompt_tokens_details': {'audio_tokens': 0, 'cached_tokens': 0}}, 'model_name': 'gpt-4o-mini-2024-07-18', 'system_fingerprint': 'fp_34a54ae93c', 'id': 'chatcmpl-Blj2IOzuffdazoWiwrFipiGx9Cgz1', 'service_tier': 'default', 'finish_reason': 'stop', 'logprobs': None}, id='run--a89631ce-946a-414d-9971-bdadb381c9eb-0', usage_metadata={'input_tokens': 13, 'output_tokens': 13, 'total_tokens': 26, 'input_token_details': {'audio': 0, 'cache_read': 0}, 'output_token_details': {'audio': 0, 'reasoning': 0}})"
      ]
     },
     "execution_count": 10,
     "metadata": {},
     "output_type": "execute_result"
    }
   ],
   "source": [
    "llm.invoke(\n",
    "  prompt_template.invoke({\"topic\": \"Python\"}),\n",
    ")"
   ]
  },
  {
   "cell_type": "markdown",
   "id": "fced450c",
   "metadata": {},
   "source": [
    "Few Shot Prompt"
   ]
  },
  {
   "cell_type": "code",
   "execution_count": 11,
   "id": "f88aa3cf",
   "metadata": {},
   "outputs": [],
   "source": [
    "exemple_prompt = PromptTemplate(\n",
    "  template = \"Question: {input}\\nThought: {thought}\\nResponse: {output}\",\n",
    ")"
   ]
  },
  {
   "cell_type": "code",
   "execution_count": 12,
   "id": "41736e4b",
   "metadata": {},
   "outputs": [],
   "source": [
    "exemples = [\n",
    "  {\n",
    "    \"input\": \"A train leaves city A for city B at 60km/h, and another train leaves city B for city A at 40km/h. If the distance between the two cities is 300km, how long will it take for the two trains to meet?\",\n",
    "    \"thought\": \"The trains are moving towards each other, so their relative speed is 60 + 40 = 100 km/h. The time it takes for them to meet is the distance divided by their relative speed: 300 km / 100 km/h = 3 hours.\",\n",
    "    \"output\": \"3 hours\"\n",
    "  },\n",
    "  {\n",
    "    \"input\": \"If a store applies a 20 percent discount on an item that costs $50, what is the final price after the discount?\",\n",
    "    \"thought\": \"A 20 percente discount means multiplying by 0.8. So the final price is $50 * 0.8 = $40.\",\n",
    "    \"output\": \"40\"\n",
    "  }\n",
    "]"
   ]
  },
  {
   "cell_type": "code",
   "execution_count": 13,
   "id": "737109e2",
   "metadata": {},
   "outputs": [],
   "source": [
    "prompt_template = FewShotPromptTemplate(\n",
    "  examples=exemples,\n",
    "  example_prompt=exemple_prompt,\n",
    "  suffix=\"Question: {input}\",\n",
    "  input_variables=[\"input\"]\n",
    ")"
   ]
  },
  {
   "cell_type": "code",
   "execution_count": 14,
   "id": "e615fe2c",
   "metadata": {},
   "outputs": [
    {
     "name": "stdout",
     "output_type": "stream",
     "text": [
      "To find out what day it will be in 10 days from Wednesday, we can calculate the number of weeks and extra days. \n",
      "\n",
      "10 days is equivalent to 1 week and 3 days (since 10 divided by 7 gives us 1 week and a remainder of 3 days). \n",
      "\n",
      "Starting from Wednesday:\n",
      "- 1 week later, it will still be Wednesday.\n",
      "- Adding 3 more days: \n",
      "  - Thursday (1 day)\n",
      "  - Friday (2 days)\n",
      "  - Saturday (3 days)\n",
      "\n",
      "So, in 10 days, it will be Saturday. \n",
      "\n",
      "Response: Saturday\n"
     ]
    }
   ],
   "source": [
    "response = llm.invoke(\n",
    "  prompt_template.invoke({\"input\": \"If today is Wednesday, what day will it be in 10 days?\"}),\n",
    ")\n",
    "\n",
    "print(response.content)  "
   ]
  }
 ],
 "metadata": {
  "kernelspec": {
   "display_name": "venv",
   "language": "python",
   "name": "python3"
  },
  "language_info": {
   "codemirror_mode": {
    "name": "ipython",
    "version": 3
   },
   "file_extension": ".py",
   "mimetype": "text/x-python",
   "name": "python",
   "nbconvert_exporter": "python",
   "pygments_lexer": "ipython3",
   "version": "3.12.7"
  }
 },
 "nbformat": 4,
 "nbformat_minor": 5
}
