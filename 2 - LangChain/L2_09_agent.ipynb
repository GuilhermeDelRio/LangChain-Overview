{
 "cells": [
  {
   "cell_type": "code",
   "execution_count": 12,
   "id": "c48cdb54",
   "metadata": {},
   "outputs": [
    {
     "data": {
      "text/plain": [
       "True"
      ]
     },
     "execution_count": 12,
     "metadata": {},
     "output_type": "execute_result"
    }
   ],
   "source": [
    "from typing import List, Dict\n",
    "from langchain_openai import ChatOpenAI\n",
    "from langchain_core.messages import (\n",
    "  AIMessage,\n",
    "  HumanMessage,\n",
    "  SystemMessage,\n",
    "  ToolMessage\n",
    ")\n",
    "from langchain_core.tools.structured import StructuredTool\n",
    "from langchain.tools import tool\n",
    "from langchain_core.output_parsers.openai_tools import parse_tool_calls\n",
    "from dotenv import load_dotenv\n",
    "load_dotenv()"
   ]
  },
  {
   "cell_type": "code",
   "execution_count": 13,
   "id": "ef4c78b6",
   "metadata": {},
   "outputs": [],
   "source": [
    "llm = ChatOpenAI(\n",
    "  model=\"gpt-4o-mini\",\n",
    "  temperature=0.0,\n",
    "  base_url=\"https://openai.vocareum.com/v1\"\n",
    ")"
   ]
  },
  {
   "cell_type": "markdown",
   "id": "b0f2b428",
   "metadata": {},
   "source": [
    "The Agent Class"
   ]
  },
  {
   "cell_type": "code",
   "execution_count": 14,
   "id": "cc9f7d75",
   "metadata": {},
   "outputs": [],
   "source": [
    "class Agent:\n",
    "  def __init__(self,\n",
    "               name:str=\"AI Agent\",\n",
    "               role:str=\"Personal Assistant\",\n",
    "               instructions:str=\"Help users with any question\",\n",
    "               tools:List[StructuredTool]=[]):\n",
    "    \n",
    "    self.name = name\n",
    "    self.role = role\n",
    "    self.instructions = instructions\n",
    "    self.llm = llm\n",
    "    \n",
    "    self.tools = tools\n",
    "    self.tool_map = {tool.name:tool for tool in tools}\n",
    "    self.memory = [\n",
    "      SystemMessage(\n",
    "        content=f\"You're {self.name}, your role is {self.role}, \"\n",
    "                f\"and you need to {self.instructions}\"\n",
    "      ),\n",
    "    ]\n",
    "  \n",
    "  def invoke(self, user_message:str):\n",
    "    self.memory.append(HumanMessage(content=user_message))\n",
    "    ai_message = self._invoke_llm()\n",
    "    \n",
    "    tool_calls = ai_message.additional_kwargs.get('tool_calls')\n",
    "    if tool_calls:\n",
    "      self._call_tools(tool_calls)\n",
    "      self._invoke_llm()\n",
    "    \n",
    "    return self.memory[-1].content\n",
    "  \n",
    "  def _invoke_llm(self) -> AIMessage:\n",
    "    llm = self.llm.bind_tools(self.tools)\n",
    "    ai_message = llm.invoke(self.memory)\n",
    "    self.memory.append(ai_message)\n",
    "    return ai_message\n",
    "\n",
    "  def _call_tools(self, tool_calls:List[Dict]):\n",
    "    parsed_tool_calls = parse_tool_calls(tool_calls)\n",
    "    for tool_call in parsed_tool_calls:\n",
    "      tool_call_id = tool_call['id']\n",
    "      function_name = tool_call['name']\n",
    "      arguments = tool_call['args']\n",
    "      func = self.tool_map[function_name]\n",
    "      result = func.invoke(arguments)\n",
    "      tool_message = ToolMessage(\n",
    "        content=result,\n",
    "        name=function_name,\n",
    "        tool_call_id=tool_call_id\n",
    "      )\n",
    "      self.memory.append(tool_message)\n"
   ]
  },
  {
   "cell_type": "code",
   "execution_count": 15,
   "id": "20816cb7",
   "metadata": {},
   "outputs": [],
   "source": [
    "@tool\n",
    "def multiply(a:int, b:int) -> int:\n",
    "  \"\"\"Multiply two numbers\"\"\"\n",
    "  return a * b"
   ]
  },
  {
   "cell_type": "code",
   "execution_count": 16,
   "id": "0e7e7398",
   "metadata": {},
   "outputs": [],
   "source": [
    "agent = Agent(\n",
    "  tools=[multiply]\n",
    ")"
   ]
  },
  {
   "cell_type": "code",
   "execution_count": 17,
   "id": "63dc243f",
   "metadata": {},
   "outputs": [
    {
     "data": {
      "text/plain": [
       "'2 multiplied by 2 is 4.'"
      ]
     },
     "execution_count": 17,
     "metadata": {},
     "output_type": "execute_result"
    }
   ],
   "source": [
    "agent.invoke(\"2 multiplied by 2\")"
   ]
  },
  {
   "cell_type": "code",
   "execution_count": 18,
   "id": "495a90f3",
   "metadata": {},
   "outputs": [
    {
     "data": {
      "text/plain": [
       "[SystemMessage(content=\"You're AI Agent, your role is Personal Assistant, and you need to Help users with any question\", additional_kwargs={}, response_metadata={}),\n",
       " HumanMessage(content='2 multiplied by 2', additional_kwargs={}, response_metadata={}),\n",
       " AIMessage(content='', additional_kwargs={'tool_calls': [{'id': 'call_HaJPxmHpgVAANwbcWtLu7zLL', 'function': {'arguments': '{\"a\":2,\"b\":2}', 'name': 'multiply'}, 'type': 'function'}], 'refusal': None}, response_metadata={'token_usage': {'completion_tokens': 17, 'prompt_tokens': 69, 'total_tokens': 86, 'completion_tokens_details': {'accepted_prediction_tokens': 0, 'audio_tokens': 0, 'reasoning_tokens': 0, 'rejected_prediction_tokens': 0}, 'prompt_tokens_details': {'audio_tokens': 0, 'cached_tokens': 0}}, 'model_name': 'gpt-4o-mini-2024-07-18', 'system_fingerprint': 'fp_34a54ae93c', 'id': 'chatcmpl-BljlNA9odEKm3Q1iYxlszOc8havDs', 'service_tier': 'default', 'finish_reason': 'tool_calls', 'logprobs': None}, id='run--31e0830e-8366-46bd-ad77-cc0304eaec9b-0', tool_calls=[{'name': 'multiply', 'args': {'a': 2, 'b': 2}, 'id': 'call_HaJPxmHpgVAANwbcWtLu7zLL', 'type': 'tool_call'}], usage_metadata={'input_tokens': 69, 'output_tokens': 17, 'total_tokens': 86, 'input_token_details': {'audio': 0, 'cache_read': 0}, 'output_token_details': {'audio': 0, 'reasoning': 0}}),\n",
       " ToolMessage(content='4', name='multiply', tool_call_id='call_HaJPxmHpgVAANwbcWtLu7zLL'),\n",
       " AIMessage(content='2 multiplied by 2 is 4.', additional_kwargs={'refusal': None}, response_metadata={'token_usage': {'completion_tokens': 10, 'prompt_tokens': 94, 'total_tokens': 104, 'completion_tokens_details': {'accepted_prediction_tokens': 0, 'audio_tokens': 0, 'reasoning_tokens': 0, 'rejected_prediction_tokens': 0}, 'prompt_tokens_details': {'audio_tokens': 0, 'cached_tokens': 0}}, 'model_name': 'gpt-4o-mini-2024-07-18', 'system_fingerprint': 'fp_34a54ae93c', 'id': 'chatcmpl-BljlOywj0XuTvIXbf8zkUAL7NCChW', 'service_tier': 'default', 'finish_reason': 'stop', 'logprobs': None}, id='run--b911e478-a7a8-4c2f-ba7a-79c6a336e636-0', usage_metadata={'input_tokens': 94, 'output_tokens': 10, 'total_tokens': 104, 'input_token_details': {'audio': 0, 'cache_read': 0}, 'output_token_details': {'audio': 0, 'reasoning': 0}})]"
      ]
     },
     "execution_count": 18,
     "metadata": {},
     "output_type": "execute_result"
    }
   ],
   "source": [
    "agent.memory"
   ]
  }
 ],
 "metadata": {
  "kernelspec": {
   "display_name": "venv",
   "language": "python",
   "name": "python3"
  },
  "language_info": {
   "codemirror_mode": {
    "name": "ipython",
    "version": 3
   },
   "file_extension": ".py",
   "mimetype": "text/x-python",
   "name": "python",
   "nbconvert_exporter": "python",
   "pygments_lexer": "ipython3",
   "version": "3.12.7"
  }
 },
 "nbformat": 4,
 "nbformat_minor": 5
}
